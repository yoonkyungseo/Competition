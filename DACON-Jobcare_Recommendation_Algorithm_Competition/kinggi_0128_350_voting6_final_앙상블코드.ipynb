{
 "cells": [
  {
   "cell_type": "code",
   "execution_count": 1,
   "id": "8227bd86",
   "metadata": {
    "ExecuteTime": {
     "end_time": "2022-02-02T06:16:48.002468Z",
     "start_time": "2022-02-02T06:16:47.560823Z"
    }
   },
   "outputs": [],
   "source": [
    "import pandas as pd"
   ]
  },
  {
   "cell_type": "code",
   "execution_count": 13,
   "id": "132e5d4a",
   "metadata": {
    "ExecuteTime": {
     "end_time": "2022-02-02T06:17:58.941958Z",
     "start_time": "2022-02-02T06:17:58.745998Z"
    }
   },
   "outputs": [],
   "source": [
    "ms = pd.read_csv(\"submission/predproba0125_375_0.70423.csv\")\n",
    "jp = pd.read_csv(\"submission/jp_0124_1_proba.csv\")\n",
    "sh = pd.read_csv(\"submission/0123_sh_70435_proba.csv\")\n",
    "ks = pd.read_csv(\"submission/ks_220127_0501_proba.csv\")"
   ]
  },
  {
   "cell_type": "code",
   "execution_count": 14,
   "id": "f48dcc6d",
   "metadata": {
    "ExecuteTime": {
     "end_time": "2022-02-02T06:17:59.130650Z",
     "start_time": "2022-02-02T06:17:59.112023Z"
    }
   },
   "outputs": [],
   "source": [
    "jp['target'] = jp.mean(axis=1)\n",
    "sh['target'] = sh.mean(axis=1)\n",
    "ks['target'] = ks.mean(axis=1)"
   ]
  },
  {
   "cell_type": "code",
   "execution_count": 15,
   "id": "5a30d91b",
   "metadata": {
    "ExecuteTime": {
     "end_time": "2022-02-02T06:17:59.457942Z",
     "start_time": "2022-02-02T06:17:59.450444Z"
    }
   },
   "outputs": [],
   "source": [
    "### LB점수에 따른 앙상블 비율을 달리함"
   ]
  },
  {
   "cell_type": "code",
   "execution_count": 16,
   "id": "cf5dae31",
   "metadata": {
    "ExecuteTime": {
     "end_time": "2022-02-02T06:17:59.814261Z",
     "start_time": "2022-02-02T06:17:59.804764Z"
    }
   },
   "outputs": [],
   "source": [
    "ms['target'] = (ms['target'] + jp['target'] + sh['target']) / 3"
   ]
  },
  {
   "cell_type": "code",
   "execution_count": 17,
   "id": "e980be6f",
   "metadata": {
    "ExecuteTime": {
     "end_time": "2022-02-02T06:18:00.124936Z",
     "start_time": "2022-02-02T06:18:00.106430Z"
    }
   },
   "outputs": [],
   "source": [
    "ms['target'] = (ms['target'] + ks['target']) / 2"
   ]
  },
  {
   "cell_type": "code",
   "execution_count": 18,
   "id": "60526b80",
   "metadata": {
    "ExecuteTime": {
     "end_time": "2022-02-02T06:18:00.570638Z",
     "start_time": "2022-02-02T06:18:00.549981Z"
    }
   },
   "outputs": [
    {
     "data": {
      "text/html": [
       "<div>\n",
       "<style scoped>\n",
       "    .dataframe tbody tr th:only-of-type {\n",
       "        vertical-align: middle;\n",
       "    }\n",
       "\n",
       "    .dataframe tbody tr th {\n",
       "        vertical-align: top;\n",
       "    }\n",
       "\n",
       "    .dataframe thead th {\n",
       "        text-align: right;\n",
       "    }\n",
       "</style>\n",
       "<table border=\"1\" class=\"dataframe\">\n",
       "  <thead>\n",
       "    <tr style=\"text-align: right;\">\n",
       "      <th></th>\n",
       "      <th>id</th>\n",
       "      <th>target</th>\n",
       "    </tr>\n",
       "  </thead>\n",
       "  <tbody>\n",
       "    <tr>\n",
       "      <th>0</th>\n",
       "      <td>0</td>\n",
       "      <td>0.347983</td>\n",
       "    </tr>\n",
       "    <tr>\n",
       "      <th>1</th>\n",
       "      <td>1</td>\n",
       "      <td>0.264269</td>\n",
       "    </tr>\n",
       "    <tr>\n",
       "      <th>2</th>\n",
       "      <td>2</td>\n",
       "      <td>0.308318</td>\n",
       "    </tr>\n",
       "    <tr>\n",
       "      <th>3</th>\n",
       "      <td>3</td>\n",
       "      <td>0.295434</td>\n",
       "    </tr>\n",
       "    <tr>\n",
       "      <th>4</th>\n",
       "      <td>4</td>\n",
       "      <td>0.354894</td>\n",
       "    </tr>\n",
       "    <tr>\n",
       "      <th>...</th>\n",
       "      <td>...</td>\n",
       "      <td>...</td>\n",
       "    </tr>\n",
       "    <tr>\n",
       "      <th>46399</th>\n",
       "      <td>46399</td>\n",
       "      <td>0.545297</td>\n",
       "    </tr>\n",
       "    <tr>\n",
       "      <th>46400</th>\n",
       "      <td>46400</td>\n",
       "      <td>0.480853</td>\n",
       "    </tr>\n",
       "    <tr>\n",
       "      <th>46401</th>\n",
       "      <td>46401</td>\n",
       "      <td>0.669407</td>\n",
       "    </tr>\n",
       "    <tr>\n",
       "      <th>46402</th>\n",
       "      <td>46402</td>\n",
       "      <td>0.729096</td>\n",
       "    </tr>\n",
       "    <tr>\n",
       "      <th>46403</th>\n",
       "      <td>46403</td>\n",
       "      <td>0.688712</td>\n",
       "    </tr>\n",
       "  </tbody>\n",
       "</table>\n",
       "<p>46404 rows × 2 columns</p>\n",
       "</div>"
      ],
      "text/plain": [
       "          id    target\n",
       "0          0  0.347983\n",
       "1          1  0.264269\n",
       "2          2  0.308318\n",
       "3          3  0.295434\n",
       "4          4  0.354894\n",
       "...      ...       ...\n",
       "46399  46399  0.545297\n",
       "46400  46400  0.480853\n",
       "46401  46401  0.669407\n",
       "46402  46402  0.729096\n",
       "46403  46403  0.688712\n",
       "\n",
       "[46404 rows x 2 columns]"
      ]
     },
     "execution_count": 18,
     "metadata": {},
     "output_type": "execute_result"
    }
   ],
   "source": [
    "ms"
   ]
  },
  {
   "cell_type": "code",
   "execution_count": 19,
   "id": "6e559746",
   "metadata": {
    "ExecuteTime": {
     "end_time": "2022-02-02T06:18:01.146590Z",
     "start_time": "2022-02-02T06:18:01.114697Z"
    }
   },
   "outputs": [],
   "source": [
    "ms['target'] = ms[\"target\"].apply(lambda x : 1 if x >= 0.350 else 0)"
   ]
  },
  {
   "cell_type": "code",
   "execution_count": 20,
   "id": "4b361aa4",
   "metadata": {
    "ExecuteTime": {
     "end_time": "2022-02-02T06:18:01.767516Z",
     "start_time": "2022-02-02T06:18:01.747017Z"
    }
   },
   "outputs": [
    {
     "data": {
      "text/plain": [
       "1    36090\n",
       "0    10314\n",
       "Name: target, dtype: int64"
      ]
     },
     "execution_count": 20,
     "metadata": {},
     "output_type": "execute_result"
    }
   ],
   "source": [
    "ms['target'].value_counts()"
   ]
  },
  {
   "cell_type": "code",
   "execution_count": 21,
   "id": "f30d3d75",
   "metadata": {
    "ExecuteTime": {
     "end_time": "2022-02-02T06:18:06.486701Z",
     "start_time": "2022-02-02T06:18:06.464445Z"
    },
    "scrolled": true
   },
   "outputs": [
    {
     "data": {
      "text/html": [
       "<div>\n",
       "<style scoped>\n",
       "    .dataframe tbody tr th:only-of-type {\n",
       "        vertical-align: middle;\n",
       "    }\n",
       "\n",
       "    .dataframe tbody tr th {\n",
       "        vertical-align: top;\n",
       "    }\n",
       "\n",
       "    .dataframe thead th {\n",
       "        text-align: right;\n",
       "    }\n",
       "</style>\n",
       "<table border=\"1\" class=\"dataframe\">\n",
       "  <thead>\n",
       "    <tr style=\"text-align: right;\">\n",
       "      <th></th>\n",
       "      <th>id</th>\n",
       "      <th>target</th>\n",
       "    </tr>\n",
       "  </thead>\n",
       "  <tbody>\n",
       "    <tr>\n",
       "      <th>0</th>\n",
       "      <td>0</td>\n",
       "      <td>0</td>\n",
       "    </tr>\n",
       "    <tr>\n",
       "      <th>1</th>\n",
       "      <td>1</td>\n",
       "      <td>0</td>\n",
       "    </tr>\n",
       "    <tr>\n",
       "      <th>2</th>\n",
       "      <td>2</td>\n",
       "      <td>0</td>\n",
       "    </tr>\n",
       "    <tr>\n",
       "      <th>3</th>\n",
       "      <td>3</td>\n",
       "      <td>0</td>\n",
       "    </tr>\n",
       "    <tr>\n",
       "      <th>4</th>\n",
       "      <td>4</td>\n",
       "      <td>1</td>\n",
       "    </tr>\n",
       "    <tr>\n",
       "      <th>...</th>\n",
       "      <td>...</td>\n",
       "      <td>...</td>\n",
       "    </tr>\n",
       "    <tr>\n",
       "      <th>46399</th>\n",
       "      <td>46399</td>\n",
       "      <td>1</td>\n",
       "    </tr>\n",
       "    <tr>\n",
       "      <th>46400</th>\n",
       "      <td>46400</td>\n",
       "      <td>1</td>\n",
       "    </tr>\n",
       "    <tr>\n",
       "      <th>46401</th>\n",
       "      <td>46401</td>\n",
       "      <td>1</td>\n",
       "    </tr>\n",
       "    <tr>\n",
       "      <th>46402</th>\n",
       "      <td>46402</td>\n",
       "      <td>1</td>\n",
       "    </tr>\n",
       "    <tr>\n",
       "      <th>46403</th>\n",
       "      <td>46403</td>\n",
       "      <td>1</td>\n",
       "    </tr>\n",
       "  </tbody>\n",
       "</table>\n",
       "<p>46404 rows × 2 columns</p>\n",
       "</div>"
      ],
      "text/plain": [
       "          id  target\n",
       "0          0       0\n",
       "1          1       0\n",
       "2          2       0\n",
       "3          3       0\n",
       "4          4       1\n",
       "...      ...     ...\n",
       "46399  46399       1\n",
       "46400  46400       1\n",
       "46401  46401       1\n",
       "46402  46402       1\n",
       "46403  46403       1\n",
       "\n",
       "[46404 rows x 2 columns]"
      ]
     },
     "execution_count": 21,
     "metadata": {},
     "output_type": "execute_result"
    }
   ],
   "source": [
    "ms"
   ]
  },
  {
   "cell_type": "code",
   "execution_count": 11,
   "id": "4ec7de0a",
   "metadata": {
    "ExecuteTime": {
     "end_time": "2022-02-02T05:39:48.027346Z",
     "start_time": "2022-02-02T05:39:47.959041Z"
    }
   },
   "outputs": [],
   "source": [
    "ms.to_csv(\"submission/kinggi_0128_350_voting6_final.csv\", index=False)"
   ]
  }
 ],
 "metadata": {
  "kernelspec": {
   "display_name": "Python 3 (ipykernel)",
   "language": "python",
   "name": "python3"
  },
  "language_info": {
   "codemirror_mode": {
    "name": "ipython",
    "version": 3
   },
   "file_extension": ".py",
   "mimetype": "text/x-python",
   "name": "python",
   "nbconvert_exporter": "python",
   "pygments_lexer": "ipython3",
   "version": "3.9.7"
  },
  "varInspector": {
   "cols": {
    "lenName": 16,
    "lenType": 16,
    "lenVar": 40
   },
   "kernels_config": {
    "python": {
     "delete_cmd_postfix": "",
     "delete_cmd_prefix": "del ",
     "library": "var_list.py",
     "varRefreshCmd": "print(var_dic_list())"
    },
    "r": {
     "delete_cmd_postfix": ") ",
     "delete_cmd_prefix": "rm(",
     "library": "var_list.r",
     "varRefreshCmd": "cat(var_dic_list()) "
    }
   },
   "types_to_exclude": [
    "module",
    "function",
    "builtin_function_or_method",
    "instance",
    "_Feature"
   ],
   "window_display": false
  }
 },
 "nbformat": 4,
 "nbformat_minor": 5
}
