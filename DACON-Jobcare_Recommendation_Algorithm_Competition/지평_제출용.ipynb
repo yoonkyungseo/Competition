{
 "cells": [
  {
   "cell_type": "markdown",
   "metadata": {},
   "source": [
    "## 라이브러리"
   ]
  },
  {
   "cell_type": "code",
   "execution_count": 1,
   "metadata": {
    "ExecuteTime": {
     "end_time": "2022-02-01T01:57:30.247630Z",
     "start_time": "2022-02-01T01:57:27.954261Z"
    },
    "code_folding": []
   },
   "outputs": [
    {
     "name": "stdout",
     "output_type": "stream",
     "text": [
      "- os: Windows-10-10.0.22000-SP0\n",
      "- python: 3.9.7 (default, Sep 16 2021, 16:59:28) [MSC v.1916 64 bit (AMD64)]\n",
      "- pandas: 1.4.0\n",
      "- numpy: 1.22.1\n",
      "- sklearn: 1.0.2\n"
     ]
    },
    {
     "name": "stderr",
     "output_type": "stream",
     "text": [
      "C:\\Users\\leeji\\anaconda3\\lib\\site-packages\\xgboost\\compat.py:36: FutureWarning: pandas.Int64Index is deprecated and will be removed from pandas in a future version. Use pandas.Index with the appropriate dtype instead.\n",
      "  from pandas import MultiIndex, Int64Index\n"
     ]
    }
   ],
   "source": [
    "# Data Wrangling\n",
    "import pandas as pd\n",
    "from pandas import Series, DataFrame\n",
    "import numpy as np\n",
    "\n",
    "# Visualization\n",
    "import matplotlib.pylab as plt\n",
    "import seaborn as sns\n",
    "%matplotlib inline\n",
    "\n",
    "# EDA\n",
    "import klib\n",
    "\n",
    "# Preprocessing & Feature Engineering\n",
    "import sklearn\n",
    "from sklearn.model_selection import train_test_split\n",
    "from sklearn.preprocessing import MinMaxScaler\n",
    "from sklearn.impute import SimpleImputer \n",
    "from sklearn.preprocessing import StandardScaler\n",
    "from sklearn.preprocessing import MinMaxScaler\n",
    "from sklearn.preprocessing import PowerTransformer\n",
    "from sklearn.feature_selection import SelectPercentile\n",
    "from scipy.stats.mstats import gmean\n",
    "from sklearn.feature_selection import RFE\n",
    "from sklearn.metrics import *\n",
    "from sklearn.model_selection import KFold, StratifiedKFold\n",
    "\n",
    "# Hyperparameter Optimization\n",
    "from sklearn.model_selection import GridSearchCV\n",
    "from sklearn.model_selection import RandomizedSearchCV\n",
    "\n",
    "# Modeling\n",
    "from sklearn.dummy import DummyClassifier\n",
    "from sklearn.linear_model import LogisticRegression\n",
    "from sklearn.neighbors import KNeighborsClassifier\n",
    "from sklearn.ensemble import RandomForestClassifier\n",
    "from sklearn.neural_network import MLPClassifier\n",
    "from sklearn.tree import DecisionTreeClassifier\n",
    "from sklearn.ensemble import GradientBoostingClassifier\n",
    "from sklearn.svm import SVC\n",
    "from catboost import CatBoostClassifier\n",
    "from sklearn.ensemble import VotingClassifier\n",
    "from sklearn.ensemble import StackingClassifier\n",
    "from sklearn.base import ClassifierMixin\n",
    "from sklearn.ensemble import ExtraTreesClassifier\n",
    "from lightgbm import LGBMClassifier\n",
    "from xgboost import XGBClassifier\n",
    "\n",
    "# Evaluation\n",
    "from sklearn.model_selection import cross_val_score\n",
    "\n",
    "# Utility\n",
    "import os\n",
    "import time\n",
    "import random\n",
    "import warnings; warnings.filterwarnings(\"ignore\")\n",
    "from IPython.display import Image\n",
    "import pickle\n",
    "from tqdm import tqdm\n",
    "import platform\n",
    "from itertools import combinations\n",
    "import sys\n",
    "\n",
    "import gc\n",
    "import re\n",
    "from typing import List, Dict, Tuple\n",
    "\n",
    "# 한글 폰트 설정\n",
    "from statsmodels import robust\n",
    "from matplotlib import font_manager, rc\n",
    "%matplotlib inline\n",
    "\n",
    "import platform\n",
    "your_os = platform.system()\n",
    "if your_os == 'Linux':\n",
    "    rc('font', family='NanumGothic')\n",
    "elif your_os == 'Windows':\n",
    "    ttf = \"c:/Windows/Fonts/malgun.ttf\"\n",
    "    font_name = font_manager.FontProperties(fname=ttf).get_name()\n",
    "    rc('font', family=font_name)\n",
    "elif your_os == 'Darwin':\n",
    "    rc('font', family='AppleGothic')\n",
    "rc('axes', unicode_minus=False)\n",
    "\n",
    "print(f\"- os: {platform.platform()}\")\n",
    "print(f\"- python: {sys.version}\")\n",
    "print(f\"- pandas: {pd.__version__}\")\n",
    "print(f\"- numpy: {np.__version__}\")\n",
    "print(f\"- sklearn: {sklearn.__version__}\")"
   ]
  },
  {
   "cell_type": "code",
   "execution_count": 2,
   "metadata": {
    "ExecuteTime": {
     "end_time": "2022-02-01T01:57:30.295472Z",
     "start_time": "2022-02-01T01:57:30.282507Z"
    }
   },
   "outputs": [],
   "source": [
    "DATA_PATH = \"data/\"\n",
    "SUBMIT_PATH = \"submission/\"\n",
    "SEED = 42"
   ]
  },
  {
   "cell_type": "code",
   "execution_count": 3,
   "metadata": {
    "ExecuteTime": {
     "end_time": "2022-02-01T01:57:31.860514Z",
     "start_time": "2022-02-01T01:57:30.328389Z"
    }
   },
   "outputs": [
    {
     "data": {
      "text/plain": [
       "((501951, 35), (46404, 34))"
      ]
     },
     "execution_count": 3,
     "metadata": {},
     "output_type": "execute_result"
    }
   ],
   "source": [
    "train = pd.read_csv(f'{DATA_PATH}train.csv')\n",
    "test = pd.read_csv(f'{DATA_PATH}test.csv')\n",
    "\n",
    "d_code = pd.read_csv(f'{DATA_PATH}속성_D_코드.csv')\n",
    "h_code = pd.read_csv(f'{DATA_PATH}속성_H_코드.csv')\n",
    "l_code = pd.read_csv(f'{DATA_PATH}속성_L_코드.csv')\n",
    "\n",
    "train.shape, test.shape"
   ]
  },
  {
   "cell_type": "markdown",
   "metadata": {
    "heading_collapsed": true
   },
   "source": [
    "## 데이터 살펴보기"
   ]
  },
  {
   "cell_type": "code",
   "execution_count": 4,
   "metadata": {
    "hidden": true
   },
   "outputs": [
    {
     "data": {
      "text/html": [
       "<div>\n",
       "<style scoped>\n",
       "    .dataframe tbody tr th:only-of-type {\n",
       "        vertical-align: middle;\n",
       "    }\n",
       "\n",
       "    .dataframe tbody tr th {\n",
       "        vertical-align: top;\n",
       "    }\n",
       "\n",
       "    .dataframe thead th {\n",
       "        text-align: right;\n",
       "    }\n",
       "</style>\n",
       "<table border=\"1\" class=\"dataframe\">\n",
       "  <thead>\n",
       "    <tr style=\"text-align: right;\">\n",
       "      <th></th>\n",
       "      <th>id</th>\n",
       "      <th>d_l_match_yn</th>\n",
       "      <th>d_m_match_yn</th>\n",
       "      <th>d_s_match_yn</th>\n",
       "      <th>h_l_match_yn</th>\n",
       "      <th>h_m_match_yn</th>\n",
       "      <th>h_s_match_yn</th>\n",
       "      <th>person_attribute_a</th>\n",
       "      <th>person_attribute_a_1</th>\n",
       "      <th>person_attribute_b</th>\n",
       "      <th>person_prefer_c</th>\n",
       "      <th>person_prefer_d_1</th>\n",
       "      <th>person_prefer_d_2</th>\n",
       "      <th>person_prefer_d_3</th>\n",
       "      <th>person_prefer_e</th>\n",
       "      <th>person_prefer_f</th>\n",
       "      <th>person_prefer_g</th>\n",
       "      <th>person_prefer_h_1</th>\n",
       "      <th>person_prefer_h_2</th>\n",
       "      <th>person_prefer_h_3</th>\n",
       "    </tr>\n",
       "  </thead>\n",
       "  <tbody>\n",
       "    <tr>\n",
       "      <th>0</th>\n",
       "      <td>0</td>\n",
       "      <td>True</td>\n",
       "      <td>True</td>\n",
       "      <td>True</td>\n",
       "      <td>False</td>\n",
       "      <td>False</td>\n",
       "      <td>False</td>\n",
       "      <td>1</td>\n",
       "      <td>4</td>\n",
       "      <td>3</td>\n",
       "      <td>5</td>\n",
       "      <td>275</td>\n",
       "      <td>370</td>\n",
       "      <td>369</td>\n",
       "      <td>8</td>\n",
       "      <td>1</td>\n",
       "      <td>1</td>\n",
       "      <td>4</td>\n",
       "      <td>95</td>\n",
       "      <td>59</td>\n",
       "    </tr>\n",
       "    <tr>\n",
       "      <th>1</th>\n",
       "      <td>1</td>\n",
       "      <td>False</td>\n",
       "      <td>False</td>\n",
       "      <td>False</td>\n",
       "      <td>True</td>\n",
       "      <td>True</td>\n",
       "      <td>False</td>\n",
       "      <td>1</td>\n",
       "      <td>3</td>\n",
       "      <td>4</td>\n",
       "      <td>1</td>\n",
       "      <td>114</td>\n",
       "      <td>181</td>\n",
       "      <td>175</td>\n",
       "      <td>4</td>\n",
       "      <td>1</td>\n",
       "      <td>1</td>\n",
       "      <td>131</td>\n",
       "      <td>101</td>\n",
       "      <td>96</td>\n",
       "    </tr>\n",
       "    <tr>\n",
       "      <th>2</th>\n",
       "      <td>2</td>\n",
       "      <td>False</td>\n",
       "      <td>False</td>\n",
       "      <td>False</td>\n",
       "      <td>True</td>\n",
       "      <td>False</td>\n",
       "      <td>False</td>\n",
       "      <td>2</td>\n",
       "      <td>0</td>\n",
       "      <td>3</td>\n",
       "      <td>5</td>\n",
       "      <td>464</td>\n",
       "      <td>175</td>\n",
       "      <td>452</td>\n",
       "      <td>3</td>\n",
       "      <td>1</td>\n",
       "      <td>1</td>\n",
       "      <td>54</td>\n",
       "      <td>263</td>\n",
       "      <td>56</td>\n",
       "    </tr>\n",
       "    <tr>\n",
       "      <th>3</th>\n",
       "      <td>3</td>\n",
       "      <td>False</td>\n",
       "      <td>False</td>\n",
       "      <td>False</td>\n",
       "      <td>True</td>\n",
       "      <td>False</td>\n",
       "      <td>False</td>\n",
       "      <td>2</td>\n",
       "      <td>0</td>\n",
       "      <td>2</td>\n",
       "      <td>5</td>\n",
       "      <td>703</td>\n",
       "      <td>705</td>\n",
       "      <td>704</td>\n",
       "      <td>3</td>\n",
       "      <td>1</td>\n",
       "      <td>1</td>\n",
       "      <td>72</td>\n",
       "      <td>227</td>\n",
       "      <td>2</td>\n",
       "    </tr>\n",
       "    <tr>\n",
       "      <th>4</th>\n",
       "      <td>4</td>\n",
       "      <td>True</td>\n",
       "      <td>True</td>\n",
       "      <td>True</td>\n",
       "      <td>False</td>\n",
       "      <td>False</td>\n",
       "      <td>False</td>\n",
       "      <td>1</td>\n",
       "      <td>3</td>\n",
       "      <td>4</td>\n",
       "      <td>5</td>\n",
       "      <td>275</td>\n",
       "      <td>370</td>\n",
       "      <td>369</td>\n",
       "      <td>4</td>\n",
       "      <td>1</td>\n",
       "      <td>1</td>\n",
       "      <td>214</td>\n",
       "      <td>210</td>\n",
       "      <td>209</td>\n",
       "    </tr>\n",
       "  </tbody>\n",
       "</table>\n",
       "</div>"
      ],
      "text/plain": [
       "   id  d_l_match_yn  d_m_match_yn  d_s_match_yn  h_l_match_yn  h_m_match_yn  \\\n",
       "0   0          True          True          True         False         False   \n",
       "1   1         False         False         False          True          True   \n",
       "2   2         False         False         False          True         False   \n",
       "3   3         False         False         False          True         False   \n",
       "4   4          True          True          True         False         False   \n",
       "\n",
       "   h_s_match_yn  person_attribute_a  person_attribute_a_1  person_attribute_b  \\\n",
       "0         False                   1                     4                   3   \n",
       "1         False                   1                     3                   4   \n",
       "2         False                   2                     0                   3   \n",
       "3         False                   2                     0                   2   \n",
       "4         False                   1                     3                   4   \n",
       "\n",
       "   person_prefer_c  person_prefer_d_1  person_prefer_d_2  person_prefer_d_3  \\\n",
       "0                5                275                370                369   \n",
       "1                1                114                181                175   \n",
       "2                5                464                175                452   \n",
       "3                5                703                705                704   \n",
       "4                5                275                370                369   \n",
       "\n",
       "   person_prefer_e  person_prefer_f  person_prefer_g  person_prefer_h_1  \\\n",
       "0                8                1                1                  4   \n",
       "1                4                1                1                131   \n",
       "2                3                1                1                 54   \n",
       "3                3                1                1                 72   \n",
       "4                4                1                1                214   \n",
       "\n",
       "   person_prefer_h_2  person_prefer_h_3  \n",
       "0                 95                 59  \n",
       "1                101                 96  \n",
       "2                263                 56  \n",
       "3                227                  2  \n",
       "4                210                209  "
      ]
     },
     "execution_count": 4,
     "metadata": {},
     "output_type": "execute_result"
    }
   ],
   "source": [
    "train.iloc[:, :20].head()"
   ]
  },
  {
   "cell_type": "code",
   "execution_count": 5,
   "metadata": {
    "hidden": true
   },
   "outputs": [
    {
     "data": {
      "text/html": [
       "<div>\n",
       "<style scoped>\n",
       "    .dataframe tbody tr th:only-of-type {\n",
       "        vertical-align: middle;\n",
       "    }\n",
       "\n",
       "    .dataframe tbody tr th {\n",
       "        vertical-align: top;\n",
       "    }\n",
       "\n",
       "    .dataframe thead th {\n",
       "        text-align: right;\n",
       "    }\n",
       "</style>\n",
       "<table border=\"1\" class=\"dataframe\">\n",
       "  <thead>\n",
       "    <tr style=\"text-align: right;\">\n",
       "      <th></th>\n",
       "      <th>contents_attribute_i</th>\n",
       "      <th>contents_attribute_a</th>\n",
       "      <th>contents_attribute_j_1</th>\n",
       "      <th>contents_attribute_j</th>\n",
       "      <th>contents_attribute_c</th>\n",
       "      <th>contents_attribute_k</th>\n",
       "      <th>contents_attribute_l</th>\n",
       "      <th>contents_attribute_d</th>\n",
       "      <th>contents_attribute_m</th>\n",
       "      <th>contents_attribute_e</th>\n",
       "      <th>contents_attribute_h</th>\n",
       "      <th>person_rn</th>\n",
       "      <th>contents_rn</th>\n",
       "      <th>contents_open_dt</th>\n",
       "      <th>target</th>\n",
       "    </tr>\n",
       "  </thead>\n",
       "  <tbody>\n",
       "    <tr>\n",
       "      <th>0</th>\n",
       "      <td>3</td>\n",
       "      <td>3</td>\n",
       "      <td>10</td>\n",
       "      <td>2</td>\n",
       "      <td>1</td>\n",
       "      <td>2</td>\n",
       "      <td>1608</td>\n",
       "      <td>275</td>\n",
       "      <td>1</td>\n",
       "      <td>4</td>\n",
       "      <td>139</td>\n",
       "      <td>618822</td>\n",
       "      <td>354805</td>\n",
       "      <td>2020-01-17 12:09:36</td>\n",
       "      <td>1</td>\n",
       "    </tr>\n",
       "    <tr>\n",
       "      <th>1</th>\n",
       "      <td>1</td>\n",
       "      <td>3</td>\n",
       "      <td>5</td>\n",
       "      <td>1</td>\n",
       "      <td>1</td>\n",
       "      <td>2</td>\n",
       "      <td>1608</td>\n",
       "      <td>275</td>\n",
       "      <td>1</td>\n",
       "      <td>4</td>\n",
       "      <td>133</td>\n",
       "      <td>571659</td>\n",
       "      <td>346213</td>\n",
       "      <td>2020-06-18 17:48:52</td>\n",
       "      <td>0</td>\n",
       "    </tr>\n",
       "    <tr>\n",
       "      <th>2</th>\n",
       "      <td>3</td>\n",
       "      <td>1</td>\n",
       "      <td>10</td>\n",
       "      <td>2</td>\n",
       "      <td>1</td>\n",
       "      <td>1</td>\n",
       "      <td>1600</td>\n",
       "      <td>94</td>\n",
       "      <td>1</td>\n",
       "      <td>4</td>\n",
       "      <td>53</td>\n",
       "      <td>399816</td>\n",
       "      <td>206408</td>\n",
       "      <td>2020-07-08 20:00:10</td>\n",
       "      <td>0</td>\n",
       "    </tr>\n",
       "    <tr>\n",
       "      <th>3</th>\n",
       "      <td>1</td>\n",
       "      <td>3</td>\n",
       "      <td>5</td>\n",
       "      <td>1</td>\n",
       "      <td>1</td>\n",
       "      <td>2</td>\n",
       "      <td>1608</td>\n",
       "      <td>275</td>\n",
       "      <td>5</td>\n",
       "      <td>3</td>\n",
       "      <td>74</td>\n",
       "      <td>827967</td>\n",
       "      <td>572323</td>\n",
       "      <td>2020-01-13 18:09:34</td>\n",
       "      <td>0</td>\n",
       "    </tr>\n",
       "    <tr>\n",
       "      <th>4</th>\n",
       "      <td>1</td>\n",
       "      <td>1</td>\n",
       "      <td>10</td>\n",
       "      <td>2</td>\n",
       "      <td>1</td>\n",
       "      <td>2</td>\n",
       "      <td>1608</td>\n",
       "      <td>275</td>\n",
       "      <td>1</td>\n",
       "      <td>4</td>\n",
       "      <td>74</td>\n",
       "      <td>831614</td>\n",
       "      <td>573899</td>\n",
       "      <td>2020-03-09 20:39:22</td>\n",
       "      <td>0</td>\n",
       "    </tr>\n",
       "  </tbody>\n",
       "</table>\n",
       "</div>"
      ],
      "text/plain": [
       "   contents_attribute_i  contents_attribute_a  contents_attribute_j_1  \\\n",
       "0                     3                     3                      10   \n",
       "1                     1                     3                       5   \n",
       "2                     3                     1                      10   \n",
       "3                     1                     3                       5   \n",
       "4                     1                     1                      10   \n",
       "\n",
       "   contents_attribute_j  contents_attribute_c  contents_attribute_k  \\\n",
       "0                     2                     1                     2   \n",
       "1                     1                     1                     2   \n",
       "2                     2                     1                     1   \n",
       "3                     1                     1                     2   \n",
       "4                     2                     1                     2   \n",
       "\n",
       "   contents_attribute_l  contents_attribute_d  contents_attribute_m  \\\n",
       "0                  1608                   275                     1   \n",
       "1                  1608                   275                     1   \n",
       "2                  1600                    94                     1   \n",
       "3                  1608                   275                     5   \n",
       "4                  1608                   275                     1   \n",
       "\n",
       "   contents_attribute_e  contents_attribute_h  person_rn  contents_rn  \\\n",
       "0                     4                   139     618822       354805   \n",
       "1                     4                   133     571659       346213   \n",
       "2                     4                    53     399816       206408   \n",
       "3                     3                    74     827967       572323   \n",
       "4                     4                    74     831614       573899   \n",
       "\n",
       "      contents_open_dt  target  \n",
       "0  2020-01-17 12:09:36       1  \n",
       "1  2020-06-18 17:48:52       0  \n",
       "2  2020-07-08 20:00:10       0  \n",
       "3  2020-01-13 18:09:34       0  \n",
       "4  2020-03-09 20:39:22       0  "
      ]
     },
     "execution_count": 5,
     "metadata": {},
     "output_type": "execute_result"
    }
   ],
   "source": [
    "train.iloc[:, 20:].head()"
   ]
  },
  {
   "cell_type": "markdown",
   "metadata": {
    "heading_collapsed": true,
    "hidden": true
   },
   "source": [
    "### D_code\n",
    "- 코드 사이에 숫자가 밑의 코드로 갈린다\n",
    "- 이걸 피처로 어떻게 나타낼 수 있을까"
   ]
  },
  {
   "cell_type": "code",
   "execution_count": 6,
   "metadata": {
    "hidden": true
   },
   "outputs": [
    {
     "data": {
      "text/html": [
       "<div>\n",
       "<style scoped>\n",
       "    .dataframe tbody tr th:only-of-type {\n",
       "        vertical-align: middle;\n",
       "    }\n",
       "\n",
       "    .dataframe tbody tr th {\n",
       "        vertical-align: top;\n",
       "    }\n",
       "\n",
       "    .dataframe thead th {\n",
       "        text-align: right;\n",
       "    }\n",
       "</style>\n",
       "<table border=\"1\" class=\"dataframe\">\n",
       "  <thead>\n",
       "    <tr style=\"text-align: right;\">\n",
       "      <th></th>\n",
       "      <th>속성 D 코드</th>\n",
       "      <th>속성 D 세분류코드</th>\n",
       "      <th>속성 D 소분류코드</th>\n",
       "      <th>속성 D 중분류코드</th>\n",
       "      <th>속성 D 대분류코드</th>\n",
       "    </tr>\n",
       "  </thead>\n",
       "  <tbody>\n",
       "    <tr>\n",
       "      <th>0</th>\n",
       "      <td>4</td>\n",
       "      <td>4</td>\n",
       "      <td>3</td>\n",
       "      <td>2</td>\n",
       "      <td>1</td>\n",
       "    </tr>\n",
       "    <tr>\n",
       "      <th>1</th>\n",
       "      <td>5</td>\n",
       "      <td>5</td>\n",
       "      <td>3</td>\n",
       "      <td>2</td>\n",
       "      <td>1</td>\n",
       "    </tr>\n",
       "    <tr>\n",
       "      <th>2</th>\n",
       "      <td>7</td>\n",
       "      <td>7</td>\n",
       "      <td>6</td>\n",
       "      <td>2</td>\n",
       "      <td>1</td>\n",
       "    </tr>\n",
       "    <tr>\n",
       "      <th>3</th>\n",
       "      <td>8</td>\n",
       "      <td>8</td>\n",
       "      <td>6</td>\n",
       "      <td>2</td>\n",
       "      <td>1</td>\n",
       "    </tr>\n",
       "    <tr>\n",
       "      <th>4</th>\n",
       "      <td>9</td>\n",
       "      <td>8</td>\n",
       "      <td>6</td>\n",
       "      <td>2</td>\n",
       "      <td>1</td>\n",
       "    </tr>\n",
       "    <tr>\n",
       "      <th>...</th>\n",
       "      <td>...</td>\n",
       "      <td>...</td>\n",
       "      <td>...</td>\n",
       "      <td>...</td>\n",
       "      <td>...</td>\n",
       "    </tr>\n",
       "    <tr>\n",
       "      <th>1109</th>\n",
       "      <td>1254</td>\n",
       "      <td>1254</td>\n",
       "      <td>1254</td>\n",
       "      <td>1235</td>\n",
       "      <td>1235</td>\n",
       "    </tr>\n",
       "    <tr>\n",
       "      <th>1110</th>\n",
       "      <td>1255</td>\n",
       "      <td>1254</td>\n",
       "      <td>1254</td>\n",
       "      <td>1235</td>\n",
       "      <td>1235</td>\n",
       "    </tr>\n",
       "    <tr>\n",
       "      <th>1111</th>\n",
       "      <td>1256</td>\n",
       "      <td>1254</td>\n",
       "      <td>1254</td>\n",
       "      <td>1235</td>\n",
       "      <td>1235</td>\n",
       "    </tr>\n",
       "    <tr>\n",
       "      <th>1112</th>\n",
       "      <td>1257</td>\n",
       "      <td>1254</td>\n",
       "      <td>1254</td>\n",
       "      <td>1235</td>\n",
       "      <td>1235</td>\n",
       "    </tr>\n",
       "    <tr>\n",
       "      <th>1113</th>\n",
       "      <td>1258</td>\n",
       "      <td>1258</td>\n",
       "      <td>1258</td>\n",
       "      <td>1258</td>\n",
       "      <td>1258</td>\n",
       "    </tr>\n",
       "  </tbody>\n",
       "</table>\n",
       "<p>1114 rows × 5 columns</p>\n",
       "</div>"
      ],
      "text/plain": [
       "      속성 D 코드  속성 D 세분류코드  속성 D 소분류코드  속성 D 중분류코드  속성 D 대분류코드\n",
       "0           4           4           3           2           1\n",
       "1           5           5           3           2           1\n",
       "2           7           7           6           2           1\n",
       "3           8           8           6           2           1\n",
       "4           9           8           6           2           1\n",
       "...       ...         ...         ...         ...         ...\n",
       "1109     1254        1254        1254        1235        1235\n",
       "1110     1255        1254        1254        1235        1235\n",
       "1111     1256        1254        1254        1235        1235\n",
       "1112     1257        1254        1254        1235        1235\n",
       "1113     1258        1258        1258        1258        1258\n",
       "\n",
       "[1114 rows x 5 columns]"
      ]
     },
     "execution_count": 6,
     "metadata": {},
     "output_type": "execute_result"
    }
   ],
   "source": [
    "d_code"
   ]
  },
  {
   "cell_type": "code",
   "execution_count": 7,
   "metadata": {
    "hidden": true
   },
   "outputs": [
    {
     "data": {
      "text/plain": [
       "속성 D 대분류코드\n",
       "1                                            [2, 56, 189]\n",
       "216                             [217, 220, 231, 274, 297]\n",
       "377                             [378, 439, 450, 473, 477]\n",
       "482                                                 [482]\n",
       "522                                            [523, 603]\n",
       "618                        [619, 644, 659, 690, 708, 716]\n",
       "744                                            [745, 824]\n",
       "864                                                 [864]\n",
       "926     [927, 1000, 1053, 1093, 1104, 1137, 1169, 1193...\n",
       "1235                                               [1235]\n",
       "1258                                               [1258]\n",
       "Name: 속성 D 중분류코드, dtype: object"
      ]
     },
     "execution_count": 7,
     "metadata": {},
     "output_type": "execute_result"
    }
   ],
   "source": [
    "d_code.groupby('속성 D 대분류코드')['속성 D 중분류코드'].unique()"
   ]
  },
  {
   "cell_type": "code",
   "execution_count": 8,
   "metadata": {
    "hidden": true
   },
   "outputs": [
    {
     "data": {
      "text/plain": [
       "속성 D 중분류코드\n",
       "2                              [3, 6, 16, 29, 37, 43]\n",
       "56            [57, 58, 63, 72, 83, 91, 109, 123, 152]\n",
       "189                                   [190, 197, 210]\n",
       "217                                             [217]\n",
       "220                                        [221, 224]\n",
       "231                    [232, 238, 242, 258, 270, 273]\n",
       "274                                             [274]\n",
       "297     [298, 312, 315, 332, 340, 353, 356, 359, 368]\n",
       "378                         [379, 382, 396, 397, 431]\n",
       "439                                        [440, 446]\n",
       "450                                   [451, 463, 470]\n",
       "473                                             [473]\n",
       "477                                             [477]\n",
       "482               [483, 488, 489, 490, 494, 495, 509]\n",
       "523               [524, 537, 540, 547, 560, 586, 600]\n",
       "603                                             [603]\n",
       "619                                        [620, 636]\n",
       "644                              [645, 652, 655, 656]\n",
       "659                                        [660, 677]\n",
       "690                                        [691, 703]\n",
       "708                                             [708]\n",
       "716                                        [717, 735]\n",
       "745               [746, 747, 775, 782, 783, 810, 815]\n",
       "824                              [825, 831, 847, 853]\n",
       "864                    [865, 884, 901, 909, 915, 923]\n",
       "927               [928, 951, 961, 982, 985, 988, 996]\n",
       "1000             [1001, 1008, 1017, 1026, 1036, 1042]\n",
       "1053             [1054, 1062, 1077, 1078, 1083, 1086]\n",
       "1093                                     [1094, 1098]\n",
       "1104                               [1105, 1111, 1129]\n",
       "1137                         [1138, 1150, 1158, 1164]\n",
       "1169                               [1170, 1173, 1180]\n",
       "1193                   [1194, 1204, 1211, 1217, 1220]\n",
       "1227                                           [1227]\n",
       "1235                   [1236, 1244, 1248, 1251, 1254]\n",
       "1258                                           [1258]\n",
       "Name: 속성 D 소분류코드, dtype: object"
      ]
     },
     "execution_count": 8,
     "metadata": {},
     "output_type": "execute_result"
    }
   ],
   "source": [
    "d_code.groupby('속성 D 중분류코드')['속성 D 소분류코드'].unique()"
   ]
  },
  {
   "cell_type": "markdown",
   "metadata": {
    "heading_collapsed": true,
    "hidden": true
   },
   "source": [
    "### H_code\n",
    "* 중분류가 대분류에 이어지는 숫자 형태\n",
    "* 대분류랑 코드는 D와 같은 형태인데 중분류가 너무 눈치없음"
   ]
  },
  {
   "cell_type": "code",
   "execution_count": 9,
   "metadata": {
    "hidden": true
   },
   "outputs": [
    {
     "data": {
      "text/html": [
       "<div>\n",
       "<style scoped>\n",
       "    .dataframe tbody tr th:only-of-type {\n",
       "        vertical-align: middle;\n",
       "    }\n",
       "\n",
       "    .dataframe tbody tr th {\n",
       "        vertical-align: top;\n",
       "    }\n",
       "\n",
       "    .dataframe thead th {\n",
       "        text-align: right;\n",
       "    }\n",
       "</style>\n",
       "<table border=\"1\" class=\"dataframe\">\n",
       "  <thead>\n",
       "    <tr style=\"text-align: right;\">\n",
       "      <th></th>\n",
       "      <th>속성 H 코드</th>\n",
       "      <th>속성 H 중분류코드</th>\n",
       "      <th>속성 H 대분류코드</th>\n",
       "    </tr>\n",
       "  </thead>\n",
       "  <tbody>\n",
       "    <tr>\n",
       "      <th>0</th>\n",
       "      <td>2</td>\n",
       "      <td>315</td>\n",
       "      <td>1</td>\n",
       "    </tr>\n",
       "    <tr>\n",
       "      <th>1</th>\n",
       "      <td>4</td>\n",
       "      <td>316</td>\n",
       "      <td>3</td>\n",
       "    </tr>\n",
       "    <tr>\n",
       "      <th>2</th>\n",
       "      <td>5</td>\n",
       "      <td>317</td>\n",
       "      <td>3</td>\n",
       "    </tr>\n",
       "    <tr>\n",
       "      <th>3</th>\n",
       "      <td>6</td>\n",
       "      <td>318</td>\n",
       "      <td>3</td>\n",
       "    </tr>\n",
       "    <tr>\n",
       "      <th>4</th>\n",
       "      <td>7</td>\n",
       "      <td>319</td>\n",
       "      <td>3</td>\n",
       "    </tr>\n",
       "    <tr>\n",
       "      <th>...</th>\n",
       "      <td>...</td>\n",
       "      <td>...</td>\n",
       "      <td>...</td>\n",
       "    </tr>\n",
       "    <tr>\n",
       "      <th>289</th>\n",
       "      <td>309</td>\n",
       "      <td>566</td>\n",
       "      <td>308</td>\n",
       "    </tr>\n",
       "    <tr>\n",
       "      <th>290</th>\n",
       "      <td>310</td>\n",
       "      <td>567</td>\n",
       "      <td>308</td>\n",
       "    </tr>\n",
       "    <tr>\n",
       "      <th>291</th>\n",
       "      <td>311</td>\n",
       "      <td>568</td>\n",
       "      <td>308</td>\n",
       "    </tr>\n",
       "    <tr>\n",
       "      <th>292</th>\n",
       "      <td>313</td>\n",
       "      <td>569</td>\n",
       "      <td>312</td>\n",
       "    </tr>\n",
       "    <tr>\n",
       "      <th>293</th>\n",
       "      <td>314</td>\n",
       "      <td>570</td>\n",
       "      <td>314</td>\n",
       "    </tr>\n",
       "  </tbody>\n",
       "</table>\n",
       "<p>294 rows × 3 columns</p>\n",
       "</div>"
      ],
      "text/plain": [
       "     속성 H 코드  속성 H 중분류코드  속성 H 대분류코드\n",
       "0          2         315           1\n",
       "1          4         316           3\n",
       "2          5         317           3\n",
       "3          6         318           3\n",
       "4          7         319           3\n",
       "..       ...         ...         ...\n",
       "289      309         566         308\n",
       "290      310         567         308\n",
       "291      311         568         308\n",
       "292      313         569         312\n",
       "293      314         570         314\n",
       "\n",
       "[294 rows x 3 columns]"
      ]
     },
     "execution_count": 9,
     "metadata": {},
     "output_type": "execute_result"
    }
   ],
   "source": [
    "h_code"
   ]
  },
  {
   "cell_type": "code",
   "execution_count": 12,
   "metadata": {
    "hidden": true
   },
   "outputs": [
    {
     "data": {
      "text/plain": [
       "속성 H 대분류코드\n",
       "1                                                  [315]\n",
       "3      [316, 317, 318, 319, 320, 321, 322, 323, 324, ...\n",
       "30     [342, 343, 344, 345, 346, 347, 348, 349, 350, ...\n",
       "48         [359, 360, 361, 362, 363, 364, 365, 366, 367]\n",
       "58     [368, 369, 370, 371, 372, 373, 374, 375, 376, ...\n",
       "71                        [379, 380, 381, 382, 383, 384]\n",
       "78                        [385, 386, 387, 388, 389, 390]\n",
       "85                        [391, 392, 393, 394, 395, 396]\n",
       "92                                                 [397]\n",
       "94     [398, 399, 400, 401, 402, 403, 404, 405, 406, ...\n",
       "149    [432, 433, 434, 435, 436, 437, 438, 439, 440, ...\n",
       "169    [451, 452, 453, 454, 455, 456, 457, 458, 459, ...\n",
       "188    [463, 464, 465, 466, 467, 468, 469, 470, 471, ...\n",
       "208    [480, 481, 482, 483, 484, 485, 486, 487, 488, ...\n",
       "226    [495, 496, 497, 498, 499, 500, 501, 502, 503, ...\n",
       "250    [518, 519, 520, 521, 522, 523, 524, 525, 526, ...\n",
       "277    [542, 543, 544, 545, 546, 547, 548, 549, 550, ...\n",
       "302                            [561, 562, 563, 564, 565]\n",
       "308                                      [566, 567, 568]\n",
       "312                                                [569]\n",
       "314                                                [570]\n",
       "Name: 속성 H 중분류코드, dtype: object"
      ]
     },
     "execution_count": 12,
     "metadata": {},
     "output_type": "execute_result"
    }
   ],
   "source": [
    "h_code.groupby('속성 H 대분류코드')['속성 H 중분류코드'].unique()"
   ]
  },
  {
   "cell_type": "code",
   "execution_count": 13,
   "metadata": {
    "hidden": true
   },
   "outputs": [
    {
     "data": {
      "text/plain": [
       "속성 H 대분류코드\n",
       "1                                                    [2]\n",
       "3      [4, 5, 6, 7, 8, 9, 10, 11, 12, 13, 14, 15, 16,...\n",
       "30     [31, 32, 33, 34, 35, 36, 37, 38, 39, 40, 41, 4...\n",
       "48                  [49, 50, 51, 52, 53, 54, 55, 56, 57]\n",
       "58      [59, 60, 61, 62, 63, 64, 65, 66, 67, 68, 69, 70]\n",
       "71                              [72, 73, 74, 75, 76, 77]\n",
       "78                              [79, 80, 81, 82, 83, 84]\n",
       "85                              [86, 87, 88, 89, 90, 91]\n",
       "92                                                  [93]\n",
       "94     [95, 96, 97, 98, 99, 100, 101, 102, 103, 104, ...\n",
       "149    [150, 151, 152, 153, 154, 155, 156, 157, 158, ...\n",
       "169    [170, 171, 172, 173, 174, 175, 176, 177, 178, ...\n",
       "188    [189, 190, 191, 192, 193, 194, 195, 196, 197, ...\n",
       "208    [209, 210, 211, 212, 213, 214, 215, 216, 217, ...\n",
       "226    [227, 228, 229, 230, 231, 232, 233, 234, 235, ...\n",
       "250    [251, 252, 253, 254, 255, 256, 257, 258, 259, ...\n",
       "277    [278, 279, 280, 281, 282, 283, 284, 285, 286, ...\n",
       "302                            [303, 304, 305, 306, 307]\n",
       "308                                      [309, 310, 311]\n",
       "312                                                [313]\n",
       "314                                                [314]\n",
       "Name: 속성 H 코드, dtype: object"
      ]
     },
     "execution_count": 13,
     "metadata": {},
     "output_type": "execute_result"
    }
   ],
   "source": [
    "h_code.groupby('속성 H 대분류코드')['속성 H 코드'].unique()"
   ]
  },
  {
   "cell_type": "code",
   "execution_count": 14,
   "metadata": {
    "hidden": true
   },
   "outputs": [
    {
     "data": {
      "text/plain": [
       "속성 H 중분류코드\n",
       "315      [2]\n",
       "316      [4]\n",
       "317      [5]\n",
       "318      [6]\n",
       "319      [7]\n",
       "       ...  \n",
       "566    [309]\n",
       "567    [310]\n",
       "568    [311]\n",
       "569    [313]\n",
       "570    [314]\n",
       "Name: 속성 H 코드, Length: 256, dtype: object"
      ]
     },
     "execution_count": 14,
     "metadata": {},
     "output_type": "execute_result"
    }
   ],
   "source": [
    "h_code.groupby('속성 H 중분류코드')['속성 H 코드'].unique()"
   ]
  },
  {
   "cell_type": "markdown",
   "metadata": {
    "heading_collapsed": true,
    "hidden": true
   },
   "source": [
    "### L_code"
   ]
  },
  {
   "cell_type": "code",
   "execution_count": 15,
   "metadata": {
    "hidden": true
   },
   "outputs": [
    {
     "data": {
      "text/html": [
       "<div>\n",
       "<style scoped>\n",
       "    .dataframe tbody tr th:only-of-type {\n",
       "        vertical-align: middle;\n",
       "    }\n",
       "\n",
       "    .dataframe tbody tr th {\n",
       "        vertical-align: top;\n",
       "    }\n",
       "\n",
       "    .dataframe thead th {\n",
       "        text-align: right;\n",
       "    }\n",
       "</style>\n",
       "<table border=\"1\" class=\"dataframe\">\n",
       "  <thead>\n",
       "    <tr style=\"text-align: right;\">\n",
       "      <th></th>\n",
       "      <th>속성 L 코드</th>\n",
       "      <th>속성 L 세분류코드</th>\n",
       "      <th>속성 L 소분류코드</th>\n",
       "      <th>속성 L 중분류코드</th>\n",
       "      <th>속성 L 대분류코드</th>\n",
       "    </tr>\n",
       "  </thead>\n",
       "  <tbody>\n",
       "    <tr>\n",
       "      <th>0</th>\n",
       "      <td>1</td>\n",
       "      <td>1</td>\n",
       "      <td>1</td>\n",
       "      <td>1</td>\n",
       "      <td>2004</td>\n",
       "    </tr>\n",
       "    <tr>\n",
       "      <th>1</th>\n",
       "      <td>2</td>\n",
       "      <td>2</td>\n",
       "      <td>2</td>\n",
       "      <td>1</td>\n",
       "      <td>2004</td>\n",
       "    </tr>\n",
       "    <tr>\n",
       "      <th>2</th>\n",
       "      <td>3</td>\n",
       "      <td>3</td>\n",
       "      <td>2</td>\n",
       "      <td>1</td>\n",
       "      <td>2004</td>\n",
       "    </tr>\n",
       "    <tr>\n",
       "      <th>3</th>\n",
       "      <td>4</td>\n",
       "      <td>3</td>\n",
       "      <td>2</td>\n",
       "      <td>1</td>\n",
       "      <td>2004</td>\n",
       "    </tr>\n",
       "    <tr>\n",
       "      <th>4</th>\n",
       "      <td>5</td>\n",
       "      <td>5</td>\n",
       "      <td>2</td>\n",
       "      <td>1</td>\n",
       "      <td>2004</td>\n",
       "    </tr>\n",
       "  </tbody>\n",
       "</table>\n",
       "</div>"
      ],
      "text/plain": [
       "   속성 L 코드  속성 L 세분류코드  속성 L 소분류코드  속성 L 중분류코드  속성 L 대분류코드\n",
       "0        1           1           1           1        2004\n",
       "1        2           2           2           1        2004\n",
       "2        3           3           2           1        2004\n",
       "3        4           3           2           1        2004\n",
       "4        5           5           2           1        2004"
      ]
     },
     "execution_count": 15,
     "metadata": {},
     "output_type": "execute_result"
    }
   ],
   "source": [
    "l_code.head()"
   ]
  },
  {
   "cell_type": "code",
   "execution_count": 16,
   "metadata": {
    "hidden": true
   },
   "outputs": [
    {
     "data": {
      "text/plain": [
       "속성 L 대분류코드\n",
       "2004                                    [1, 42, 53, 2004]\n",
       "2005                               [67, 74, 81, 95, 2005]\n",
       "2006    [99, 168, 183, 187, 229, 257, 272, 295, 321, 3...\n",
       "2007                                          [869, 2007]\n",
       "2008                           [887, 893, 901, 925, 2008]\n",
       "2009                                     [930, 954, 2009]\n",
       "2010                             [1003, 1021, 1152, 2010]\n",
       "2011                       [1271, 1301, 1316, 1323, 2011]\n",
       "2012                                   [1353, 1365, 2012]\n",
       "2013           [1397, 1417, 1435, 1446, 1458, 1467, 2013]\n",
       "2014                             [1480, 1504, 1522, 2014]\n",
       "2015                                         [1538, 2015]\n",
       "2016                       [1556, 1572, 1605, 1623, 2016]\n",
       "2017                             [1645, 1658, 1688, 2017]\n",
       "2018                                         [1713, 2018]\n",
       "2019                                         [1752, 2019]\n",
       "2020                                   [1810, 1832, 2020]\n",
       "2021                                   [1852, 1879, 2021]\n",
       "2022                             [1918, 1941, 1962, 2022]\n",
       "2023                                   [1988, 1992, 2023]\n",
       "2024                                         [1999, 2024]\n",
       "2025                                               [2025]\n",
       "Name: 속성 L 중분류코드, dtype: object"
      ]
     },
     "execution_count": 16,
     "metadata": {},
     "output_type": "execute_result"
    }
   ],
   "source": [
    "l_code.groupby('속성 L 대분류코드')['속성 L 중분류코드'].unique()"
   ]
  },
  {
   "cell_type": "code",
   "execution_count": 17,
   "metadata": {
    "hidden": true
   },
   "outputs": [
    {
     "data": {
      "text/plain": [
       "속성 L 중분류코드\n",
       "1       [1, 2, 18, 30, 33, 39]\n",
       "42                    [42, 43]\n",
       "53                [53, 54, 60]\n",
       "67                [67, 68, 71]\n",
       "74                [74, 75, 78]\n",
       "                 ...          \n",
       "2021                    [2021]\n",
       "2022                    [2022]\n",
       "2023                    [2023]\n",
       "2024                    [2024]\n",
       "2025                    [2025]\n",
       "Name: 속성 L 소분류코드, Length: 99, dtype: object"
      ]
     },
     "execution_count": 17,
     "metadata": {},
     "output_type": "execute_result"
    }
   ],
   "source": [
    "l_code.groupby('속성 L 중분류코드')['속성 L 소분류코드'].unique()"
   ]
  },
  {
   "cell_type": "code",
   "execution_count": 18,
   "metadata": {
    "hidden": true
   },
   "outputs": [
    {
     "data": {
      "text/plain": [
       "속성 L 소분류코드\n",
       "1                        [1]\n",
       "2       [2, 3, 5, 9, 12, 14]\n",
       "18      [18, 19, 22, 24, 27]\n",
       "30                  [30, 31]\n",
       "33              [33, 34, 37]\n",
       "                ...         \n",
       "2021                  [2021]\n",
       "2022                  [2022]\n",
       "2023                  [2023]\n",
       "2024                  [2024]\n",
       "2025                  [2025]\n",
       "Name: 속성 L 세분류코드, Length: 332, dtype: object"
      ]
     },
     "execution_count": 18,
     "metadata": {},
     "output_type": "execute_result"
    }
   ],
   "source": [
    "l_code.groupby('속성 L 소분류코드')['속성 L 세분류코드'].unique()"
   ]
  },
  {
   "cell_type": "markdown",
   "metadata": {},
   "source": [
    "## preprocessing & engineering"
   ]
  },
  {
   "cell_type": "markdown",
   "metadata": {},
   "source": [
    "### person_rn, contents_rn 활용"
   ]
  },
  {
   "cell_type": "code",
   "execution_count": 4,
   "metadata": {
    "ExecuteTime": {
     "end_time": "2022-02-01T01:57:34.044354Z",
     "start_time": "2022-02-01T01:57:34.021417Z"
    }
   },
   "outputs": [],
   "source": [
    "train['person_contents_mul'] = train['person_rn'] * train['contents_rn']\n",
    "test['person_contents_mul'] = test['person_rn'] * test['contents_rn']"
   ]
  },
  {
   "cell_type": "code",
   "execution_count": 5,
   "metadata": {
    "ExecuteTime": {
     "end_time": "2022-02-01T01:57:34.391431Z",
     "start_time": "2022-02-01T01:57:34.369518Z"
    }
   },
   "outputs": [],
   "source": [
    "train['person_contents_sum'] = train['person_rn'] + train['contents_rn']\n",
    "test['person_contents_sum'] = test['person_rn'] + test['contents_rn']"
   ]
  },
  {
   "cell_type": "markdown",
   "metadata": {},
   "source": [
    "### contents_open_dt 관련"
   ]
  },
  {
   "cell_type": "code",
   "execution_count": 6,
   "metadata": {
    "ExecuteTime": {
     "end_time": "2022-02-01T01:57:35.258736Z",
     "start_time": "2022-02-01T01:57:34.980030Z"
    }
   },
   "outputs": [],
   "source": [
    "train['contents_open_dt'] = pd.to_datetime(train['contents_open_dt'])\n",
    "test['contents_open_dt'] = pd.to_datetime(test['contents_open_dt'])"
   ]
  },
  {
   "cell_type": "code",
   "execution_count": 7,
   "metadata": {
    "ExecuteTime": {
     "end_time": "2022-02-01T01:57:35.490841Z",
     "start_time": "2022-02-01T01:57:35.444931Z"
    }
   },
   "outputs": [],
   "source": [
    "train['contents_open_hour'] = train['contents_open_dt'].dt.hour\n",
    "test['contents_open_hour'] = test['contents_open_dt'].dt.hour"
   ]
  },
  {
   "cell_type": "code",
   "execution_count": 8,
   "metadata": {
    "ExecuteTime": {
     "end_time": "2022-02-01T01:57:37.525114Z",
     "start_time": "2022-02-01T01:57:35.653374Z"
    }
   },
   "outputs": [],
   "source": [
    "train_hour = train.groupby('contents_open_hour').target.sum() / train.groupby('contents_open_hour').target.size()\n",
    "train['contents_open_hour'] = train['contents_open_hour'].apply(lambda x: train_hour[x])\n",
    "test['contents_open_hour'] = test['contents_open_hour'].apply(lambda x: train_hour[x])"
   ]
  },
  {
   "cell_type": "markdown",
   "metadata": {},
   "source": [
    "### 전처리\n",
    "- 코드표 결합\n",
    "- 같은 범주 일치 확인"
   ]
  },
  {
   "cell_type": "code",
   "execution_count": 9,
   "metadata": {
    "ExecuteTime": {
     "end_time": "2022-02-01T01:57:37.696777Z",
     "start_time": "2022-02-01T01:57:37.682815Z"
    }
   },
   "outputs": [],
   "source": [
    "d_code.columns = ['attribute_d', 'attribute_d_d', 'attribute_d_s', 'attribute_d_m', 'attribute_d_l']\n",
    "h_code.columns = ['attribute_h', 'attribute_h_m', 'attribute_h_l']\n",
    "l_code.columns = ['attribute_l', 'attribute_l_d', 'attribute_l_s', 'attribute_l_m', 'attribute_l_l']"
   ]
  },
  {
   "cell_type": "code",
   "execution_count": 10,
   "metadata": {
    "ExecuteTime": {
     "end_time": "2022-02-01T01:57:37.866941Z",
     "start_time": "2022-02-01T01:57:37.853455Z"
    }
   },
   "outputs": [],
   "source": [
    "def merge_codes(df : pd.DataFrame, \n",
    "                df_code : pd.DataFrame,\n",
    "                col : str) -> pd.DataFrame:\n",
    "    df = df.copy()\n",
    "    df_code = df_code.copy()\n",
    "    df_code = df_code.add_prefix(f\"{col}_\")\n",
    "    df_code.columns.values[0] = col\n",
    "    return pd.merge(df, df_code, how=\"left\", on=col)"
   ]
  },
  {
   "cell_type": "code",
   "execution_count": 11,
   "metadata": {
    "ExecuteTime": {
     "end_time": "2022-02-01T01:57:38.131320Z",
     "start_time": "2022-02-01T01:57:38.117359Z"
    }
   },
   "outputs": [],
   "source": [
    "def preprocess_data(\n",
    "                    df : pd.DataFrame, \n",
    "                    is_train : bool = True, \n",
    "                    cols_merge : List[Tuple[str, pd.DataFrame]] = [], \n",
    "                    cols_equi : List[Tuple[str, str]] = [] ,\n",
    "                    cols_drop : List[str] = ['id', 'person_prefer_f', 'person_prefer_g', 'contents_open_dt']\n",
    "                    ) -> Tuple[pd.DataFrame, np.ndarray]:\n",
    "    df = df.copy()\n",
    "\n",
    "    y_data = None\n",
    "    if is_train:\n",
    "        y_data = df['target'].to_numpy()\n",
    "        df = df.drop(columns='target')\n",
    "\n",
    "    for col, df_code in cols_merge:\n",
    "        df = merge_codes(df, df_code, col)\n",
    "\n",
    "    cols = df.select_dtypes(bool).columns.tolist()\n",
    "    df[cols] = df[cols].astype(int)\n",
    "\n",
    "    for col1, col2 in cols_equi:\n",
    "        df[f'{col1}_{col2}'] = (df[col1] == df[col2]).astype(int)\n",
    "        \n",
    "    df = df.drop(columns=cols_drop)\n",
    "    return (df, y_data)"
   ]
  },
  {
   "cell_type": "code",
   "execution_count": 12,
   "metadata": {
    "ExecuteTime": {
     "end_time": "2022-02-01T01:57:38.299125Z",
     "start_time": "2022-02-01T01:57:38.284260Z"
    }
   },
   "outputs": [],
   "source": [
    "# 소분류 중분류 대분류 속성코드 merge 컬럼명 및 데이터 프레임 리스트\n",
    "cols_merge = [\n",
    "              ('person_prefer_d_1', d_code),\n",
    "              ('person_prefer_d_2', d_code),\n",
    "              ('person_prefer_d_3', d_code),\n",
    "              ('contents_attribute_d', d_code),\n",
    "              ('person_prefer_h_1', h_code),\n",
    "              ('person_prefer_h_2', h_code),\n",
    "              ('person_prefer_h_3', h_code),\n",
    "              ('contents_attribute_h', h_code),\n",
    "              ('contents_attribute_l', l_code),\n",
    "]\n",
    "\n",
    "# 회원 속성과 콘텐츠 속성의 동일한 코드 여부에 대한 컬럼명 리스트\n",
    "cols_equi = [\n",
    "\n",
    "    ('contents_attribute_a', 'person_attribute_a'),\n",
    "    ('contents_attribute_c', 'person_prefer_c'),\n",
    "    ('contents_attribute_e', 'person_prefer_e'),\n",
    "\n",
    "    ('person_prefer_d_1_attribute_d_s', 'contents_attribute_d_attribute_d_s'),\n",
    "    ('person_prefer_d_1_attribute_d_m', 'contents_attribute_d_attribute_d_m'),\n",
    "    ('person_prefer_d_2_attribute_d_d', 'contents_attribute_d_attribute_d_d'),\n",
    "    ('person_prefer_d_2_attribute_d_s', 'contents_attribute_d_attribute_d_s'),\n",
    "    ('person_prefer_d_2_attribute_d_m', 'contents_attribute_d_attribute_d_m'),\n",
    "    ('person_prefer_d_2_attribute_d_l', 'contents_attribute_d_attribute_d_l'),\n",
    "    ('person_prefer_d_3_attribute_d_d', 'contents_attribute_d_attribute_d_d'),\n",
    "    ('person_prefer_d_3_attribute_d_s', 'contents_attribute_d_attribute_d_s'),\n",
    "    ('person_prefer_d_3_attribute_d_m', 'contents_attribute_d_attribute_d_m'),\n",
    "    ('person_prefer_d_3_attribute_d_l', 'contents_attribute_d_attribute_d_l'),\n",
    "\n",
    "    ('person_prefer_h_2_attribute_h_m', 'contents_attribute_h_attribute_h_m'),\n",
    "    ('person_prefer_h_2_attribute_h_l', 'contents_attribute_h_attribute_h_l'),\n",
    "    ('person_prefer_h_3_attribute_h_m', 'contents_attribute_h_attribute_h_m'),\n",
    "    ('person_prefer_h_3_attribute_h_l', 'contents_attribute_h_attribute_h_l'),\n",
    "\n",
    "]\n",
    "\n",
    "# 학습에 필요없는 컬럼 리스트\n",
    "cols_drop = ['id', 'person_prefer_f', 'person_prefer_g', 'contents_rn', 'contents_open_dt', 'person_rn']"
   ]
  },
  {
   "cell_type": "code",
   "execution_count": 13,
   "metadata": {
    "ExecuteTime": {
     "end_time": "2022-02-01T01:57:42.073098Z",
     "start_time": "2022-02-01T01:57:38.490301Z"
    }
   },
   "outputs": [
    {
     "data": {
      "text/plain": [
       "((501951, 76), (501951,), (46404, 76))"
      ]
     },
     "execution_count": 13,
     "metadata": {},
     "output_type": "execute_result"
    }
   ],
   "source": [
    "x_train, y_train = preprocess_data(train, cols_merge=cols_merge, cols_equi=cols_equi, cols_drop=cols_drop)\n",
    "x_test, _ = preprocess_data(test, is_train=False, cols_merge=cols_merge, cols_equi=cols_equi, cols_drop=cols_drop)\n",
    "x_train.shape, y_train.shape, x_test.shape"
   ]
  },
  {
   "cell_type": "markdown",
   "metadata": {},
   "source": [
    "### 대중소세 코드 값 가지고 비교"
   ]
  },
  {
   "cell_type": "code",
   "execution_count": 14,
   "metadata": {
    "ExecuteTime": {
     "end_time": "2022-02-01T01:57:42.371077Z",
     "start_time": "2022-02-01T01:57:42.340158Z"
    }
   },
   "outputs": [],
   "source": [
    "# D : 대-중-소-세 일치여부 score\n",
    "x_train['person_D_code1_score'] = (x_train['d_l_match_yn'] + x_train['person_prefer_d_1_attribute_d_m_contents_attribute_d_attribute_d_m'] \\\n",
    "                                + x_train['person_prefer_d_1_attribute_d_s_contents_attribute_d_attribute_d_s'] + x_train['d_m_match_yn'])\n",
    "x_train['person_D_code2_score'] = (x_train['person_prefer_d_2_attribute_d_l_contents_attribute_d_attribute_d_l'] + x_train['person_prefer_d_2_attribute_d_m_contents_attribute_d_attribute_d_m'] \\\n",
    "                                + x_train['person_prefer_d_2_attribute_d_s_contents_attribute_d_attribute_d_s'] + x_train['person_prefer_d_2_attribute_d_d_contents_attribute_d_attribute_d_d'])\n",
    "x_train['person_D_code3_score'] = (x_train['person_prefer_d_3_attribute_d_l_contents_attribute_d_attribute_d_l'] + x_train['person_prefer_d_3_attribute_d_m_contents_attribute_d_attribute_d_m'] \\\n",
    "                                + x_train['person_prefer_d_3_attribute_d_s_contents_attribute_d_attribute_d_s'] + x_train['person_prefer_d_3_attribute_d_d_contents_attribute_d_attribute_d_d'])\n",
    "\n",
    "x_test['person_D_code1_score'] =( x_test['d_l_match_yn'] + x_test['person_prefer_d_1_attribute_d_m_contents_attribute_d_attribute_d_m'] \\\n",
    "                                + x_test['person_prefer_d_1_attribute_d_s_contents_attribute_d_attribute_d_s'] + x_test['d_m_match_yn'])\n",
    "x_test['person_D_code2_score'] = (x_test['person_prefer_d_2_attribute_d_l_contents_attribute_d_attribute_d_l'] + x_test['person_prefer_d_2_attribute_d_m_contents_attribute_d_attribute_d_m'] \\\n",
    "                                + x_test['person_prefer_d_2_attribute_d_s_contents_attribute_d_attribute_d_s'] + x_test['person_prefer_d_2_attribute_d_d_contents_attribute_d_attribute_d_d'])\n",
    "x_test['person_D_code3_score'] = (x_test['person_prefer_d_3_attribute_d_l_contents_attribute_d_attribute_d_l'] + x_test['person_prefer_d_3_attribute_d_m_contents_attribute_d_attribute_d_m'] \\\n",
    "                                + x_test['person_prefer_d_3_attribute_d_s_contents_attribute_d_attribute_d_s'] + x_test['person_prefer_d_3_attribute_d_d_contents_attribute_d_attribute_d_d'])"
   ]
  },
  {
   "cell_type": "code",
   "execution_count": 15,
   "metadata": {
    "ExecuteTime": {
     "end_time": "2022-02-01T01:57:42.730277Z",
     "start_time": "2022-02-01T01:57:42.703350Z"
    }
   },
   "outputs": [],
   "source": [
    "# H : 대-중 일치여부 score\n",
    "x_train['person_H_code1_score'] = (x_train['h_l_match_yn'] + x_train['h_m_match_yn'])\n",
    "x_train['person_H_code2_score'] = (x_train['person_prefer_h_2_attribute_h_l_contents_attribute_h_attribute_h_l'] + x_train['person_prefer_h_2_attribute_h_m_contents_attribute_h_attribute_h_m'])\n",
    "x_train['person_H_code3_score'] = (x_train['person_prefer_h_3_attribute_h_l_contents_attribute_h_attribute_h_l'] + x_train['person_prefer_h_3_attribute_h_m_contents_attribute_h_attribute_h_m'])\n",
    "\n",
    "x_test['person_H_code1_score'] = (x_test['h_l_match_yn'] + x_test['h_m_match_yn'])\n",
    "x_test['person_H_code2_score'] = (x_test['person_prefer_h_2_attribute_h_l_contents_attribute_h_attribute_h_l'] + x_test['person_prefer_h_2_attribute_h_m_contents_attribute_h_attribute_h_m'])\n",
    "x_test['person_H_code3_score'] = (x_test['person_prefer_h_3_attribute_h_l_contents_attribute_h_attribute_h_l'] + x_test['person_prefer_h_3_attribute_h_m_contents_attribute_h_attribute_h_m'])"
   ]
  },
  {
   "cell_type": "code",
   "execution_count": 16,
   "metadata": {
    "ExecuteTime": {
     "end_time": "2022-02-01T01:57:43.030378Z",
     "start_time": "2022-02-01T01:57:43.000463Z"
    },
    "code_folding": []
   },
   "outputs": [],
   "source": [
    "x_train['content_L_code_sum'] = x_train['contents_attribute_l_attribute_l_l'] + x_train['contents_attribute_l_attribute_l_m'] \\\n",
    "                                + x_train['contents_attribute_l_attribute_l_s'] + x_train['contents_attribute_l_attribute_l_d']\n",
    "x_train['content_L_code_mul'] = x_train['contents_attribute_l_attribute_l_l'] * x_train['contents_attribute_l_attribute_l_m'] \\\n",
    "                                * x_train['contents_attribute_l_attribute_l_s'] * x_train['contents_attribute_l_attribute_l_d']\n",
    "\n",
    "x_test['content_L_code_sum'] = x_test['contents_attribute_l_attribute_l_l'] + x_test['contents_attribute_l_attribute_l_m'] \\\n",
    "                               + x_test['contents_attribute_l_attribute_l_s'] + x_test['contents_attribute_l_attribute_l_d']\n",
    "x_test['content_L_code_mul'] = x_test['contents_attribute_l_attribute_l_l'] * x_test['contents_attribute_l_attribute_l_m'] \\\n",
    "                               * x_test['contents_attribute_l_attribute_l_s'] * x_test['contents_attribute_l_attribute_l_d']"
   ]
  },
  {
   "cell_type": "code",
   "execution_count": 17,
   "metadata": {
    "ExecuteTime": {
     "end_time": "2022-02-01T01:57:43.394066Z",
     "start_time": "2022-02-01T01:57:43.366009Z"
    }
   },
   "outputs": [],
   "source": [
    "x_train['D_H_1_mul'] = x_train['person_D_code1_score'] * x_train['person_H_code1_score']\n",
    "x_train['D_H_2_mul'] = x_train['person_D_code2_score'] * x_train['person_H_code2_score']\n",
    "x_train['D_H_3_mul'] = x_train['person_D_code3_score'] * x_train['person_H_code3_score']\n",
    "x_train['D_H_1_sum'] = x_train['person_D_code1_score'] + x_train['person_H_code1_score']\n",
    "x_train['D_H_2_sum'] = x_train['person_D_code2_score'] + x_train['person_H_code2_score']\n",
    "x_train['D_H_3_sum'] = x_train['person_D_code3_score'] + x_train['person_H_code3_score']\n",
    "\n",
    "x_test['D_H_1_mul'] = x_test['person_D_code1_score'] * x_test['person_H_code1_score']\n",
    "x_test['D_H_2_mul'] = x_test['person_D_code2_score'] * x_test['person_H_code2_score']\n",
    "x_test['D_H_3_mul'] = x_test['person_D_code3_score'] * x_test['person_H_code3_score']\n",
    "x_test['D_H_1_sum'] = x_test['person_D_code1_score'] + x_test['person_H_code1_score']\n",
    "x_test['D_H_2_sum'] = x_test['person_D_code2_score'] + x_test['person_H_code2_score']\n",
    "x_test['D_H_3_sum'] = x_test['person_D_code3_score'] + x_test['person_H_code3_score']"
   ]
  },
  {
   "cell_type": "code",
   "execution_count": 18,
   "metadata": {
    "ExecuteTime": {
     "end_time": "2022-02-01T01:57:43.741297Z",
     "start_time": "2022-02-01T01:57:43.726338Z"
    }
   },
   "outputs": [],
   "source": [
    "x_train['DD_12_diff'] = x_train['person_D_code1_score'] - x_train['person_D_code2_score']\n",
    "x_train['DD_13_diff'] = x_train['person_D_code1_score'] - x_train['person_D_code3_score']\n",
    "x_train['DD_23_diff'] = x_train['person_D_code2_score'] - x_train['person_D_code3_score']\n",
    "\n",
    "x_test['DD_12_diff'] = x_test['person_D_code1_score'] - x_test['person_D_code2_score']\n",
    "x_test['DD_13_diff'] = x_test['person_D_code1_score'] - x_test['person_D_code3_score']\n",
    "x_test['DD_23_diff'] = x_test['person_D_code2_score'] - x_test['person_D_code3_score']"
   ]
  },
  {
   "cell_type": "code",
   "execution_count": 19,
   "metadata": {
    "ExecuteTime": {
     "end_time": "2022-02-01T01:57:44.063190Z",
     "start_time": "2022-02-01T01:57:44.049228Z"
    }
   },
   "outputs": [],
   "source": [
    "x_train['HH_12_diff'] = x_train['person_H_code1_score'] - x_train['person_H_code2_score']\n",
    "x_train['HH_13_diff'] = x_train['person_H_code1_score'] - x_train['person_H_code3_score']\n",
    "x_train['HH_23_diff'] = x_train['person_H_code2_score'] - x_train['person_H_code3_score']\n",
    "\n",
    "x_test['HH_12_diff'] = x_test['person_H_code1_score'] - x_test['person_H_code2_score']\n",
    "x_test['HH_13_diff'] = x_test['person_H_code1_score'] - x_test['person_H_code3_score']\n",
    "x_test['HH_23_diff'] = x_test['person_H_code2_score'] - x_test['person_H_code3_score']"
   ]
  },
  {
   "cell_type": "code",
   "execution_count": 20,
   "metadata": {
    "ExecuteTime": {
     "end_time": "2022-02-01T01:57:44.372380Z",
     "start_time": "2022-02-01T01:57:44.357387Z"
    }
   },
   "outputs": [],
   "source": [
    "x_train['DDD_sum'] = x_train['person_D_code1_score'] + x_train['person_D_code2_score'] + x_train['person_D_code3_score']\n",
    "x_train['HHH_sum'] = x_train['person_H_code1_score'] + x_train['person_H_code2_score'] + x_train['person_H_code3_score']\n",
    "\n",
    "x_test['DDD_sum'] = x_test['person_D_code1_score'] + x_test['person_D_code2_score'] + x_test['person_D_code3_score']\n",
    "x_test['HHH_sum'] = x_test['person_H_code1_score'] + x_test['person_H_code2_score'] + x_test['person_H_code3_score']"
   ]
  },
  {
   "cell_type": "code",
   "execution_count": 21,
   "metadata": {
    "ExecuteTime": {
     "end_time": "2022-02-01T01:57:44.701217Z",
     "start_time": "2022-02-01T01:57:44.687254Z"
    }
   },
   "outputs": [],
   "source": [
    "x_train['person_contents_e_diff'] = x_train['person_prefer_e'] - x_train['contents_attribute_e']\n",
    "x_test['person_contents_e_diff'] = x_test['person_prefer_e'] - x_test['contents_attribute_e']"
   ]
  },
  {
   "cell_type": "code",
   "execution_count": 22,
   "metadata": {
    "ExecuteTime": {
     "end_time": "2022-02-01T01:57:45.015935Z",
     "start_time": "2022-02-01T01:57:44.985984Z"
    }
   },
   "outputs": [],
   "source": [
    "x_train['D_E_1_mul'] = x_train['person_D_code1_score'] * x_train['person_contents_e_diff']\n",
    "x_train['D_E_2_mul'] = x_train['person_D_code2_score'] * x_train['person_contents_e_diff']\n",
    "x_train['D_E_3_mul'] = x_train['person_D_code3_score'] * x_train['person_contents_e_diff']\n",
    "x_train['D_E_1_sum'] = x_train['person_D_code1_score'] + x_train['person_contents_e_diff']\n",
    "x_train['D_E_2_sum'] = x_train['person_D_code2_score'] + x_train['person_contents_e_diff']\n",
    "x_train['D_E_3_sum'] = x_train['person_D_code3_score'] + x_train['person_contents_e_diff']\n",
    "\n",
    "x_test['D_E_1_mul'] = x_test['person_D_code1_score'] * x_test['person_contents_e_diff']\n",
    "x_test['D_E_2_mul'] = x_test['person_D_code2_score'] * x_test['person_contents_e_diff']\n",
    "x_test['D_E_3_mul'] = x_test['person_D_code3_score'] * x_test['person_contents_e_diff']\n",
    "x_test['D_E_1_sum'] = x_test['person_D_code1_score'] + x_test['person_contents_e_diff']\n",
    "x_test['D_E_2_sum'] = x_test['person_D_code2_score'] + x_test['person_contents_e_diff']\n",
    "x_test['D_E_3_sum'] = x_test['person_D_code3_score'] + x_test['person_contents_e_diff']"
   ]
  },
  {
   "cell_type": "code",
   "execution_count": 23,
   "metadata": {
    "ExecuteTime": {
     "end_time": "2022-02-01T01:57:45.332059Z",
     "start_time": "2022-02-01T01:57:45.302137Z"
    }
   },
   "outputs": [],
   "source": [
    "x_train['H_E_1_mul'] = x_train['person_H_code1_score'] * x_train['person_contents_e_diff']\n",
    "x_train['H_E_2_mul'] = x_train['person_H_code2_score'] * x_train['person_contents_e_diff']\n",
    "x_train['H_E_3_mul'] = x_train['person_H_code3_score'] * x_train['person_contents_e_diff']\n",
    "x_train['H_E_1_sum'] = x_train['person_H_code1_score'] + x_train['person_contents_e_diff']\n",
    "x_train['H_E_2_sum'] = x_train['person_H_code2_score'] + x_train['person_contents_e_diff']\n",
    "x_train['H_E_3_sum'] = x_train['person_H_code3_score'] + x_train['person_contents_e_diff']\n",
    "\n",
    "x_test['H_E_1_mul'] = x_test['person_H_code1_score'] * x_test['person_contents_e_diff']\n",
    "x_test['H_E_2_mul'] = x_test['person_H_code2_score'] * x_test['person_contents_e_diff']\n",
    "x_test['H_E_3_mul'] = x_test['person_H_code3_score'] * x_test['person_contents_e_diff']\n",
    "x_test['H_E_1_sum'] = x_test['person_H_code1_score'] + x_test['person_contents_e_diff']\n",
    "x_test['H_E_2_sum'] = x_test['person_H_code2_score'] + x_test['person_contents_e_diff']\n",
    "x_test['H_E_3_sum'] = x_test['person_H_code3_score'] + x_test['person_contents_e_diff']"
   ]
  },
  {
   "cell_type": "code",
   "execution_count": 24,
   "metadata": {
    "ExecuteTime": {
     "end_time": "2022-02-01T01:57:45.822745Z",
     "start_time": "2022-02-01T01:57:45.793823Z"
    }
   },
   "outputs": [],
   "source": [
    "x_train['L_E_mul'] = x_train['content_L_code_sum'] * x_train['person_contents_e_diff']\n",
    "x_train['L_E_sum'] = x_train['content_L_code_sum'] + x_train['person_contents_e_diff']\n",
    "\n",
    "x_test['L_E_mul'] = x_test['content_L_code_sum'] * x_test['person_contents_e_diff']\n",
    "x_test['L_E_sum'] = x_test['content_L_code_sum'] + x_test['person_contents_e_diff']"
   ]
  },
  {
   "cell_type": "code",
   "execution_count": 25,
   "metadata": {
    "ExecuteTime": {
     "end_time": "2022-02-01T01:57:46.152862Z",
     "start_time": "2022-02-01T01:57:46.137903Z"
    }
   },
   "outputs": [
    {
     "data": {
      "text/plain": [
       "((501951, 113), (46404, 113))"
      ]
     },
     "execution_count": 25,
     "metadata": {},
     "output_type": "execute_result"
    }
   ],
   "source": [
    "x_train.shape, x_test.shape"
   ]
  },
  {
   "cell_type": "code",
   "execution_count": 26,
   "metadata": {
    "ExecuteTime": {
     "end_time": "2022-02-01T01:57:46.583742Z",
     "start_time": "2022-02-01T01:57:46.536835Z"
    },
    "scrolled": true
   },
   "outputs": [
    {
     "data": {
      "text/html": [
       "<div>\n",
       "<style scoped>\n",
       "    .dataframe tbody tr th:only-of-type {\n",
       "        vertical-align: middle;\n",
       "    }\n",
       "\n",
       "    .dataframe tbody tr th {\n",
       "        vertical-align: top;\n",
       "    }\n",
       "\n",
       "    .dataframe thead th {\n",
       "        text-align: right;\n",
       "    }\n",
       "</style>\n",
       "<table border=\"1\" class=\"dataframe\">\n",
       "  <thead>\n",
       "    <tr style=\"text-align: right;\">\n",
       "      <th></th>\n",
       "      <th>HH_12_diff</th>\n",
       "      <th>HH_13_diff</th>\n",
       "      <th>HH_23_diff</th>\n",
       "      <th>DDD_sum</th>\n",
       "      <th>HHH_sum</th>\n",
       "      <th>person_contents_e_diff</th>\n",
       "      <th>D_E_1_mul</th>\n",
       "      <th>D_E_2_mul</th>\n",
       "      <th>D_E_3_mul</th>\n",
       "      <th>D_E_1_sum</th>\n",
       "      <th>D_E_2_sum</th>\n",
       "      <th>D_E_3_sum</th>\n",
       "      <th>H_E_1_mul</th>\n",
       "      <th>H_E_2_mul</th>\n",
       "      <th>H_E_3_mul</th>\n",
       "      <th>H_E_1_sum</th>\n",
       "      <th>H_E_2_sum</th>\n",
       "      <th>H_E_3_sum</th>\n",
       "      <th>L_E_mul</th>\n",
       "      <th>L_E_sum</th>\n",
       "    </tr>\n",
       "  </thead>\n",
       "  <tbody>\n",
       "    <tr>\n",
       "      <th>0</th>\n",
       "      <td>-1</td>\n",
       "      <td>0</td>\n",
       "      <td>1</td>\n",
       "      <td>6</td>\n",
       "      <td>1</td>\n",
       "      <td>4</td>\n",
       "      <td>16</td>\n",
       "      <td>4</td>\n",
       "      <td>4</td>\n",
       "      <td>8</td>\n",
       "      <td>5</td>\n",
       "      <td>5</td>\n",
       "      <td>0</td>\n",
       "      <td>4</td>\n",
       "      <td>0</td>\n",
       "      <td>4</td>\n",
       "      <td>5</td>\n",
       "      <td>4</td>\n",
       "      <td>27336</td>\n",
       "      <td>6838</td>\n",
       "    </tr>\n",
       "    <tr>\n",
       "      <th>1</th>\n",
       "      <td>1</td>\n",
       "      <td>1</td>\n",
       "      <td>0</td>\n",
       "      <td>0</td>\n",
       "      <td>4</td>\n",
       "      <td>0</td>\n",
       "      <td>0</td>\n",
       "      <td>0</td>\n",
       "      <td>0</td>\n",
       "      <td>0</td>\n",
       "      <td>0</td>\n",
       "      <td>0</td>\n",
       "      <td>0</td>\n",
       "      <td>0</td>\n",
       "      <td>0</td>\n",
       "      <td>2</td>\n",
       "      <td>1</td>\n",
       "      <td>1</td>\n",
       "      <td>0</td>\n",
       "      <td>6834</td>\n",
       "    </tr>\n",
       "    <tr>\n",
       "      <th>2</th>\n",
       "      <td>1</td>\n",
       "      <td>0</td>\n",
       "      <td>-1</td>\n",
       "      <td>2</td>\n",
       "      <td>2</td>\n",
       "      <td>-1</td>\n",
       "      <td>0</td>\n",
       "      <td>-2</td>\n",
       "      <td>0</td>\n",
       "      <td>-1</td>\n",
       "      <td>1</td>\n",
       "      <td>-1</td>\n",
       "      <td>-1</td>\n",
       "      <td>0</td>\n",
       "      <td>-1</td>\n",
       "      <td>0</td>\n",
       "      <td>-1</td>\n",
       "      <td>0</td>\n",
       "      <td>-6782</td>\n",
       "      <td>6781</td>\n",
       "    </tr>\n",
       "    <tr>\n",
       "      <th>3</th>\n",
       "      <td>1</td>\n",
       "      <td>1</td>\n",
       "      <td>0</td>\n",
       "      <td>0</td>\n",
       "      <td>1</td>\n",
       "      <td>0</td>\n",
       "      <td>0</td>\n",
       "      <td>0</td>\n",
       "      <td>0</td>\n",
       "      <td>0</td>\n",
       "      <td>0</td>\n",
       "      <td>0</td>\n",
       "      <td>0</td>\n",
       "      <td>0</td>\n",
       "      <td>0</td>\n",
       "      <td>1</td>\n",
       "      <td>0</td>\n",
       "      <td>0</td>\n",
       "      <td>0</td>\n",
       "      <td>6834</td>\n",
       "    </tr>\n",
       "    <tr>\n",
       "      <th>4</th>\n",
       "      <td>0</td>\n",
       "      <td>0</td>\n",
       "      <td>0</td>\n",
       "      <td>6</td>\n",
       "      <td>0</td>\n",
       "      <td>0</td>\n",
       "      <td>0</td>\n",
       "      <td>0</td>\n",
       "      <td>0</td>\n",
       "      <td>4</td>\n",
       "      <td>1</td>\n",
       "      <td>1</td>\n",
       "      <td>0</td>\n",
       "      <td>0</td>\n",
       "      <td>0</td>\n",
       "      <td>0</td>\n",
       "      <td>0</td>\n",
       "      <td>0</td>\n",
       "      <td>0</td>\n",
       "      <td>6834</td>\n",
       "    </tr>\n",
       "    <tr>\n",
       "      <th>...</th>\n",
       "      <td>...</td>\n",
       "      <td>...</td>\n",
       "      <td>...</td>\n",
       "      <td>...</td>\n",
       "      <td>...</td>\n",
       "      <td>...</td>\n",
       "      <td>...</td>\n",
       "      <td>...</td>\n",
       "      <td>...</td>\n",
       "      <td>...</td>\n",
       "      <td>...</td>\n",
       "      <td>...</td>\n",
       "      <td>...</td>\n",
       "      <td>...</td>\n",
       "      <td>...</td>\n",
       "      <td>...</td>\n",
       "      <td>...</td>\n",
       "      <td>...</td>\n",
       "      <td>...</td>\n",
       "      <td>...</td>\n",
       "    </tr>\n",
       "    <tr>\n",
       "      <th>501946</th>\n",
       "      <td>1</td>\n",
       "      <td>1</td>\n",
       "      <td>0</td>\n",
       "      <td>0</td>\n",
       "      <td>1</td>\n",
       "      <td>-2</td>\n",
       "      <td>0</td>\n",
       "      <td>0</td>\n",
       "      <td>0</td>\n",
       "      <td>-2</td>\n",
       "      <td>-2</td>\n",
       "      <td>-2</td>\n",
       "      <td>-2</td>\n",
       "      <td>0</td>\n",
       "      <td>0</td>\n",
       "      <td>-1</td>\n",
       "      <td>-2</td>\n",
       "      <td>-2</td>\n",
       "      <td>-6102</td>\n",
       "      <td>3049</td>\n",
       "    </tr>\n",
       "    <tr>\n",
       "      <th>501947</th>\n",
       "      <td>-1</td>\n",
       "      <td>0</td>\n",
       "      <td>1</td>\n",
       "      <td>10</td>\n",
       "      <td>4</td>\n",
       "      <td>0</td>\n",
       "      <td>0</td>\n",
       "      <td>0</td>\n",
       "      <td>0</td>\n",
       "      <td>4</td>\n",
       "      <td>3</td>\n",
       "      <td>3</td>\n",
       "      <td>0</td>\n",
       "      <td>0</td>\n",
       "      <td>0</td>\n",
       "      <td>1</td>\n",
       "      <td>2</td>\n",
       "      <td>1</td>\n",
       "      <td>0</td>\n",
       "      <td>2398</td>\n",
       "    </tr>\n",
       "    <tr>\n",
       "      <th>501948</th>\n",
       "      <td>1</td>\n",
       "      <td>1</td>\n",
       "      <td>0</td>\n",
       "      <td>9</td>\n",
       "      <td>1</td>\n",
       "      <td>-3</td>\n",
       "      <td>-12</td>\n",
       "      <td>-3</td>\n",
       "      <td>-12</td>\n",
       "      <td>1</td>\n",
       "      <td>-2</td>\n",
       "      <td>1</td>\n",
       "      <td>-3</td>\n",
       "      <td>0</td>\n",
       "      <td>0</td>\n",
       "      <td>-2</td>\n",
       "      <td>-3</td>\n",
       "      <td>-3</td>\n",
       "      <td>-9801</td>\n",
       "      <td>3264</td>\n",
       "    </tr>\n",
       "    <tr>\n",
       "      <th>501949</th>\n",
       "      <td>1</td>\n",
       "      <td>0</td>\n",
       "      <td>-1</td>\n",
       "      <td>9</td>\n",
       "      <td>2</td>\n",
       "      <td>0</td>\n",
       "      <td>0</td>\n",
       "      <td>0</td>\n",
       "      <td>0</td>\n",
       "      <td>1</td>\n",
       "      <td>4</td>\n",
       "      <td>4</td>\n",
       "      <td>0</td>\n",
       "      <td>0</td>\n",
       "      <td>0</td>\n",
       "      <td>1</td>\n",
       "      <td>0</td>\n",
       "      <td>1</td>\n",
       "      <td>0</td>\n",
       "      <td>3968</td>\n",
       "    </tr>\n",
       "    <tr>\n",
       "      <th>501950</th>\n",
       "      <td>1</td>\n",
       "      <td>1</td>\n",
       "      <td>0</td>\n",
       "      <td>9</td>\n",
       "      <td>1</td>\n",
       "      <td>1</td>\n",
       "      <td>4</td>\n",
       "      <td>1</td>\n",
       "      <td>4</td>\n",
       "      <td>5</td>\n",
       "      <td>2</td>\n",
       "      <td>5</td>\n",
       "      <td>1</td>\n",
       "      <td>0</td>\n",
       "      <td>0</td>\n",
       "      <td>2</td>\n",
       "      <td>1</td>\n",
       "      <td>1</td>\n",
       "      <td>4334</td>\n",
       "      <td>4335</td>\n",
       "    </tr>\n",
       "  </tbody>\n",
       "</table>\n",
       "<p>501951 rows × 20 columns</p>\n",
       "</div>"
      ],
      "text/plain": [
       "        HH_12_diff  HH_13_diff  HH_23_diff  DDD_sum  HHH_sum  \\\n",
       "0               -1           0           1        6        1   \n",
       "1                1           1           0        0        4   \n",
       "2                1           0          -1        2        2   \n",
       "3                1           1           0        0        1   \n",
       "4                0           0           0        6        0   \n",
       "...            ...         ...         ...      ...      ...   \n",
       "501946           1           1           0        0        1   \n",
       "501947          -1           0           1       10        4   \n",
       "501948           1           1           0        9        1   \n",
       "501949           1           0          -1        9        2   \n",
       "501950           1           1           0        9        1   \n",
       "\n",
       "        person_contents_e_diff  D_E_1_mul  D_E_2_mul  D_E_3_mul  D_E_1_sum  \\\n",
       "0                            4         16          4          4          8   \n",
       "1                            0          0          0          0          0   \n",
       "2                           -1          0         -2          0         -1   \n",
       "3                            0          0          0          0          0   \n",
       "4                            0          0          0          0          4   \n",
       "...                        ...        ...        ...        ...        ...   \n",
       "501946                      -2          0          0          0         -2   \n",
       "501947                       0          0          0          0          4   \n",
       "501948                      -3        -12         -3        -12          1   \n",
       "501949                       0          0          0          0          1   \n",
       "501950                       1          4          1          4          5   \n",
       "\n",
       "        D_E_2_sum  D_E_3_sum  H_E_1_mul  H_E_2_mul  H_E_3_mul  H_E_1_sum  \\\n",
       "0               5          5          0          4          0          4   \n",
       "1               0          0          0          0          0          2   \n",
       "2               1         -1         -1          0         -1          0   \n",
       "3               0          0          0          0          0          1   \n",
       "4               1          1          0          0          0          0   \n",
       "...           ...        ...        ...        ...        ...        ...   \n",
       "501946         -2         -2         -2          0          0         -1   \n",
       "501947          3          3          0          0          0          1   \n",
       "501948         -2          1         -3          0          0         -2   \n",
       "501949          4          4          0          0          0          1   \n",
       "501950          2          5          1          0          0          2   \n",
       "\n",
       "        H_E_2_sum  H_E_3_sum  L_E_mul  L_E_sum  \n",
       "0               5          4    27336     6838  \n",
       "1               1          1        0     6834  \n",
       "2              -1          0    -6782     6781  \n",
       "3               0          0        0     6834  \n",
       "4               0          0        0     6834  \n",
       "...           ...        ...      ...      ...  \n",
       "501946         -2         -2    -6102     3049  \n",
       "501947          2          1        0     2398  \n",
       "501948         -3         -3    -9801     3264  \n",
       "501949          0          1        0     3968  \n",
       "501950          1          1     4334     4335  \n",
       "\n",
       "[501951 rows x 20 columns]"
      ]
     },
     "execution_count": 26,
     "metadata": {},
     "output_type": "execute_result"
    }
   ],
   "source": [
    "x_train.iloc[:, -20:]"
   ]
  },
  {
   "cell_type": "markdown",
   "metadata": {},
   "source": [
    "### 범주형 칼럼 리스트"
   ]
  },
  {
   "cell_type": "code",
   "execution_count": 27,
   "metadata": {
    "ExecuteTime": {
     "end_time": "2022-02-01T01:57:47.467162Z",
     "start_time": "2022-02-01T01:57:46.979652Z"
    }
   },
   "outputs": [],
   "source": [
    "cat_features = x_train.columns[x_train.nunique() > 2].tolist()\n",
    "cat_features = list(set(cat_features) - set(['content_L_code_sum', 'content_L_code_mul', 'L_E_mul', 'L_E_sum']))"
   ]
  },
  {
   "cell_type": "code",
   "execution_count": 28,
   "metadata": {
    "ExecuteTime": {
     "end_time": "2022-02-01T01:57:47.786606Z",
     "start_time": "2022-02-01T01:57:47.773635Z"
    }
   },
   "outputs": [],
   "source": [
    "num_features = ['content_L_code_sum', 'content_L_code_mul', 'L_E_mul', 'L_E_sum']"
   ]
  },
  {
   "cell_type": "markdown",
   "metadata": {},
   "source": [
    "### 가우스-랭크 스케일링"
   ]
  },
  {
   "cell_type": "code",
   "execution_count": 29,
   "metadata": {
    "ExecuteTime": {
     "end_time": "2022-02-01T01:57:56.739521Z",
     "start_time": "2022-02-01T01:57:56.719544Z"
    }
   },
   "outputs": [],
   "source": [
    "import numpy as np\n",
    "from joblib import Parallel, delayed\n",
    "from scipy.interpolate import interp1d\n",
    "from scipy.special import erf, erfinv\n",
    "from sklearn.base import BaseEstimator, TransformerMixin\n",
    "from sklearn.utils.validation import FLOAT_DTYPES, check_array, check_is_fitted\n",
    "\n",
    "class GaussRankScaler(BaseEstimator, TransformerMixin):\n",
    "    \"\"\"Transform features by scaling each feature to a normal distribution.\n",
    "    Parameters\n",
    "        ----------\n",
    "        epsilon : float, optional, default 1e-4\n",
    "            A small amount added to the lower bound or subtracted\n",
    "            from the upper bound. This value prevents infinite number\n",
    "            from occurring when applying the inverse error function.\n",
    "        copy : boolean, optional, default True\n",
    "            If False, try to avoid a copy and do inplace scaling instead.\n",
    "            This is not guaranteed to always work inplace; e.g. if the data is\n",
    "            not a NumPy array, a copy may still be returned.\n",
    "        n_jobs : int or None, optional, default None\n",
    "            Number of jobs to run in parallel.\n",
    "            ``None`` means 1 and ``-1`` means using all processors.\n",
    "        interp_kind : str or int, optional, default 'linear'\n",
    "           Specifies the kind of interpolation as a string\n",
    "            ('linear', 'nearest', 'zero', 'slinear', 'quadratic', 'cubic',\n",
    "            'previous', 'next', where 'zero', 'slinear', 'quadratic' and 'cubic'\n",
    "            refer to a spline interpolation of zeroth, first, second or third\n",
    "            order; 'previous' and 'next' simply return the previous or next value\n",
    "            of the point) or as an integer specifying the order of the spline\n",
    "            interpolator to use.\n",
    "        interp_copy : bool, optional, default False\n",
    "            If True, the interpolation function makes internal copies of x and y.\n",
    "            If False, references to `x` and `y` are used.\n",
    "        Attributes\n",
    "        ----------\n",
    "        interp_func_ : list\n",
    "            The interpolation function for each feature in the training set.\n",
    "        \"\"\"\n",
    "\n",
    "    def __init__(self, epsilon=1e-4, copy=True, n_jobs=None, interp_kind='linear', interp_copy=False):\n",
    "        self.epsilon = epsilon\n",
    "        self.copy = copy\n",
    "        self.interp_kind = interp_kind\n",
    "        self.interp_copy = interp_copy\n",
    "        self.fill_value = 'extrapolate'\n",
    "        self.n_jobs = n_jobs\n",
    "\n",
    "    def fit(self, X, y=None):\n",
    "        \"\"\"Fit interpolation function to link rank with original data for future scaling\n",
    "        Parameters\n",
    "        ----------\n",
    "        X : array-like, shape (n_samples, n_features)\n",
    "            The data used to fit interpolation function for later scaling along the features axis.\n",
    "        y\n",
    "            Ignored\n",
    "        \"\"\"\n",
    "        X = check_array(X, copy=self.copy, estimator=self, dtype=FLOAT_DTYPES, force_all_finite=True)\n",
    "\n",
    "        self.interp_func_ = Parallel(n_jobs=self.n_jobs)(delayed(self._fit)(x) for x in X.T)\n",
    "        return self\n",
    "\n",
    "    def _fit(self, x):\n",
    "        x = self.drop_duplicates(x)\n",
    "        rank = np.argsort(np.argsort(x))\n",
    "        bound = 1.0 - self.epsilon\n",
    "        factor = np.max(rank) / 2.0 * bound\n",
    "        scaled_rank = np.clip(rank / factor - bound, -bound, bound)\n",
    "        return interp1d(\n",
    "            x, scaled_rank, kind=self.interp_kind, copy=self.interp_copy, fill_value=self.fill_value)\n",
    "\n",
    "    def transform(self, X, copy=None):\n",
    "        \"\"\"Scale the data with the Gauss Rank algorithm\n",
    "        Parameters\n",
    "        ----------\n",
    "        X : array-like, shape (n_samples, n_features)\n",
    "            The data used to scale along the features axis.\n",
    "        copy : bool, optional (default: None)\n",
    "            Copy the input X or not.\n",
    "        \"\"\"\n",
    "        check_is_fitted(self, 'interp_func_')\n",
    "\n",
    "        copy = copy if copy is not None else self.copy\n",
    "        X = check_array(X, copy=copy, estimator=self, dtype=FLOAT_DTYPES, force_all_finite=True)\n",
    "\n",
    "        X = np.array(Parallel(n_jobs=self.n_jobs)(delayed(self._transform)(i, x) for i, x in enumerate(X.T))).T\n",
    "        return X\n",
    "\n",
    "    def _transform(self, i, x):\n",
    "        return erfinv(self.interp_func_[i](x))\n",
    "\n",
    "    def inverse_transform(self, X, copy=None):\n",
    "        \"\"\"Scale back the data to the original representation\n",
    "        Parameters\n",
    "        ----------\n",
    "        X : array-like, shape [n_samples, n_features]\n",
    "            The data used to scale along the features axis.\n",
    "        copy : bool, optional (default: None)\n",
    "            Copy the input X or not.\n",
    "        \"\"\"\n",
    "        check_is_fitted(self, 'interp_func_')\n",
    "\n",
    "        copy = copy if copy is not None else self.copy\n",
    "        X = check_array(X, copy=copy, estimator=self, dtype=FLOAT_DTYPES, force_all_finite=True)\n",
    "\n",
    "        X = np.array(Parallel(n_jobs=self.n_jobs)(delayed(self._inverse_transform)(i, x) for i, x in enumerate(X.T))).T\n",
    "        return X\n",
    "\n",
    "    def _inverse_transform(self, i, x):\n",
    "        inv_interp_func = interp1d(self.interp_func_[i].y, self.interp_func_[i].x, kind=self.interp_kind,\n",
    "                                   copy=self.interp_copy, fill_value=self.fill_value)\n",
    "        return inv_interp_func(erf(x))\n",
    "\n",
    "    @staticmethod\n",
    "    def drop_duplicates(x):\n",
    "        is_unique = np.zeros_like(x, dtype=bool)\n",
    "        is_unique[np.unique(x, return_index=True)[1]] = True\n",
    "        return x[is_unique]"
   ]
  },
  {
   "cell_type": "code",
   "execution_count": 30,
   "metadata": {
    "ExecuteTime": {
     "end_time": "2022-02-01T01:57:58.371271Z",
     "start_time": "2022-02-01T01:57:57.182664Z"
    }
   },
   "outputs": [],
   "source": [
    "scaler = GaussRankScaler()\n",
    "x_train[num_features] = pd.DataFrame(scaler.fit_transform(x_train[num_features]))\n",
    "x_test[num_features] = pd.DataFrame(scaler.transform(x_test[num_features]))\n",
    "\n",
    "x_train[num_features].columns = num_features\n",
    "x_test[num_features].columns = num_features"
   ]
  },
  {
   "cell_type": "code",
   "execution_count": 31,
   "metadata": {
    "ExecuteTime": {
     "end_time": "2022-02-01T01:57:58.791817Z",
     "start_time": "2022-02-01T01:57:58.762316Z"
    }
   },
   "outputs": [
    {
     "data": {
      "text/html": [
       "<div>\n",
       "<style scoped>\n",
       "    .dataframe tbody tr th:only-of-type {\n",
       "        vertical-align: middle;\n",
       "    }\n",
       "\n",
       "    .dataframe tbody tr th {\n",
       "        vertical-align: top;\n",
       "    }\n",
       "\n",
       "    .dataframe thead th {\n",
       "        text-align: right;\n",
       "    }\n",
       "</style>\n",
       "<table border=\"1\" class=\"dataframe\">\n",
       "  <thead>\n",
       "    <tr style=\"text-align: right;\">\n",
       "      <th></th>\n",
       "      <th>content_L_code_sum</th>\n",
       "      <th>content_L_code_mul</th>\n",
       "      <th>L_E_mul</th>\n",
       "      <th>L_E_sum</th>\n",
       "    </tr>\n",
       "  </thead>\n",
       "  <tbody>\n",
       "    <tr>\n",
       "      <th>0</th>\n",
       "      <td>0.588596</td>\n",
       "      <td>0.588596</td>\n",
       "      <td>0.917041</td>\n",
       "      <td>0.608866</td>\n",
       "    </tr>\n",
       "    <tr>\n",
       "      <th>1</th>\n",
       "      <td>0.588596</td>\n",
       "      <td>0.588596</td>\n",
       "      <td>0.071223</td>\n",
       "      <td>0.606081</td>\n",
       "    </tr>\n",
       "    <tr>\n",
       "      <th>2</th>\n",
       "      <td>0.571712</td>\n",
       "      <td>0.571712</td>\n",
       "      <td>-0.098734</td>\n",
       "      <td>0.584805</td>\n",
       "    </tr>\n",
       "    <tr>\n",
       "      <th>3</th>\n",
       "      <td>0.588596</td>\n",
       "      <td>0.588596</td>\n",
       "      <td>0.071223</td>\n",
       "      <td>0.606081</td>\n",
       "    </tr>\n",
       "    <tr>\n",
       "      <th>4</th>\n",
       "      <td>0.588596</td>\n",
       "      <td>0.588596</td>\n",
       "      <td>0.071223</td>\n",
       "      <td>0.606081</td>\n",
       "    </tr>\n",
       "  </tbody>\n",
       "</table>\n",
       "</div>"
      ],
      "text/plain": [
       "   content_L_code_sum  content_L_code_mul   L_E_mul   L_E_sum\n",
       "0            0.588596            0.588596  0.917041  0.608866\n",
       "1            0.588596            0.588596  0.071223  0.606081\n",
       "2            0.571712            0.571712 -0.098734  0.584805\n",
       "3            0.588596            0.588596  0.071223  0.606081\n",
       "4            0.588596            0.588596  0.071223  0.606081"
      ]
     },
     "execution_count": 31,
     "metadata": {},
     "output_type": "execute_result"
    }
   ],
   "source": [
    "x_train[num_features].head()"
   ]
  },
  {
   "cell_type": "markdown",
   "metadata": {},
   "source": [
    "## 모델링"
   ]
  },
  {
   "cell_type": "markdown",
   "metadata": {},
   "source": [
    "### 학습 파라미터"
   ]
  },
  {
   "cell_type": "code",
   "execution_count": 32,
   "metadata": {
    "ExecuteTime": {
     "end_time": "2022-02-01T01:58:02.572361Z",
     "start_time": "2022-02-01T01:58:02.555406Z"
    }
   },
   "outputs": [],
   "source": [
    "is_holdout = False\n",
    "n_splits = 5\n",
    "iterations = 3000\n",
    "patience = 100\n",
    "\n",
    "cv = KFold(n_splits=n_splits, shuffle=True, random_state=SEED)"
   ]
  },
  {
   "cell_type": "code",
   "execution_count": 33,
   "metadata": {
    "ExecuteTime": {
     "end_time": "2022-02-01T01:58:20.391844Z",
     "start_time": "2022-02-01T01:58:02.909430Z"
    }
   },
   "outputs": [],
   "source": [
    "x_train[num_features] = x_train[num_features].astype(float)\n",
    "x_train[cat_features] = x_train[cat_features].astype(str)\n",
    "\n",
    "x_test[num_features] = x_test[num_features].astype(float)\n",
    "x_test[cat_features] = x_test[cat_features].astype(str)"
   ]
  },
  {
   "cell_type": "markdown",
   "metadata": {},
   "source": [
    "### 학습"
   ]
  },
  {
   "cell_type": "code",
   "execution_count": 34,
   "metadata": {
    "ExecuteTime": {
     "end_time": "2022-02-01T08:40:02.919617Z",
     "start_time": "2022-02-01T01:58:21.318945Z"
    },
    "code_folding": []
   },
   "outputs": [
    {
     "name": "stdout",
     "output_type": "stream",
     "text": [
      "==================================================\n",
      "Learning rate set to 0.086395\n",
      "0:\tlearn: 0.6228265\ttest: 0.6256143\tbest: 0.6256143 (0)\ttotal: 4.84s\tremaining: 4h 1m 54s\n",
      "100:\tlearn: 0.6585608\ttest: 0.6845697\tbest: 0.6847914 (98)\ttotal: 8m 16s\tremaining: 3h 57m 44s\n",
      "200:\tlearn: 0.6658963\ttest: 0.6908721\tbest: 0.6908721 (200)\ttotal: 16m 10s\tremaining: 3h 45m 18s\n",
      "300:\tlearn: 0.6698645\ttest: 0.6919800\tbest: 0.6919800 (300)\ttotal: 24m 11s\tremaining: 3h 36m 57s\n",
      "400:\tlearn: 0.6724766\ttest: 0.6933551\tbest: 0.6935256 (372)\ttotal: 32m 10s\tremaining: 3h 28m 30s\n",
      "500:\tlearn: 0.6745086\ttest: 0.6938787\tbest: 0.6940588 (479)\ttotal: 40m 14s\tremaining: 3h 20m 44s\n",
      "600:\tlearn: 0.6763565\ttest: 0.6942549\tbest: 0.6943947 (554)\ttotal: 48m 34s\tremaining: 3h 13m 52s\n",
      "700:\tlearn: 0.6779117\ttest: 0.6947194\tbest: 0.6949998 (690)\ttotal: 56m 47s\tremaining: 3h 6m 13s\n",
      "Stopped by overfitting detector  (100 iterations wait)\n",
      "\n",
      "bestTest = 0.6949997652\n",
      "bestIteration = 690\n",
      "\n",
      "Shrink model to first 691 iterations.\n",
      "==================================================\n",
      "Learning rate set to 0.086395\n",
      "0:\tlearn: 0.6361772\ttest: 0.6377400\tbest: 0.6377400 (0)\ttotal: 5.58s\tremaining: 4h 39m 9s\n",
      "100:\tlearn: 0.6606965\ttest: 0.6854578\tbest: 0.6854578 (100)\ttotal: 8m 36s\tremaining: 4h 7m\n",
      "200:\tlearn: 0.6667320\ttest: 0.6903285\tbest: 0.6903285 (200)\ttotal: 16m 44s\tremaining: 3h 53m 2s\n",
      "300:\tlearn: 0.6706605\ttest: 0.6932334\tbest: 0.6932334 (300)\ttotal: 25m 42s\tremaining: 3h 50m 35s\n",
      "400:\tlearn: 0.6730849\ttest: 0.6939227\tbest: 0.6940206 (398)\ttotal: 34m 22s\tremaining: 3h 42m 45s\n",
      "500:\tlearn: 0.6751459\ttest: 0.6936876\tbest: 0.6940439 (415)\ttotal: 43m 11s\tremaining: 3h 35m 26s\n",
      "Stopped by overfitting detector  (100 iterations wait)\n",
      "\n",
      "bestTest = 0.6940439048\n",
      "bestIteration = 415\n",
      "\n",
      "Shrink model to first 416 iterations.\n",
      "==================================================\n",
      "Learning rate set to 0.086395\n",
      "0:\tlearn: 0.6071894\ttest: 0.6091128\tbest: 0.6091128 (0)\ttotal: 6.12s\tremaining: 5h 5m 59s\n",
      "100:\tlearn: 0.6613410\ttest: 0.6810274\tbest: 0.6811354 (99)\ttotal: 9m 17s\tremaining: 4h 26m 52s\n",
      "200:\tlearn: 0.6682128\ttest: 0.6885611\tbest: 0.6885611 (200)\ttotal: 18m 15s\tremaining: 4h 14m 20s\n",
      "300:\tlearn: 0.6720956\ttest: 0.6889730\tbest: 0.6893659 (292)\ttotal: 27m 27s\tremaining: 4h 6m 14s\n",
      "400:\tlearn: 0.6740857\ttest: 0.6896649\tbest: 0.6897500 (398)\ttotal: 36m 33s\tremaining: 3h 56m 57s\n",
      "500:\tlearn: 0.6761726\ttest: 0.6904206\tbest: 0.6907249 (492)\ttotal: 46m 36s\tremaining: 3h 52m 27s\n",
      "600:\tlearn: 0.6778384\ttest: 0.6910357\tbest: 0.6911262 (539)\ttotal: 57m 53s\tremaining: 3h 51m 3s\n",
      "Stopped by overfitting detector  (100 iterations wait)\n",
      "\n",
      "bestTest = 0.6911261995\n",
      "bestIteration = 539\n",
      "\n",
      "Shrink model to first 540 iterations.\n",
      "==================================================\n",
      "Learning rate set to 0.086395\n",
      "0:\tlearn: 0.6389520\ttest: 0.6380346\tbest: 0.6380346 (0)\ttotal: 7.39s\tremaining: 6h 9m 28s\n",
      "100:\tlearn: 0.6592535\ttest: 0.6817090\tbest: 0.6817090 (100)\ttotal: 11m 47s\tremaining: 5h 38m 17s\n",
      "200:\tlearn: 0.6664449\ttest: 0.6868717\tbest: 0.6868717 (200)\ttotal: 24m 5s\tremaining: 5h 35m 26s\n",
      "300:\tlearn: 0.6700421\ttest: 0.6887983\tbest: 0.6890278 (297)\ttotal: 38m 46s\tremaining: 5h 47m 37s\n",
      "400:\tlearn: 0.6729198\ttest: 0.6898645\tbest: 0.6901087 (391)\ttotal: 51m 58s\tremaining: 5h 36m 52s\n",
      "500:\tlearn: 0.6747145\ttest: 0.6903171\tbest: 0.6905096 (495)\ttotal: 1h 4m 44s\tremaining: 5h 22m 54s\n",
      "600:\tlearn: 0.6762334\ttest: 0.6905688\tbest: 0.6909868 (580)\ttotal: 1h 19m 15s\tremaining: 5h 16m 20s\n",
      "Stopped by overfitting detector  (100 iterations wait)\n",
      "\n",
      "bestTest = 0.6909868012\n",
      "bestIteration = 580\n",
      "\n",
      "Shrink model to first 581 iterations.\n",
      "==================================================\n",
      "Learning rate set to 0.086395\n",
      "0:\tlearn: 0.6391938\ttest: 0.6359487\tbest: 0.6359487 (0)\ttotal: 8.04s\tremaining: 6h 41m 51s\n",
      "100:\tlearn: 0.6603363\ttest: 0.6827067\tbest: 0.6827067 (100)\ttotal: 14m 22s\tremaining: 6h 52m 47s\n",
      "200:\tlearn: 0.6680840\ttest: 0.6863999\tbest: 0.6864117 (199)\ttotal: 28m 9s\tremaining: 6h 32m 10s\n",
      "300:\tlearn: 0.6720107\ttest: 0.6897204\tbest: 0.6897204 (300)\ttotal: 43m\tremaining: 6h 25m 34s\n",
      "400:\tlearn: 0.6744241\ttest: 0.6907689\tbest: 0.6909667 (398)\ttotal: 59m 10s\tremaining: 6h 23m 34s\n",
      "500:\tlearn: 0.6767113\ttest: 0.6911383\tbest: 0.6913284 (444)\ttotal: 1h 15m 25s\tremaining: 6h 16m 11s\n",
      "600:\tlearn: 0.6782362\ttest: 0.6915045\tbest: 0.6917047 (568)\ttotal: 1h 33m\tremaining: 6h 11m 14s\n",
      "700:\tlearn: 0.6794998\ttest: 0.6922122\tbest: 0.6922339 (684)\ttotal: 1h 50m 26s\tremaining: 6h 2m 12s\n",
      "800:\tlearn: 0.6806506\ttest: 0.6920813\tbest: 0.6922592 (702)\ttotal: 2h 16m 34s\tremaining: 6h 14m 56s\n",
      "Stopped by overfitting detector  (100 iterations wait)\n",
      "\n",
      "bestTest = 0.6922592352\n",
      "bestIteration = 702\n",
      "\n",
      "Shrink model to first 703 iterations.\n"
     ]
    }
   ],
   "source": [
    "scores = []\n",
    "models = []\n",
    "\n",
    "for tri, vai in cv.split(x_train):\n",
    "    print(\"=\"*50)\n",
    "    preds = []\n",
    "\n",
    "    model = CatBoostClassifier(iterations=iterations, \n",
    "                               random_state=SEED,\n",
    "                               #task_type=\"GPU\",\n",
    "                               eval_metric=\"F1\",\n",
    "                               cat_features=cat_features,\n",
    "                               one_hot_max_size=4)\n",
    "    model.fit(x_train.iloc[tri], y_train[tri], \n",
    "            eval_set=[(x_train.iloc[vai], y_train[vai])], \n",
    "            early_stopping_rounds=patience,\n",
    "            verbose=100\n",
    "        )\n",
    "    \n",
    "    models.append(model)\n",
    "    scores.append(model.get_best_score()[\"validation\"][\"F1\"])\n",
    "    if is_holdout:\n",
    "        break    "
   ]
  },
  {
   "cell_type": "markdown",
   "metadata": {},
   "source": [
    "### cv 결과 확인"
   ]
  },
  {
   "cell_type": "code",
   "execution_count": 35,
   "metadata": {
    "ExecuteTime": {
     "end_time": "2022-02-01T08:41:11.821344Z",
     "start_time": "2022-02-01T08:41:11.774466Z"
    }
   },
   "outputs": [
    {
     "name": "stdout",
     "output_type": "stream",
     "text": [
      "[0.6949997652471946, 0.6940439047699356, 0.6911261995121906, 0.6909868012276177, 0.6922592352316211]\n",
      "0.6926831811977119\n"
     ]
    }
   ],
   "source": [
    "print(scores)\n",
    "print(np.mean(scores))"
   ]
  },
  {
   "cell_type": "markdown",
   "metadata": {},
   "source": [
    "### threshold 정의"
   ]
  },
  {
   "cell_type": "code",
   "execution_count": 36,
   "metadata": {
    "ExecuteTime": {
     "end_time": "2022-02-01T08:41:14.225909Z",
     "start_time": "2022-02-01T08:41:14.193002Z"
    }
   },
   "outputs": [],
   "source": [
    "threshold = 0.4"
   ]
  },
  {
   "cell_type": "markdown",
   "metadata": {},
   "source": [
    "### threshold값 변경에 따른 검증점수 확인 및 추론"
   ]
  },
  {
   "cell_type": "code",
   "execution_count": 37,
   "metadata": {
    "ExecuteTime": {
     "end_time": "2022-02-01T08:42:51.102820Z",
     "start_time": "2022-02-01T08:41:16.578618Z"
    }
   },
   "outputs": [
    {
     "name": "stdout",
     "output_type": "stream",
     "text": [
      "[0.7183982843438188, 0.7155118411311514, 0.7155490473580446, 0.7163829787234043, 0.7146004110946418]\n",
      "0.7160885125302122\n"
     ]
    }
   ],
   "source": [
    "pred_list = []\n",
    "scores = []\n",
    "for i, (tri, vai) in enumerate( cv.split(x_train) ):\n",
    "    pred = models[i].predict_proba(x_train.iloc[vai])[:, 1]\n",
    "    pred = np.where(pred >= threshold , 1, 0)\n",
    "    score = f1_score(y_train[vai], pred)\n",
    "    scores.append(score)\n",
    "    pred = models[i].predict_proba(x_test)[:, 1]\n",
    "    pred_list.append(pred)\n",
    "print(scores)\n",
    "print(np.mean(scores))"
   ]
  },
  {
   "cell_type": "markdown",
   "metadata": {},
   "source": [
    "### 산술평균 앙상블"
   ]
  },
  {
   "cell_type": "code",
   "execution_count": 38,
   "metadata": {
    "ExecuteTime": {
     "end_time": "2022-02-01T09:01:09.533278Z",
     "start_time": "2022-02-01T09:01:09.468430Z"
    }
   },
   "outputs": [],
   "source": [
    "pred = np.mean(pred_list, axis=0)\n",
    "pred = np.where(pred >= threshold, 1, 0)"
   ]
  },
  {
   "cell_type": "markdown",
   "metadata": {},
   "source": [
    "### submission"
   ]
  },
  {
   "cell_type": "code",
   "execution_count": 39,
   "metadata": {
    "ExecuteTime": {
     "end_time": "2022-02-01T09:01:13.804831Z",
     "start_time": "2022-02-01T09:01:13.684125Z"
    }
   },
   "outputs": [
    {
     "data": {
      "text/html": [
       "<div>\n",
       "<style scoped>\n",
       "    .dataframe tbody tr th:only-of-type {\n",
       "        vertical-align: middle;\n",
       "    }\n",
       "\n",
       "    .dataframe tbody tr th {\n",
       "        vertical-align: top;\n",
       "    }\n",
       "\n",
       "    .dataframe thead th {\n",
       "        text-align: right;\n",
       "    }\n",
       "</style>\n",
       "<table border=\"1\" class=\"dataframe\">\n",
       "  <thead>\n",
       "    <tr style=\"text-align: right;\">\n",
       "      <th></th>\n",
       "      <th>id</th>\n",
       "      <th>target</th>\n",
       "    </tr>\n",
       "  </thead>\n",
       "  <tbody>\n",
       "    <tr>\n",
       "      <th>0</th>\n",
       "      <td>0</td>\n",
       "      <td>0</td>\n",
       "    </tr>\n",
       "    <tr>\n",
       "      <th>1</th>\n",
       "      <td>1</td>\n",
       "      <td>0</td>\n",
       "    </tr>\n",
       "    <tr>\n",
       "      <th>2</th>\n",
       "      <td>2</td>\n",
       "      <td>0</td>\n",
       "    </tr>\n",
       "    <tr>\n",
       "      <th>3</th>\n",
       "      <td>3</td>\n",
       "      <td>0</td>\n",
       "    </tr>\n",
       "    <tr>\n",
       "      <th>4</th>\n",
       "      <td>4</td>\n",
       "      <td>0</td>\n",
       "    </tr>\n",
       "    <tr>\n",
       "      <th>...</th>\n",
       "      <td>...</td>\n",
       "      <td>...</td>\n",
       "    </tr>\n",
       "    <tr>\n",
       "      <th>46399</th>\n",
       "      <td>46399</td>\n",
       "      <td>1</td>\n",
       "    </tr>\n",
       "    <tr>\n",
       "      <th>46400</th>\n",
       "      <td>46400</td>\n",
       "      <td>1</td>\n",
       "    </tr>\n",
       "    <tr>\n",
       "      <th>46401</th>\n",
       "      <td>46401</td>\n",
       "      <td>1</td>\n",
       "    </tr>\n",
       "    <tr>\n",
       "      <th>46402</th>\n",
       "      <td>46402</td>\n",
       "      <td>1</td>\n",
       "    </tr>\n",
       "    <tr>\n",
       "      <th>46403</th>\n",
       "      <td>46403</td>\n",
       "      <td>1</td>\n",
       "    </tr>\n",
       "  </tbody>\n",
       "</table>\n",
       "<p>46404 rows × 2 columns</p>\n",
       "</div>"
      ],
      "text/plain": [
       "          id  target\n",
       "0          0       0\n",
       "1          1       0\n",
       "2          2       0\n",
       "3          3       0\n",
       "4          4       0\n",
       "...      ...     ...\n",
       "46399  46399       1\n",
       "46400  46400       1\n",
       "46401  46401       1\n",
       "46402  46402       1\n",
       "46403  46403       1\n",
       "\n",
       "[46404 rows x 2 columns]"
      ]
     },
     "execution_count": 39,
     "metadata": {},
     "output_type": "execute_result"
    }
   ],
   "source": [
    "sample_submission = pd.read_csv(f'{DATA_PATH}sample_submission.csv')\n",
    "sample_submission['target'] = pred\n",
    "sample_submission"
   ]
  },
  {
   "cell_type": "code",
   "execution_count": 40,
   "metadata": {
    "ExecuteTime": {
     "end_time": "2022-02-01T09:01:16.843145Z",
     "start_time": "2022-02-01T09:01:16.772309Z"
    }
   },
   "outputs": [
    {
     "data": {
      "text/plain": [
       "1    32513\n",
       "0    13891\n",
       "Name: target, dtype: int64"
      ]
     },
     "execution_count": 40,
     "metadata": {},
     "output_type": "execute_result"
    }
   ],
   "source": [
    "sample_submission['target'].value_counts()"
   ]
  },
  {
   "cell_type": "code",
   "execution_count": 73,
   "metadata": {},
   "outputs": [],
   "source": [
    "sample_submission.to_csv(f\"{SUBMIT_PATH}jp_0124_1.csv\", index=False)"
   ]
  },
  {
   "cell_type": "code",
   "execution_count": null,
   "metadata": {},
   "outputs": [],
   "source": [
    "(pd.DataFrame(pred_list).T).to_csv(f\"{SUBMIT_PATH}jp_0124_1_proba.csv\", index=False)"
   ]
  },
  {
   "cell_type": "markdown",
   "metadata": {},
   "source": [
    "### feature importance\n",
    "cb = CatBoostRegressor()\n",
    "cb.get_feature_importance(type= \"___\")\n",
    "\n",
    " \"type\" possible values:\n",
    "  - PredictionValuesChange\n",
    "  - LossFunctionChange\n",
    "  - FeatureImportance : \n",
    "      PredictionValuesChange for non-ranking metrics and LossFunctionChange for ranking metrics\n",
    "  - ShapValues : \n",
    "      Calculate SHAP Values for every object\n",
    "  - Interaction :\n",
    "      Calculate pairwise score between every feature"
   ]
  },
  {
   "cell_type": "code",
   "execution_count": 41,
   "metadata": {
    "ExecuteTime": {
     "end_time": "2022-02-01T09:01:23.831858Z",
     "start_time": "2022-02-01T09:01:23.750077Z"
    }
   },
   "outputs": [],
   "source": [
    "values = model.get_feature_importance(type='FeatureImportance')\n",
    "fi = pd.DataFrame(x_train.columns)\n",
    "fi['values'] = values\n",
    "fi.columns = ['column', 'values']"
   ]
  },
  {
   "cell_type": "code",
   "execution_count": 42,
   "metadata": {
    "ExecuteTime": {
     "end_time": "2022-02-01T09:01:24.954888Z",
     "start_time": "2022-02-01T09:01:24.908006Z"
    }
   },
   "outputs": [
    {
     "data": {
      "text/html": [
       "<div>\n",
       "<style scoped>\n",
       "    .dataframe tbody tr th:only-of-type {\n",
       "        vertical-align: middle;\n",
       "    }\n",
       "\n",
       "    .dataframe tbody tr th {\n",
       "        vertical-align: top;\n",
       "    }\n",
       "\n",
       "    .dataframe thead th {\n",
       "        text-align: right;\n",
       "    }\n",
       "</style>\n",
       "<table border=\"1\" class=\"dataframe\">\n",
       "  <thead>\n",
       "    <tr style=\"text-align: right;\">\n",
       "      <th></th>\n",
       "      <th>column</th>\n",
       "      <th>values</th>\n",
       "    </tr>\n",
       "  </thead>\n",
       "  <tbody>\n",
       "    <tr>\n",
       "      <th>19</th>\n",
       "      <td>contents_attribute_j_1</td>\n",
       "      <td>7.098501</td>\n",
       "    </tr>\n",
       "    <tr>\n",
       "      <th>96</th>\n",
       "      <td>DDD_sum</td>\n",
       "      <td>6.556798</td>\n",
       "    </tr>\n",
       "    <tr>\n",
       "      <th>24</th>\n",
       "      <td>contents_attribute_d</td>\n",
       "      <td>6.371989</td>\n",
       "    </tr>\n",
       "    <tr>\n",
       "      <th>23</th>\n",
       "      <td>contents_attribute_l</td>\n",
       "      <td>5.173323</td>\n",
       "    </tr>\n",
       "    <tr>\n",
       "      <th>27</th>\n",
       "      <td>contents_attribute_h</td>\n",
       "      <td>5.006420</td>\n",
       "    </tr>\n",
       "    <tr>\n",
       "      <th>10</th>\n",
       "      <td>person_prefer_d_1</td>\n",
       "      <td>3.454419</td>\n",
       "    </tr>\n",
       "    <tr>\n",
       "      <th>43</th>\n",
       "      <td>contents_attribute_d_attribute_d_d</td>\n",
       "      <td>3.359922</td>\n",
       "    </tr>\n",
       "    <tr>\n",
       "      <th>53</th>\n",
       "      <td>contents_attribute_h_attribute_h_m</td>\n",
       "      <td>3.019841</td>\n",
       "    </tr>\n",
       "    <tr>\n",
       "      <th>31</th>\n",
       "      <td>person_prefer_d_1_attribute_d_d</td>\n",
       "      <td>2.809022</td>\n",
       "    </tr>\n",
       "    <tr>\n",
       "      <th>32</th>\n",
       "      <td>person_prefer_d_1_attribute_d_s</td>\n",
       "      <td>2.697019</td>\n",
       "    </tr>\n",
       "    <tr>\n",
       "      <th>7</th>\n",
       "      <td>person_attribute_a_1</td>\n",
       "      <td>2.661728</td>\n",
       "    </tr>\n",
       "    <tr>\n",
       "      <th>55</th>\n",
       "      <td>contents_attribute_l_attribute_l_d</td>\n",
       "      <td>2.294451</td>\n",
       "    </tr>\n",
       "    <tr>\n",
       "      <th>14</th>\n",
       "      <td>person_prefer_h_1</td>\n",
       "      <td>2.139677</td>\n",
       "    </tr>\n",
       "    <tr>\n",
       "      <th>26</th>\n",
       "      <td>contents_attribute_e</td>\n",
       "      <td>1.998958</td>\n",
       "    </tr>\n",
       "    <tr>\n",
       "      <th>11</th>\n",
       "      <td>person_prefer_d_2</td>\n",
       "      <td>1.850305</td>\n",
       "    </tr>\n",
       "    <tr>\n",
       "      <th>18</th>\n",
       "      <td>contents_attribute_a</td>\n",
       "      <td>1.841671</td>\n",
       "    </tr>\n",
       "    <tr>\n",
       "      <th>87</th>\n",
       "      <td>D_H_1_sum</td>\n",
       "      <td>1.708667</td>\n",
       "    </tr>\n",
       "    <tr>\n",
       "      <th>13</th>\n",
       "      <td>person_prefer_e</td>\n",
       "      <td>1.706624</td>\n",
       "    </tr>\n",
       "    <tr>\n",
       "      <th>35</th>\n",
       "      <td>person_prefer_d_2_attribute_d_d</td>\n",
       "      <td>1.550919</td>\n",
       "    </tr>\n",
       "    <tr>\n",
       "      <th>97</th>\n",
       "      <td>HHH_sum</td>\n",
       "      <td>1.546049</td>\n",
       "    </tr>\n",
       "    <tr>\n",
       "      <th>44</th>\n",
       "      <td>contents_attribute_d_attribute_d_s</td>\n",
       "      <td>1.452690</td>\n",
       "    </tr>\n",
       "    <tr>\n",
       "      <th>8</th>\n",
       "      <td>person_attribute_b</td>\n",
       "      <td>1.415494</td>\n",
       "    </tr>\n",
       "    <tr>\n",
       "      <th>30</th>\n",
       "      <td>contents_open_hour</td>\n",
       "      <td>1.386828</td>\n",
       "    </tr>\n",
       "    <tr>\n",
       "      <th>98</th>\n",
       "      <td>person_contents_e_diff</td>\n",
       "      <td>1.349255</td>\n",
       "    </tr>\n",
       "    <tr>\n",
       "      <th>84</th>\n",
       "      <td>D_H_1_mul</td>\n",
       "      <td>1.322198</td>\n",
       "    </tr>\n",
       "    <tr>\n",
       "      <th>15</th>\n",
       "      <td>person_prefer_h_2</td>\n",
       "      <td>1.304435</td>\n",
       "    </tr>\n",
       "    <tr>\n",
       "      <th>47</th>\n",
       "      <td>person_prefer_h_1_attribute_h_m</td>\n",
       "      <td>1.102397</td>\n",
       "    </tr>\n",
       "    <tr>\n",
       "      <th>21</th>\n",
       "      <td>contents_attribute_c</td>\n",
       "      <td>1.099442</td>\n",
       "    </tr>\n",
       "    <tr>\n",
       "      <th>33</th>\n",
       "      <td>person_prefer_d_1_attribute_d_m</td>\n",
       "      <td>1.063822</td>\n",
       "    </tr>\n",
       "    <tr>\n",
       "      <th>25</th>\n",
       "      <td>contents_attribute_m</td>\n",
       "      <td>1.005529</td>\n",
       "    </tr>\n",
       "  </tbody>\n",
       "</table>\n",
       "</div>"
      ],
      "text/plain": [
       "                                column    values\n",
       "19              contents_attribute_j_1  7.098501\n",
       "96                             DDD_sum  6.556798\n",
       "24                contents_attribute_d  6.371989\n",
       "23                contents_attribute_l  5.173323\n",
       "27                contents_attribute_h  5.006420\n",
       "10                   person_prefer_d_1  3.454419\n",
       "43  contents_attribute_d_attribute_d_d  3.359922\n",
       "53  contents_attribute_h_attribute_h_m  3.019841\n",
       "31     person_prefer_d_1_attribute_d_d  2.809022\n",
       "32     person_prefer_d_1_attribute_d_s  2.697019\n",
       "7                 person_attribute_a_1  2.661728\n",
       "55  contents_attribute_l_attribute_l_d  2.294451\n",
       "14                   person_prefer_h_1  2.139677\n",
       "26                contents_attribute_e  1.998958\n",
       "11                   person_prefer_d_2  1.850305\n",
       "18                contents_attribute_a  1.841671\n",
       "87                           D_H_1_sum  1.708667\n",
       "13                     person_prefer_e  1.706624\n",
       "35     person_prefer_d_2_attribute_d_d  1.550919\n",
       "97                             HHH_sum  1.546049\n",
       "44  contents_attribute_d_attribute_d_s  1.452690\n",
       "8                   person_attribute_b  1.415494\n",
       "30                  contents_open_hour  1.386828\n",
       "98              person_contents_e_diff  1.349255\n",
       "84                           D_H_1_mul  1.322198\n",
       "15                   person_prefer_h_2  1.304435\n",
       "47     person_prefer_h_1_attribute_h_m  1.102397\n",
       "21                contents_attribute_c  1.099442\n",
       "33     person_prefer_d_1_attribute_d_m  1.063822\n",
       "25                contents_attribute_m  1.005529"
      ]
     },
     "execution_count": 42,
     "metadata": {},
     "output_type": "execute_result"
    }
   ],
   "source": [
    "fi.sort_values(by='values', ascending=False).head(30)"
   ]
  },
  {
   "cell_type": "code",
   "execution_count": null,
   "metadata": {},
   "outputs": [],
   "source": []
  },
  {
   "cell_type": "code",
   "execution_count": null,
   "metadata": {},
   "outputs": [],
   "source": []
  }
 ],
 "metadata": {
  "kernelspec": {
   "display_name": "Python 3",
   "language": "python",
   "name": "python3"
  },
  "language_info": {
   "codemirror_mode": {
    "name": "ipython",
    "version": 3
   },
   "file_extension": ".py",
   "mimetype": "text/x-python",
   "name": "python",
   "nbconvert_exporter": "python",
   "pygments_lexer": "ipython3",
   "version": "3.8.5"
  },
  "toc": {
   "base_numbering": 1,
   "nav_menu": {},
   "number_sections": true,
   "sideBar": true,
   "skip_h1_title": false,
   "title_cell": "Table of Contents",
   "title_sidebar": "Contents",
   "toc_cell": false,
   "toc_position": {},
   "toc_section_display": true,
   "toc_window_display": false
  },
  "varInspector": {
   "cols": {
    "lenName": 16,
    "lenType": 16,
    "lenVar": 40
   },
   "kernels_config": {
    "python": {
     "delete_cmd_postfix": "",
     "delete_cmd_prefix": "del ",
     "library": "var_list.py",
     "varRefreshCmd": "print(var_dic_list())"
    },
    "r": {
     "delete_cmd_postfix": ") ",
     "delete_cmd_prefix": "rm(",
     "library": "var_list.r",
     "varRefreshCmd": "cat(var_dic_list()) "
    }
   },
   "types_to_exclude": [
    "module",
    "function",
    "builtin_function_or_method",
    "instance",
    "_Feature"
   ],
   "window_display": false
  }
 },
 "nbformat": 4,
 "nbformat_minor": 4
}
