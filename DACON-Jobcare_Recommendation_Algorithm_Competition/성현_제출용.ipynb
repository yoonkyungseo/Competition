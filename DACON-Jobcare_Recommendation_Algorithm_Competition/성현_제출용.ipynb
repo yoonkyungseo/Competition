{
 "cells": [
  {
   "cell_type": "code",
   "execution_count": 90,
   "metadata": {},
   "outputs": [],
   "source": [
    "# Data Wrangling\n",
    "import pandas as pd\n",
    "from pandas import Series, DataFrame\n",
    "import numpy as np\n",
    "\n",
    "# Visualization\n",
    "import matplotlib.pylab as plt\n",
    "import seaborn as sns\n",
    "%matplotlib inline\n",
    "\n",
    "# Preprocessing & Feature Engineering\n",
    "from sklearn.model_selection import train_test_split\n",
    "from sklearn.model_selection import KFold, StratifiedKFold\n",
    "\n",
    "# Modeling\n",
    "from catboost import CatBoostClassifier\n",
    "\n",
    "# Evaluation\n",
    "from sklearn.model_selection import cross_val_score\n",
    "\n",
    "# Utility\n",
    "import os\n",
    "import time\n",
    "import random\n",
    "import warnings; warnings.filterwarnings(\"ignore\")\n",
    "from tqdm import tqdm\n",
    "from typing import List ,Dict, Tuple\n",
    "import platform\n",
    "import sys\n",
    "import sklearn\n",
    "\n",
    "# 한글 폰트 설정\n",
    "from statsmodels import robust\n",
    "from matplotlib import font_manager, rc\n",
    "%matplotlib inline"
   ]
  },
  {
   "cell_type": "code",
   "execution_count": 91,
   "metadata": {
    "scrolled": true
   },
   "outputs": [
    {
     "name": "stdout",
     "output_type": "stream",
     "text": [
      "- os: Windows-10-10.0.19041-SP0\n",
      "- python: 3.8.5 (default, Sep  3 2020, 21:29:08) [MSC v.1916 64 bit (AMD64)]\n",
      "- pandas: 1.3.4\n",
      "- numpy: 1.22.1\n",
      "- sklearn: 1.0.1\n"
     ]
    }
   ],
   "source": [
    "print(f\"- os: {platform.platform()}\")\n",
    "print(f\"- python: {sys.version}\")\n",
    "print(f\"- pandas: {pd.__version__}\")\n",
    "print(f\"- numpy: {np.__version__}\")\n",
    "print(f\"- sklearn: {sklearn.__version__}\")"
   ]
  },
  {
   "cell_type": "code",
   "execution_count": 92,
   "metadata": {},
   "outputs": [],
   "source": [
    "DATA_PATH = \"data/\"\n",
    "SUBMIT_PATH = \"data/submission/\"\n",
    "SEED = 42"
   ]
  },
  {
   "cell_type": "code",
   "execution_count": 136,
   "metadata": {},
   "outputs": [
    {
     "data": {
      "text/plain": [
       "((501951, 35), (46404, 34))"
      ]
     },
     "execution_count": 136,
     "metadata": {},
     "output_type": "execute_result"
    }
   ],
   "source": [
    "train = pd.read_csv(f'{DATA_PATH}train.csv')\n",
    "test = pd.read_csv(f'{DATA_PATH}test.csv')\n",
    "\n",
    "d_code = pd.read_csv(f'{DATA_PATH}속성_D_코드.csv')\n",
    "h_code = pd.read_csv(f'{DATA_PATH}속성_H_코드.csv')\n",
    "l_code = pd.read_csv(f'{DATA_PATH}속성_L_코드.csv')\n",
    "\n",
    "train.shape, test.shape"
   ]
  },
  {
   "cell_type": "markdown",
   "metadata": {},
   "source": [
    "## preprocessing & engineering"
   ]
  },
  {
   "cell_type": "markdown",
   "metadata": {},
   "source": [
    "### person_rn, contents_rn 활용"
   ]
  },
  {
   "cell_type": "code",
   "execution_count": 137,
   "metadata": {},
   "outputs": [],
   "source": [
    "train['person_contents_mul'] = train['person_rn'] * train['contents_rn']\n",
    "test['person_contents_mul'] = test['person_rn'] * test['contents_rn']"
   ]
  },
  {
   "cell_type": "code",
   "execution_count": 138,
   "metadata": {},
   "outputs": [],
   "source": [
    "train['person_contents_sum'] = train['person_rn'] + train['contents_rn']\n",
    "test['person_contents_sum'] = test['person_rn'] + test['contents_rn']"
   ]
  },
  {
   "cell_type": "markdown",
   "metadata": {},
   "source": [
    "### contents_open_dt 관련\n",
    "target encoding"
   ]
  },
  {
   "cell_type": "code",
   "execution_count": 139,
   "metadata": {},
   "outputs": [],
   "source": [
    "train['contents_open_dt'] = pd.to_datetime(train['contents_open_dt'])\n",
    "test['contents_open_dt'] = pd.to_datetime(test['contents_open_dt'])"
   ]
  },
  {
   "cell_type": "code",
   "execution_count": 140,
   "metadata": {},
   "outputs": [],
   "source": [
    "train['contents_open_hour'] = train['contents_open_dt'].dt.hour\n",
    "test['contents_open_hour'] = test['contents_open_dt'].dt.hour"
   ]
  },
  {
   "cell_type": "code",
   "execution_count": 141,
   "metadata": {},
   "outputs": [],
   "source": [
    "train_hour = train.groupby('contents_open_hour').target.sum() / train.groupby('contents_open_hour').target.size()\n",
    "train['contents_open_hour'] = train['contents_open_hour'].apply(lambda x: train_hour[x])\n",
    "test['contents_open_hour'] = test['contents_open_hour'].apply(lambda x: train_hour[x])"
   ]
  },
  {
   "cell_type": "markdown",
   "metadata": {},
   "source": [
    "### 전처리\n",
    "- 코드표 결합\n",
    "- 같은 범주 일치 확인"
   ]
  },
  {
   "cell_type": "code",
   "execution_count": 142,
   "metadata": {},
   "outputs": [],
   "source": [
    "d_code.columns = ['attribute_d', 'attribute_d_d', 'attribute_d_s', 'attribute_d_m', 'attribute_d_l']\n",
    "h_code.columns = ['attribute_h', 'attribute_h_m', 'attribute_h_l']\n",
    "l_code.columns = ['attribute_l', 'attribute_l_d', 'attribute_l_s', 'attribute_l_m', 'attribute_l_l']"
   ]
  },
  {
   "cell_type": "code",
   "execution_count": 143,
   "metadata": {},
   "outputs": [],
   "source": [
    "def merge_codes(df : pd.DataFrame, \n",
    "                df_code : pd.DataFrame,\n",
    "                col : str) -> pd.DataFrame:\n",
    "    df = df.copy()\n",
    "    df_code = df_code.copy()\n",
    "    df_code = df_code.add_prefix(f\"{col}_\")\n",
    "    df_code.columns.values[0] = col\n",
    "    return pd.merge(df, df_code, how=\"left\", on=col)"
   ]
  },
  {
   "cell_type": "code",
   "execution_count": 144,
   "metadata": {},
   "outputs": [],
   "source": [
    "def preprocess_data(\n",
    "                    df : pd.DataFrame, \n",
    "                    is_train : bool = True, \n",
    "                    cols_merge : List[Tuple[str, pd.DataFrame]] = [], \n",
    "                    cols_equi : List[Tuple[str, str]] = [] ,\n",
    "                    cols_drop : List[str] = ['id', 'person_prefer_f', 'person_prefer_g', 'contents_open_dt']\n",
    "                    ) -> Tuple[pd.DataFrame, np.ndarray]:\n",
    "    df = df.copy()\n",
    "\n",
    "    y_data = None\n",
    "    if is_train:\n",
    "        y_data = df['target'].to_numpy()\n",
    "        df = df.drop(columns='target')\n",
    "\n",
    "    for col, df_code in cols_merge:\n",
    "        df = merge_codes(df, df_code, col)\n",
    "\n",
    "    cols = df.select_dtypes(bool).columns.tolist()\n",
    "    df[cols] = df[cols].astype(int)\n",
    "\n",
    "    for col1, col2 in cols_equi:\n",
    "        df[f'{col1}_{col2}'] = (df[col1] == df[col2]).astype(int)\n",
    "        \n",
    "    df = df.drop(columns=cols_drop)\n",
    "    return (df, y_data)"
   ]
  },
  {
   "cell_type": "code",
   "execution_count": 145,
   "metadata": {},
   "outputs": [],
   "source": [
    "# 소분류 중분류 대분류 속성코드 merge 컬럼명 및 데이터 프레임 리스트\n",
    "cols_merge = [\n",
    "              ('person_prefer_d_1', d_code),\n",
    "              ('person_prefer_d_2', d_code),\n",
    "              ('person_prefer_d_3', d_code),\n",
    "              ('contents_attribute_d', d_code),\n",
    "              ('person_prefer_h_1', h_code),\n",
    "              ('person_prefer_h_2', h_code),\n",
    "              ('person_prefer_h_3', h_code),\n",
    "              ('contents_attribute_h', h_code),\n",
    "              ('contents_attribute_l', l_code),\n",
    "]\n",
    "\n",
    "# 회원 속성과 콘텐츠 속성의 동일한 코드 여부에 대한 컬럼명 리스트\n",
    "cols_equi = [\n",
    "\n",
    "    ('contents_attribute_c', 'person_prefer_c'),\n",
    "    ('contents_attribute_e', 'person_prefer_e'),\n",
    "\n",
    "    ('person_prefer_d_1_attribute_d_s', 'contents_attribute_d_attribute_d_s'),\n",
    "    ('person_prefer_d_1_attribute_d_m', 'contents_attribute_d_attribute_d_m'),\n",
    "    ('person_prefer_d_2', 'contents_attribute_d'),\n",
    "    ('person_prefer_d_2_attribute_d_d', 'contents_attribute_d_attribute_d_d'),\n",
    "    ('person_prefer_d_2_attribute_d_s', 'contents_attribute_d_attribute_d_s'),\n",
    "    ('person_prefer_d_2_attribute_d_m', 'contents_attribute_d_attribute_d_m'),\n",
    "    ('person_prefer_d_2_attribute_d_l', 'contents_attribute_d_attribute_d_l'),\n",
    "    ('person_prefer_d_3', 'contents_attribute_d'),\n",
    "    ('person_prefer_d_3_attribute_d_d', 'contents_attribute_d_attribute_d_d'),\n",
    "    ('person_prefer_d_3_attribute_d_s', 'contents_attribute_d_attribute_d_s'),\n",
    "    ('person_prefer_d_3_attribute_d_m', 'contents_attribute_d_attribute_d_m'),\n",
    "    ('person_prefer_d_3_attribute_d_l', 'contents_attribute_d_attribute_d_l'),\n",
    "\n",
    "    ('person_prefer_h_2', 'contents_attribute_h'),\n",
    "    ('person_prefer_h_2_attribute_h_m', 'contents_attribute_h_attribute_h_m'),\n",
    "    ('person_prefer_h_2_attribute_h_l', 'contents_attribute_h_attribute_h_l'),\n",
    "    ('person_prefer_h_3', 'contents_attribute_h'),\n",
    "    ('person_prefer_h_3_attribute_h_m', 'contents_attribute_h_attribute_h_m'),\n",
    "    ('person_prefer_h_3_attribute_h_l', 'contents_attribute_h_attribute_h_l'),\n",
    "\n",
    "]\n",
    "\n",
    "# 학습에 필요없는 컬럼 리스트\n",
    "cols_drop = ['id', 'person_prefer_f', 'person_prefer_g', 'contents_rn', 'contents_open_dt', 'person_rn']"
   ]
  },
  {
   "cell_type": "code",
   "execution_count": 146,
   "metadata": {
    "scrolled": false
   },
   "outputs": [
    {
     "data": {
      "text/plain": [
       "((501951, 79), (501951,), (46404, 79))"
      ]
     },
     "execution_count": 146,
     "metadata": {},
     "output_type": "execute_result"
    }
   ],
   "source": [
    "x_train, y_train = preprocess_data(train, cols_merge=cols_merge, cols_equi=cols_equi, cols_drop=cols_drop)\n",
    "x_test, _ = preprocess_data(test, is_train=False, cols_merge=cols_merge, cols_equi=cols_equi, cols_drop=cols_drop)\n",
    "x_train.shape, y_train.shape, x_test.shape"
   ]
  },
  {
   "cell_type": "markdown",
   "metadata": {},
   "source": [
    "### 대중소세 코드 값 가지고 비교"
   ]
  },
  {
   "cell_type": "code",
   "execution_count": 147,
   "metadata": {},
   "outputs": [],
   "source": [
    "# D : 대-중-소-세-d 일치여부 score\n",
    "x_train['person_D_code1_score'] = (x_train['d_l_match_yn'] + x_train['person_prefer_d_1_attribute_d_m_contents_attribute_d_attribute_d_m'] \\\n",
    "                                + x_train['person_prefer_d_1_attribute_d_s_contents_attribute_d_attribute_d_s'] + x_train['d_m_match_yn'] + x_train['d_s_match_yn'])\n",
    "x_train['person_D_code2_score'] = (x_train['person_prefer_d_2_attribute_d_l_contents_attribute_d_attribute_d_l'] + x_train['person_prefer_d_2_attribute_d_m_contents_attribute_d_attribute_d_m'] \\\n",
    "                                + x_train['person_prefer_d_2_attribute_d_s_contents_attribute_d_attribute_d_s'] + x_train['person_prefer_d_2_attribute_d_d_contents_attribute_d_attribute_d_d']\\\n",
    "                                + x_train['person_prefer_d_2_contents_attribute_d'])\n",
    "x_train['person_D_code3_score'] = (x_train['person_prefer_d_3_attribute_d_l_contents_attribute_d_attribute_d_l'] + x_train['person_prefer_d_3_attribute_d_m_contents_attribute_d_attribute_d_m'] \\\n",
    "                                + x_train['person_prefer_d_3_attribute_d_s_contents_attribute_d_attribute_d_s'] + x_train['person_prefer_d_3_attribute_d_d_contents_attribute_d_attribute_d_d']\\\n",
    "                                + x_train['person_prefer_d_3_contents_attribute_d'])\n",
    "\n",
    "x_test['person_D_code1_score'] =( x_test['d_l_match_yn'] + x_test['person_prefer_d_1_attribute_d_m_contents_attribute_d_attribute_d_m'] \\\n",
    "                                + x_test['person_prefer_d_1_attribute_d_s_contents_attribute_d_attribute_d_s'] + x_test['d_m_match_yn'] + x_test['d_s_match_yn'])\n",
    "x_test['person_D_code2_score'] = (x_test['person_prefer_d_2_attribute_d_l_contents_attribute_d_attribute_d_l'] + x_test['person_prefer_d_2_attribute_d_m_contents_attribute_d_attribute_d_m'] \\\n",
    "                                + x_test['person_prefer_d_2_attribute_d_s_contents_attribute_d_attribute_d_s'] + x_test['person_prefer_d_2_attribute_d_d_contents_attribute_d_attribute_d_d']\\\n",
    "                                + x_test['person_prefer_d_2_contents_attribute_d'])\n",
    "x_test['person_D_code3_score'] = (x_test['person_prefer_d_3_attribute_d_l_contents_attribute_d_attribute_d_l'] + x_test['person_prefer_d_3_attribute_d_m_contents_attribute_d_attribute_d_m'] \\\n",
    "                                + x_test['person_prefer_d_3_attribute_d_s_contents_attribute_d_attribute_d_s'] + x_test['person_prefer_d_3_attribute_d_d_contents_attribute_d_attribute_d_d']\\\n",
    "                                + x_test['person_prefer_d_3_contents_attribute_d'])"
   ]
  },
  {
   "cell_type": "code",
   "execution_count": 148,
   "metadata": {},
   "outputs": [],
   "source": [
    "# H : 대-중-d 일치여부 score\n",
    "x_train['person_H_code1_score'] = (x_train['h_l_match_yn'] + x_train['h_m_match_yn'] + x_train['h_s_match_yn'])\n",
    "x_train['person_H_code2_score'] = (x_train['person_prefer_h_2_attribute_h_l_contents_attribute_h_attribute_h_l'] + x_train['person_prefer_h_2_attribute_h_m_contents_attribute_h_attribute_h_m']\\\n",
    "                                 + x_train['person_prefer_h_2_contents_attribute_h'])\n",
    "x_train['person_H_code3_score'] = (x_train['person_prefer_h_3_attribute_h_l_contents_attribute_h_attribute_h_l'] + x_train['person_prefer_h_3_attribute_h_m_contents_attribute_h_attribute_h_m']\\\n",
    "                                 + x_train['person_prefer_h_3_contents_attribute_h'])\n",
    "\n",
    "x_test['person_H_code1_score'] = (x_test['h_l_match_yn'] + x_test['h_m_match_yn']  + x_test['h_s_match_yn'])\n",
    "x_test['person_H_code2_score'] = (x_test['person_prefer_h_2_attribute_h_l_contents_attribute_h_attribute_h_l'] + x_test['person_prefer_h_2_attribute_h_m_contents_attribute_h_attribute_h_m']\\\n",
    "                                 + x_test['person_prefer_h_2_contents_attribute_h'])\n",
    "x_test['person_H_code3_score'] = (x_test['person_prefer_h_3_attribute_h_l_contents_attribute_h_attribute_h_l'] + x_test['person_prefer_h_3_attribute_h_m_contents_attribute_h_attribute_h_m']\\\n",
    "                                 + x_test['person_prefer_h_3_contents_attribute_h'])"
   ]
  },
  {
   "cell_type": "code",
   "execution_count": 149,
   "metadata": {},
   "outputs": [],
   "source": [
    "x_train['content_L_code_sum'] = x_train['contents_attribute_l_attribute_l_l'] + x_train['contents_attribute_l_attribute_l_m'] \\\n",
    "                                + x_train['contents_attribute_l_attribute_l_s'] + x_train['contents_attribute_l_attribute_l_d']\n",
    "\n",
    "x_test['content_L_code_sum'] = x_test['contents_attribute_l_attribute_l_l'] + x_test['contents_attribute_l_attribute_l_m'] \\\n",
    "                               + x_test['contents_attribute_l_attribute_l_s'] + x_test['contents_attribute_l_attribute_l_d']"
   ]
  },
  {
   "cell_type": "code",
   "execution_count": 150,
   "metadata": {},
   "outputs": [],
   "source": [
    "x_train['D_H_1_mul'] = x_train['person_D_code1_score'] * x_train['person_H_code1_score']\n",
    "x_train['D_H_2_mul'] = x_train['person_D_code2_score'] * x_train['person_H_code2_score']\n",
    "x_train['D_H_3_mul'] = x_train['person_D_code3_score'] * x_train['person_H_code3_score']\n",
    "x_train['D_H_1_sum'] = x_train['person_D_code1_score'] + x_train['person_H_code1_score']\n",
    "x_train['D_H_2_sum'] = x_train['person_D_code2_score'] + x_train['person_H_code2_score']\n",
    "x_train['D_H_3_sum'] = x_train['person_D_code3_score'] + x_train['person_H_code3_score']\n",
    "\n",
    "x_test['D_H_1_mul'] = x_test['person_D_code1_score'] * x_test['person_H_code1_score']\n",
    "x_test['D_H_2_mul'] = x_test['person_D_code2_score'] * x_test['person_H_code2_score']\n",
    "x_test['D_H_3_mul'] = x_test['person_D_code3_score'] * x_test['person_H_code3_score']\n",
    "x_test['D_H_1_sum'] = x_test['person_D_code1_score'] + x_test['person_H_code1_score']\n",
    "x_test['D_H_2_sum'] = x_test['person_D_code2_score'] + x_test['person_H_code2_score']\n",
    "x_test['D_H_3_sum'] = x_test['person_D_code3_score'] + x_test['person_H_code3_score']"
   ]
  },
  {
   "cell_type": "code",
   "execution_count": 151,
   "metadata": {},
   "outputs": [],
   "source": [
    "x_train['DD_12_diff'] = x_train['person_D_code1_score'] - x_train['person_D_code2_score']\n",
    "x_train['DD_13_diff'] = x_train['person_D_code1_score'] - x_train['person_D_code3_score']\n",
    "x_train['DD_23_diff'] = x_train['person_D_code2_score'] - x_train['person_D_code3_score']\n",
    "\n",
    "x_test['DD_12_diff'] = x_test['person_D_code1_score'] - x_test['person_D_code2_score']\n",
    "x_test['DD_13_diff'] = x_test['person_D_code1_score'] - x_test['person_D_code3_score']\n",
    "x_test['DD_23_diff'] = x_test['person_D_code2_score'] - x_test['person_D_code3_score']"
   ]
  },
  {
   "cell_type": "code",
   "execution_count": 152,
   "metadata": {},
   "outputs": [],
   "source": [
    "x_train['HH_12_diff'] = x_train['person_H_code1_score'] - x_train['person_H_code2_score']\n",
    "x_train['HH_13_diff'] = x_train['person_H_code1_score'] - x_train['person_H_code3_score']\n",
    "x_train['HH_23_diff'] = x_train['person_H_code2_score'] - x_train['person_H_code3_score']\n",
    "\n",
    "x_test['HH_12_diff'] = x_test['person_H_code1_score'] - x_test['person_H_code2_score']\n",
    "x_test['HH_13_diff'] = x_test['person_H_code1_score'] - x_test['person_H_code3_score']\n",
    "x_test['HH_23_diff'] = x_test['person_H_code2_score'] - x_test['person_H_code3_score']"
   ]
  },
  {
   "cell_type": "code",
   "execution_count": 153,
   "metadata": {},
   "outputs": [],
   "source": [
    "x_train['DDD_sum'] = x_train['person_D_code1_score'] + x_train['person_D_code2_score'] + x_train['person_D_code3_score']\n",
    "x_train['HHH_sum'] = x_train['person_H_code1_score'] + x_train['person_H_code2_score'] + x_train['person_H_code3_score']\n",
    "\n",
    "x_test['DDD_sum'] = x_test['person_D_code1_score'] + x_test['person_D_code2_score'] + x_test['person_D_code3_score']\n",
    "x_test['HHH_sum'] = x_test['person_H_code1_score'] + x_test['person_H_code2_score'] + x_test['person_H_code3_score']"
   ]
  },
  {
   "cell_type": "code",
   "execution_count": 154,
   "metadata": {},
   "outputs": [],
   "source": [
    "x_train['person_contents_e_diff'] = x_train['person_prefer_e'] - x_train['contents_attribute_e']\n",
    "x_test['person_contents_e_diff'] = x_test['person_prefer_e'] - x_test['contents_attribute_e']"
   ]
  },
  {
   "cell_type": "code",
   "execution_count": 155,
   "metadata": {},
   "outputs": [],
   "source": [
    "x_train['D_E_1_mul'] = x_train['person_D_code1_score'] * x_train['person_contents_e_diff']\n",
    "x_train['D_E_2_mul'] = x_train['person_D_code2_score'] * x_train['person_contents_e_diff']\n",
    "x_train['D_E_3_mul'] = x_train['person_D_code3_score'] * x_train['person_contents_e_diff']\n",
    "x_train['D_E_1_sum'] = x_train['person_D_code1_score'] + x_train['person_contents_e_diff']\n",
    "x_train['D_E_2_sum'] = x_train['person_D_code2_score'] + x_train['person_contents_e_diff']\n",
    "x_train['D_E_3_sum'] = x_train['person_D_code3_score'] + x_train['person_contents_e_diff']\n",
    "\n",
    "x_test['D_E_1_mul'] = x_test['person_D_code1_score'] * x_test['person_contents_e_diff']\n",
    "x_test['D_E_2_mul'] = x_test['person_D_code2_score'] * x_test['person_contents_e_diff']\n",
    "x_test['D_E_3_mul'] = x_test['person_D_code3_score'] * x_test['person_contents_e_diff']\n",
    "x_test['D_E_1_sum'] = x_test['person_D_code1_score'] + x_test['person_contents_e_diff']\n",
    "x_test['D_E_2_sum'] = x_test['person_D_code2_score'] + x_test['person_contents_e_diff']\n",
    "x_test['D_E_3_sum'] = x_test['person_D_code3_score'] + x_test['person_contents_e_diff']"
   ]
  },
  {
   "cell_type": "code",
   "execution_count": 156,
   "metadata": {},
   "outputs": [],
   "source": [
    "x_train['H_E_1_mul'] = x_train['person_H_code1_score'] * x_train['person_contents_e_diff']\n",
    "x_train['H_E_2_mul'] = x_train['person_H_code2_score'] * x_train['person_contents_e_diff']\n",
    "x_train['H_E_3_mul'] = x_train['person_H_code3_score'] * x_train['person_contents_e_diff']\n",
    "x_train['H_E_1_sum'] = x_train['person_H_code1_score'] + x_train['person_contents_e_diff']\n",
    "x_train['H_E_2_sum'] = x_train['person_H_code2_score'] + x_train['person_contents_e_diff']\n",
    "x_train['H_E_3_sum'] = x_train['person_H_code3_score'] + x_train['person_contents_e_diff']\n",
    "\n",
    "x_test['H_E_1_mul'] = x_test['person_H_code1_score'] * x_test['person_contents_e_diff']\n",
    "x_test['H_E_2_mul'] = x_test['person_H_code2_score'] * x_test['person_contents_e_diff']\n",
    "x_test['H_E_3_mul'] = x_test['person_H_code3_score'] * x_test['person_contents_e_diff']\n",
    "x_test['H_E_1_sum'] = x_test['person_H_code1_score'] + x_test['person_contents_e_diff']\n",
    "x_test['H_E_2_sum'] = x_test['person_H_code2_score'] + x_test['person_contents_e_diff']\n",
    "x_test['H_E_3_sum'] = x_test['person_H_code3_score'] + x_test['person_contents_e_diff']"
   ]
  },
  {
   "cell_type": "code",
   "execution_count": 157,
   "metadata": {},
   "outputs": [],
   "source": [
    "x_train['L_E_mul'] = x_train['content_L_code_sum'] * x_train['person_contents_e_diff']\n",
    "x_train['L_E_sum'] = x_train['content_L_code_sum'] + x_train['person_contents_e_diff']\n",
    "\n",
    "x_test['L_E_mul'] = x_test['content_L_code_sum'] * x_test['person_contents_e_diff']\n",
    "x_test['L_E_sum'] = x_test['content_L_code_sum'] + x_test['person_contents_e_diff']"
   ]
  },
  {
   "cell_type": "markdown",
   "metadata": {},
   "source": [
    "### J assemble"
   ]
  },
  {
   "cell_type": "code",
   "execution_count": 158,
   "metadata": {},
   "outputs": [],
   "source": [
    "data = pd.concat([x_train, train.target],axis=1)"
   ]
  },
  {
   "cell_type": "code",
   "execution_count": 159,
   "metadata": {
    "scrolled": true
   },
   "outputs": [],
   "source": [
    "a= pd.pivot_table(data, values='target',index='contents_attribute_j',\n",
    "    columns='contents_attribute_j_1',\n",
    "    aggfunc='sum', fill_value=0)"
   ]
  },
  {
   "cell_type": "code",
   "execution_count": 160,
   "metadata": {},
   "outputs": [],
   "source": [
    "b= pd.pivot_table(data, values='target',index='contents_attribute_j',\n",
    "    columns='contents_attribute_j_1',\n",
    "    aggfunc='count', fill_value=0)"
   ]
  },
  {
   "cell_type": "code",
   "execution_count": 161,
   "metadata": {
    "scrolled": true
   },
   "outputs": [
    {
     "data": {
      "text/html": [
       "<div>\n",
       "<style scoped>\n",
       "    .dataframe tbody tr th:only-of-type {\n",
       "        vertical-align: middle;\n",
       "    }\n",
       "\n",
       "    .dataframe tbody tr th {\n",
       "        vertical-align: top;\n",
       "    }\n",
       "\n",
       "    .dataframe thead th {\n",
       "        text-align: right;\n",
       "    }\n",
       "</style>\n",
       "<table border=\"1\" class=\"dataframe\">\n",
       "  <thead>\n",
       "    <tr style=\"text-align: right;\">\n",
       "      <th>contents_attribute_j_1</th>\n",
       "      <th>1</th>\n",
       "      <th>2</th>\n",
       "      <th>3</th>\n",
       "      <th>4</th>\n",
       "      <th>5</th>\n",
       "      <th>6</th>\n",
       "      <th>8</th>\n",
       "      <th>9</th>\n",
       "      <th>10</th>\n",
       "    </tr>\n",
       "    <tr>\n",
       "      <th>contents_attribute_j</th>\n",
       "      <th></th>\n",
       "      <th></th>\n",
       "      <th></th>\n",
       "      <th></th>\n",
       "      <th></th>\n",
       "      <th></th>\n",
       "      <th></th>\n",
       "      <th></th>\n",
       "      <th></th>\n",
       "    </tr>\n",
       "  </thead>\n",
       "  <tbody>\n",
       "    <tr>\n",
       "      <th>1</th>\n",
       "      <td>0.615385</td>\n",
       "      <td>0.093927</td>\n",
       "      <td>0.32543</td>\n",
       "      <td>0.530409</td>\n",
       "      <td>0.527519</td>\n",
       "      <td>NaN</td>\n",
       "      <td>NaN</td>\n",
       "      <td>NaN</td>\n",
       "      <td>NaN</td>\n",
       "    </tr>\n",
       "    <tr>\n",
       "      <th>2</th>\n",
       "      <td>NaN</td>\n",
       "      <td>NaN</td>\n",
       "      <td>NaN</td>\n",
       "      <td>NaN</td>\n",
       "      <td>NaN</td>\n",
       "      <td>0.487139</td>\n",
       "      <td>0.437956</td>\n",
       "      <td>0.431964</td>\n",
       "      <td>0.472427</td>\n",
       "    </tr>\n",
       "  </tbody>\n",
       "</table>\n",
       "</div>"
      ],
      "text/plain": [
       "contents_attribute_j_1        1         2        3         4         5   \\\n",
       "contents_attribute_j                                                      \n",
       "1                       0.615385  0.093927  0.32543  0.530409  0.527519   \n",
       "2                            NaN       NaN      NaN       NaN       NaN   \n",
       "\n",
       "contents_attribute_j_1        6         8         9         10  \n",
       "contents_attribute_j                                            \n",
       "1                            NaN       NaN       NaN       NaN  \n",
       "2                       0.487139  0.437956  0.431964  0.472427  "
      ]
     },
     "execution_count": 161,
     "metadata": {},
     "output_type": "execute_result"
    }
   ],
   "source": [
    "a/b"
   ]
  },
  {
   "cell_type": "code",
   "execution_count": 162,
   "metadata": {},
   "outputs": [],
   "source": [
    "x_train['j_assemble']=x_train['contents_attribute_j'] * x_train['contents_attribute_j_1']\n",
    "x_test['j_assemble']=x_test['contents_attribute_j'] * x_test['contents_attribute_j_1']"
   ]
  },
  {
   "cell_type": "markdown",
   "metadata": {},
   "source": [
    "### A assemble"
   ]
  },
  {
   "cell_type": "code",
   "execution_count": 163,
   "metadata": {
    "scrolled": true
   },
   "outputs": [],
   "source": [
    "a= pd.pivot_table(data, values='target',index='person_attribute_a',\n",
    "    columns='person_attribute_a_1',\n",
    "    aggfunc='sum', fill_value=0)"
   ]
  },
  {
   "cell_type": "code",
   "execution_count": 164,
   "metadata": {},
   "outputs": [],
   "source": [
    "b= pd.pivot_table(data, values='target',index='person_attribute_a',\n",
    "    columns='person_attribute_a_1',\n",
    "    aggfunc='count', fill_value=0)"
   ]
  },
  {
   "cell_type": "code",
   "execution_count": 165,
   "metadata": {
    "scrolled": true
   },
   "outputs": [
    {
     "data": {
      "text/html": [
       "<div>\n",
       "<style scoped>\n",
       "    .dataframe tbody tr th:only-of-type {\n",
       "        vertical-align: middle;\n",
       "    }\n",
       "\n",
       "    .dataframe tbody tr th {\n",
       "        vertical-align: top;\n",
       "    }\n",
       "\n",
       "    .dataframe thead th {\n",
       "        text-align: right;\n",
       "    }\n",
       "</style>\n",
       "<table border=\"1\" class=\"dataframe\">\n",
       "  <thead>\n",
       "    <tr style=\"text-align: right;\">\n",
       "      <th>person_attribute_a_1</th>\n",
       "      <th>0</th>\n",
       "      <th>1</th>\n",
       "      <th>2</th>\n",
       "      <th>3</th>\n",
       "      <th>4</th>\n",
       "      <th>5</th>\n",
       "      <th>6</th>\n",
       "      <th>7</th>\n",
       "    </tr>\n",
       "    <tr>\n",
       "      <th>person_attribute_a</th>\n",
       "      <th></th>\n",
       "      <th></th>\n",
       "      <th></th>\n",
       "      <th></th>\n",
       "      <th></th>\n",
       "      <th></th>\n",
       "      <th></th>\n",
       "      <th></th>\n",
       "    </tr>\n",
       "  </thead>\n",
       "  <tbody>\n",
       "    <tr>\n",
       "      <th>1</th>\n",
       "      <td>0.519501</td>\n",
       "      <td>0.499953</td>\n",
       "      <td>0.498492</td>\n",
       "      <td>0.488989</td>\n",
       "      <td>0.485181</td>\n",
       "      <td>0.497021</td>\n",
       "      <td>0.516074</td>\n",
       "      <td>0.567246</td>\n",
       "    </tr>\n",
       "    <tr>\n",
       "      <th>2</th>\n",
       "      <td>0.491229</td>\n",
       "      <td>0.481594</td>\n",
       "      <td>0.474026</td>\n",
       "      <td>0.455260</td>\n",
       "      <td>0.454665</td>\n",
       "      <td>0.482408</td>\n",
       "      <td>0.482432</td>\n",
       "      <td>0.504021</td>\n",
       "    </tr>\n",
       "  </tbody>\n",
       "</table>\n",
       "</div>"
      ],
      "text/plain": [
       "person_attribute_a_1         0         1         2         3         4  \\\n",
       "person_attribute_a                                                       \n",
       "1                     0.519501  0.499953  0.498492  0.488989  0.485181   \n",
       "2                     0.491229  0.481594  0.474026  0.455260  0.454665   \n",
       "\n",
       "person_attribute_a_1         5         6         7  \n",
       "person_attribute_a                                  \n",
       "1                     0.497021  0.516074  0.567246  \n",
       "2                     0.482408  0.482432  0.504021  "
      ]
     },
     "execution_count": 165,
     "metadata": {},
     "output_type": "execute_result"
    }
   ],
   "source": [
    "a/b"
   ]
  },
  {
   "cell_type": "code",
   "execution_count": 166,
   "metadata": {},
   "outputs": [],
   "source": [
    "x_train['a_assemble']=x_train['person_attribute_a'].astype(str) + x_train['person_attribute_a_1'].astype(str) + '_' + x_train['contents_attribute_a'].astype(str)\n",
    "x_test['a_assemble']=x_test['person_attribute_a'].astype(str) + x_test['person_attribute_a_1'].astype(str) +'_' + x_test['contents_attribute_a'].astype(str)"
   ]
  },
  {
   "cell_type": "markdown",
   "metadata": {},
   "source": [
    "### D assemble"
   ]
  },
  {
   "cell_type": "markdown",
   "metadata": {},
   "source": [
    "- contents_d 와 person_d의 관계를 보기 위해 pivot_table을 이용하여 target encoding을 만듦"
   ]
  },
  {
   "cell_type": "markdown",
   "metadata": {},
   "source": [
    "D_1_L assemble"
   ]
  },
  {
   "cell_type": "code",
   "execution_count": 36,
   "metadata": {
    "scrolled": true
   },
   "outputs": [],
   "source": [
    "a= pd.pivot_table(data, values='target',index='person_prefer_d_1_attribute_d_l',\n",
    "    columns='contents_attribute_d_attribute_d_l',\n",
    "    aggfunc='sum', fill_value=0)"
   ]
  },
  {
   "cell_type": "code",
   "execution_count": 37,
   "metadata": {},
   "outputs": [],
   "source": [
    "b= pd.pivot_table(data, values='target',index='person_prefer_d_1_attribute_d_l',\n",
    "    columns='contents_attribute_d_attribute_d_l',\n",
    "    aggfunc='count', fill_value=0)"
   ]
  },
  {
   "cell_type": "code",
   "execution_count": 38,
   "metadata": {},
   "outputs": [
    {
     "data": {
      "text/html": [
       "<div>\n",
       "<style scoped>\n",
       "    .dataframe tbody tr th:only-of-type {\n",
       "        vertical-align: middle;\n",
       "    }\n",
       "\n",
       "    .dataframe tbody tr th {\n",
       "        vertical-align: top;\n",
       "    }\n",
       "\n",
       "    .dataframe thead th {\n",
       "        text-align: right;\n",
       "    }\n",
       "</style>\n",
       "<table border=\"1\" class=\"dataframe\">\n",
       "  <thead>\n",
       "    <tr style=\"text-align: right;\">\n",
       "      <th>contents_attribute_d_attribute_d_l</th>\n",
       "      <th>1</th>\n",
       "      <th>216</th>\n",
       "      <th>377</th>\n",
       "      <th>482</th>\n",
       "      <th>522</th>\n",
       "      <th>618</th>\n",
       "      <th>744</th>\n",
       "      <th>864</th>\n",
       "      <th>926</th>\n",
       "      <th>1235</th>\n",
       "      <th>1258</th>\n",
       "    </tr>\n",
       "    <tr>\n",
       "      <th>person_prefer_d_1_attribute_d_l</th>\n",
       "      <th></th>\n",
       "      <th></th>\n",
       "      <th></th>\n",
       "      <th></th>\n",
       "      <th></th>\n",
       "      <th></th>\n",
       "      <th></th>\n",
       "      <th></th>\n",
       "      <th></th>\n",
       "      <th></th>\n",
       "      <th></th>\n",
       "    </tr>\n",
       "  </thead>\n",
       "  <tbody>\n",
       "    <tr>\n",
       "      <th>1</th>\n",
       "      <td>0.577416</td>\n",
       "      <td>0.348087</td>\n",
       "      <td>0.292436</td>\n",
       "      <td>0.275927</td>\n",
       "      <td>0.326954</td>\n",
       "      <td>0.283027</td>\n",
       "      <td>0.431737</td>\n",
       "      <td>0.313196</td>\n",
       "      <td>0.372367</td>\n",
       "      <td>0.170455</td>\n",
       "      <td>0.25</td>\n",
       "    </tr>\n",
       "    <tr>\n",
       "      <th>216</th>\n",
       "      <td>0.524900</td>\n",
       "      <td>0.598649</td>\n",
       "      <td>0.259259</td>\n",
       "      <td>0.321429</td>\n",
       "      <td>0.505848</td>\n",
       "      <td>0.379648</td>\n",
       "      <td>0.394518</td>\n",
       "      <td>0.465668</td>\n",
       "      <td>0.472571</td>\n",
       "      <td>0.273810</td>\n",
       "      <td>0.00</td>\n",
       "    </tr>\n",
       "    <tr>\n",
       "      <th>377</th>\n",
       "      <td>0.501129</td>\n",
       "      <td>0.286765</td>\n",
       "      <td>0.505151</td>\n",
       "      <td>0.307004</td>\n",
       "      <td>0.415954</td>\n",
       "      <td>0.330265</td>\n",
       "      <td>0.383857</td>\n",
       "      <td>0.246269</td>\n",
       "      <td>0.347168</td>\n",
       "      <td>0.089286</td>\n",
       "      <td>0.00</td>\n",
       "    </tr>\n",
       "    <tr>\n",
       "      <th>482</th>\n",
       "      <td>0.487420</td>\n",
       "      <td>0.291429</td>\n",
       "      <td>0.293035</td>\n",
       "      <td>0.625022</td>\n",
       "      <td>0.239437</td>\n",
       "      <td>0.323583</td>\n",
       "      <td>0.342105</td>\n",
       "      <td>0.196429</td>\n",
       "      <td>0.332207</td>\n",
       "      <td>0.172414</td>\n",
       "      <td>0.00</td>\n",
       "    </tr>\n",
       "    <tr>\n",
       "      <th>522</th>\n",
       "      <td>0.560093</td>\n",
       "      <td>0.493617</td>\n",
       "      <td>0.338290</td>\n",
       "      <td>0.255814</td>\n",
       "      <td>0.660348</td>\n",
       "      <td>0.415686</td>\n",
       "      <td>0.556684</td>\n",
       "      <td>0.430233</td>\n",
       "      <td>0.476839</td>\n",
       "      <td>0.333333</td>\n",
       "      <td>0.00</td>\n",
       "    </tr>\n",
       "    <tr>\n",
       "      <th>618</th>\n",
       "      <td>0.498507</td>\n",
       "      <td>0.362729</td>\n",
       "      <td>0.315197</td>\n",
       "      <td>0.349638</td>\n",
       "      <td>0.319444</td>\n",
       "      <td>0.579576</td>\n",
       "      <td>0.470266</td>\n",
       "      <td>0.440068</td>\n",
       "      <td>0.467452</td>\n",
       "      <td>0.373239</td>\n",
       "      <td>0.00</td>\n",
       "    </tr>\n",
       "    <tr>\n",
       "      <th>744</th>\n",
       "      <td>0.527941</td>\n",
       "      <td>0.353226</td>\n",
       "      <td>0.241960</td>\n",
       "      <td>0.292419</td>\n",
       "      <td>0.364179</td>\n",
       "      <td>0.431117</td>\n",
       "      <td>0.560200</td>\n",
       "      <td>0.431910</td>\n",
       "      <td>0.444589</td>\n",
       "      <td>0.393782</td>\n",
       "      <td>0.00</td>\n",
       "    </tr>\n",
       "    <tr>\n",
       "      <th>864</th>\n",
       "      <td>0.476625</td>\n",
       "      <td>0.487385</td>\n",
       "      <td>0.277108</td>\n",
       "      <td>0.263158</td>\n",
       "      <td>0.571429</td>\n",
       "      <td>0.408696</td>\n",
       "      <td>0.517885</td>\n",
       "      <td>0.589229</td>\n",
       "      <td>0.501591</td>\n",
       "      <td>0.388060</td>\n",
       "      <td>0.00</td>\n",
       "    </tr>\n",
       "    <tr>\n",
       "      <th>926</th>\n",
       "      <td>0.420474</td>\n",
       "      <td>0.396458</td>\n",
       "      <td>0.183044</td>\n",
       "      <td>0.215447</td>\n",
       "      <td>0.247984</td>\n",
       "      <td>0.345951</td>\n",
       "      <td>0.406093</td>\n",
       "      <td>0.414907</td>\n",
       "      <td>0.502301</td>\n",
       "      <td>0.280255</td>\n",
       "      <td>0.00</td>\n",
       "    </tr>\n",
       "    <tr>\n",
       "      <th>1235</th>\n",
       "      <td>0.537815</td>\n",
       "      <td>0.582278</td>\n",
       "      <td>0.307692</td>\n",
       "      <td>0.000000</td>\n",
       "      <td>0.285714</td>\n",
       "      <td>0.603960</td>\n",
       "      <td>0.520833</td>\n",
       "      <td>0.611111</td>\n",
       "      <td>0.507317</td>\n",
       "      <td>0.564444</td>\n",
       "      <td>0.00</td>\n",
       "    </tr>\n",
       "    <tr>\n",
       "      <th>1258</th>\n",
       "      <td>0.000000</td>\n",
       "      <td>0.000000</td>\n",
       "      <td>0.000000</td>\n",
       "      <td>0.000000</td>\n",
       "      <td>0.000000</td>\n",
       "      <td>0.000000</td>\n",
       "      <td>0.000000</td>\n",
       "      <td>0.000000</td>\n",
       "      <td>1.000000</td>\n",
       "      <td>0.000000</td>\n",
       "      <td>0.00</td>\n",
       "    </tr>\n",
       "  </tbody>\n",
       "</table>\n",
       "</div>"
      ],
      "text/plain": [
       "contents_attribute_d_attribute_d_l      1         216       377       482   \\\n",
       "person_prefer_d_1_attribute_d_l                                              \n",
       "1                                   0.577416  0.348087  0.292436  0.275927   \n",
       "216                                 0.524900  0.598649  0.259259  0.321429   \n",
       "377                                 0.501129  0.286765  0.505151  0.307004   \n",
       "482                                 0.487420  0.291429  0.293035  0.625022   \n",
       "522                                 0.560093  0.493617  0.338290  0.255814   \n",
       "618                                 0.498507  0.362729  0.315197  0.349638   \n",
       "744                                 0.527941  0.353226  0.241960  0.292419   \n",
       "864                                 0.476625  0.487385  0.277108  0.263158   \n",
       "926                                 0.420474  0.396458  0.183044  0.215447   \n",
       "1235                                0.537815  0.582278  0.307692  0.000000   \n",
       "1258                                0.000000  0.000000  0.000000  0.000000   \n",
       "\n",
       "contents_attribute_d_attribute_d_l      522       618       744       864   \\\n",
       "person_prefer_d_1_attribute_d_l                                              \n",
       "1                                   0.326954  0.283027  0.431737  0.313196   \n",
       "216                                 0.505848  0.379648  0.394518  0.465668   \n",
       "377                                 0.415954  0.330265  0.383857  0.246269   \n",
       "482                                 0.239437  0.323583  0.342105  0.196429   \n",
       "522                                 0.660348  0.415686  0.556684  0.430233   \n",
       "618                                 0.319444  0.579576  0.470266  0.440068   \n",
       "744                                 0.364179  0.431117  0.560200  0.431910   \n",
       "864                                 0.571429  0.408696  0.517885  0.589229   \n",
       "926                                 0.247984  0.345951  0.406093  0.414907   \n",
       "1235                                0.285714  0.603960  0.520833  0.611111   \n",
       "1258                                0.000000  0.000000  0.000000  0.000000   \n",
       "\n",
       "contents_attribute_d_attribute_d_l      926       1235  1258  \n",
       "person_prefer_d_1_attribute_d_l                               \n",
       "1                                   0.372367  0.170455  0.25  \n",
       "216                                 0.472571  0.273810  0.00  \n",
       "377                                 0.347168  0.089286  0.00  \n",
       "482                                 0.332207  0.172414  0.00  \n",
       "522                                 0.476839  0.333333  0.00  \n",
       "618                                 0.467452  0.373239  0.00  \n",
       "744                                 0.444589  0.393782  0.00  \n",
       "864                                 0.501591  0.388060  0.00  \n",
       "926                                 0.502301  0.280255  0.00  \n",
       "1235                                0.507317  0.564444  0.00  \n",
       "1258                                1.000000  0.000000  0.00  "
      ]
     },
     "execution_count": 38,
     "metadata": {},
     "output_type": "execute_result"
    }
   ],
   "source": [
    "ab=(a/b).fillna(0)\n",
    "ab"
   ]
  },
  {
   "cell_type": "code",
   "execution_count": 39,
   "metadata": {},
   "outputs": [],
   "source": [
    "d_1_l_target = []\n",
    "for i in range(11):\n",
    "    d_1_l_target.append(list(ab.iloc[i,:] + ab.iloc[:,i]))\n",
    "d_1_l_target= pd.DataFrame(d_1_l_target, columns=list(ab.columns))\n",
    "d_1_l_target.index = list(ab.columns)"
   ]
  },
  {
   "cell_type": "code",
   "execution_count": 40,
   "metadata": {},
   "outputs": [],
   "source": [
    "x_train['d_1_l_target']=0\n",
    "x_test['d_1_l_target']=0"
   ]
  },
  {
   "cell_type": "markdown",
   "metadata": {},
   "source": [
    "D_2_L assemble"
   ]
  },
  {
   "cell_type": "code",
   "execution_count": 41,
   "metadata": {
    "scrolled": true
   },
   "outputs": [],
   "source": [
    "a= pd.pivot_table(data, values='target',index='person_prefer_d_2_attribute_d_l',\n",
    "    columns='contents_attribute_d_attribute_d_l',\n",
    "    aggfunc='sum', fill_value=0)"
   ]
  },
  {
   "cell_type": "code",
   "execution_count": 42,
   "metadata": {},
   "outputs": [],
   "source": [
    "b= pd.pivot_table(data, values='target',index='person_prefer_d_2_attribute_d_l',\n",
    "    columns='contents_attribute_d_attribute_d_l',\n",
    "    aggfunc='count', fill_value=0)"
   ]
  },
  {
   "cell_type": "code",
   "execution_count": 43,
   "metadata": {
    "scrolled": true
   },
   "outputs": [
    {
     "data": {
      "text/html": [
       "<div>\n",
       "<style scoped>\n",
       "    .dataframe tbody tr th:only-of-type {\n",
       "        vertical-align: middle;\n",
       "    }\n",
       "\n",
       "    .dataframe tbody tr th {\n",
       "        vertical-align: top;\n",
       "    }\n",
       "\n",
       "    .dataframe thead th {\n",
       "        text-align: right;\n",
       "    }\n",
       "</style>\n",
       "<table border=\"1\" class=\"dataframe\">\n",
       "  <thead>\n",
       "    <tr style=\"text-align: right;\">\n",
       "      <th>contents_attribute_d_attribute_d_l</th>\n",
       "      <th>1</th>\n",
       "      <th>216</th>\n",
       "      <th>377</th>\n",
       "      <th>482</th>\n",
       "      <th>522</th>\n",
       "      <th>618</th>\n",
       "      <th>744</th>\n",
       "      <th>864</th>\n",
       "      <th>926</th>\n",
       "      <th>1235</th>\n",
       "      <th>1258</th>\n",
       "    </tr>\n",
       "    <tr>\n",
       "      <th>person_prefer_d_2_attribute_d_l</th>\n",
       "      <th></th>\n",
       "      <th></th>\n",
       "      <th></th>\n",
       "      <th></th>\n",
       "      <th></th>\n",
       "      <th></th>\n",
       "      <th></th>\n",
       "      <th></th>\n",
       "      <th></th>\n",
       "      <th></th>\n",
       "      <th></th>\n",
       "    </tr>\n",
       "  </thead>\n",
       "  <tbody>\n",
       "    <tr>\n",
       "      <th>1</th>\n",
       "      <td>0.576027</td>\n",
       "      <td>0.396947</td>\n",
       "      <td>0.332855</td>\n",
       "      <td>0.372775</td>\n",
       "      <td>0.348470</td>\n",
       "      <td>0.279459</td>\n",
       "      <td>0.450208</td>\n",
       "      <td>0.297393</td>\n",
       "      <td>0.373357</td>\n",
       "      <td>0.180828</td>\n",
       "      <td>0.333333</td>\n",
       "    </tr>\n",
       "    <tr>\n",
       "      <th>216</th>\n",
       "      <td>0.534165</td>\n",
       "      <td>0.610883</td>\n",
       "      <td>0.248031</td>\n",
       "      <td>0.320000</td>\n",
       "      <td>0.579869</td>\n",
       "      <td>0.396226</td>\n",
       "      <td>0.403592</td>\n",
       "      <td>0.485549</td>\n",
       "      <td>0.472514</td>\n",
       "      <td>0.229167</td>\n",
       "      <td>0.000000</td>\n",
       "    </tr>\n",
       "    <tr>\n",
       "      <th>377</th>\n",
       "      <td>0.519663</td>\n",
       "      <td>0.291284</td>\n",
       "      <td>0.491415</td>\n",
       "      <td>0.578765</td>\n",
       "      <td>0.373377</td>\n",
       "      <td>0.296623</td>\n",
       "      <td>0.384468</td>\n",
       "      <td>0.245614</td>\n",
       "      <td>0.332158</td>\n",
       "      <td>0.160714</td>\n",
       "      <td>0.000000</td>\n",
       "    </tr>\n",
       "    <tr>\n",
       "      <th>482</th>\n",
       "      <td>0.493294</td>\n",
       "      <td>0.330769</td>\n",
       "      <td>0.470320</td>\n",
       "      <td>0.587237</td>\n",
       "      <td>0.297872</td>\n",
       "      <td>0.340094</td>\n",
       "      <td>0.385852</td>\n",
       "      <td>0.153846</td>\n",
       "      <td>0.364078</td>\n",
       "      <td>0.222222</td>\n",
       "      <td>0.000000</td>\n",
       "    </tr>\n",
       "    <tr>\n",
       "      <th>522</th>\n",
       "      <td>0.563205</td>\n",
       "      <td>0.447115</td>\n",
       "      <td>0.393130</td>\n",
       "      <td>0.392157</td>\n",
       "      <td>0.671146</td>\n",
       "      <td>0.453744</td>\n",
       "      <td>0.558659</td>\n",
       "      <td>0.500000</td>\n",
       "      <td>0.456716</td>\n",
       "      <td>0.333333</td>\n",
       "      <td>0.000000</td>\n",
       "    </tr>\n",
       "    <tr>\n",
       "      <th>618</th>\n",
       "      <td>0.505607</td>\n",
       "      <td>0.360759</td>\n",
       "      <td>0.350323</td>\n",
       "      <td>0.421795</td>\n",
       "      <td>0.330677</td>\n",
       "      <td>0.568209</td>\n",
       "      <td>0.479619</td>\n",
       "      <td>0.501027</td>\n",
       "      <td>0.477540</td>\n",
       "      <td>0.331288</td>\n",
       "      <td>0.000000</td>\n",
       "    </tr>\n",
       "    <tr>\n",
       "      <th>744</th>\n",
       "      <td>0.518487</td>\n",
       "      <td>0.356498</td>\n",
       "      <td>0.282209</td>\n",
       "      <td>0.352239</td>\n",
       "      <td>0.377309</td>\n",
       "      <td>0.460793</td>\n",
       "      <td>0.548083</td>\n",
       "      <td>0.512167</td>\n",
       "      <td>0.447857</td>\n",
       "      <td>0.387850</td>\n",
       "      <td>0.000000</td>\n",
       "    </tr>\n",
       "    <tr>\n",
       "      <th>864</th>\n",
       "      <td>0.514042</td>\n",
       "      <td>0.492147</td>\n",
       "      <td>0.327869</td>\n",
       "      <td>0.225806</td>\n",
       "      <td>0.588235</td>\n",
       "      <td>0.513060</td>\n",
       "      <td>0.505654</td>\n",
       "      <td>0.581687</td>\n",
       "      <td>0.518349</td>\n",
       "      <td>0.436364</td>\n",
       "      <td>0.000000</td>\n",
       "    </tr>\n",
       "    <tr>\n",
       "      <th>926</th>\n",
       "      <td>0.450721</td>\n",
       "      <td>0.426480</td>\n",
       "      <td>0.212121</td>\n",
       "      <td>0.246454</td>\n",
       "      <td>0.256881</td>\n",
       "      <td>0.359005</td>\n",
       "      <td>0.416403</td>\n",
       "      <td>0.422455</td>\n",
       "      <td>0.501685</td>\n",
       "      <td>0.281188</td>\n",
       "      <td>0.000000</td>\n",
       "    </tr>\n",
       "    <tr>\n",
       "      <th>1235</th>\n",
       "      <td>0.487179</td>\n",
       "      <td>0.579439</td>\n",
       "      <td>0.275862</td>\n",
       "      <td>0.000000</td>\n",
       "      <td>0.333333</td>\n",
       "      <td>0.565217</td>\n",
       "      <td>0.495726</td>\n",
       "      <td>0.530612</td>\n",
       "      <td>0.438298</td>\n",
       "      <td>0.592593</td>\n",
       "      <td>0.000000</td>\n",
       "    </tr>\n",
       "    <tr>\n",
       "      <th>1258</th>\n",
       "      <td>0.000000</td>\n",
       "      <td>0.000000</td>\n",
       "      <td>0.000000</td>\n",
       "      <td>0.000000</td>\n",
       "      <td>0.000000</td>\n",
       "      <td>1.000000</td>\n",
       "      <td>0.000000</td>\n",
       "      <td>0.000000</td>\n",
       "      <td>1.000000</td>\n",
       "      <td>0.000000</td>\n",
       "      <td>0.000000</td>\n",
       "    </tr>\n",
       "  </tbody>\n",
       "</table>\n",
       "</div>"
      ],
      "text/plain": [
       "contents_attribute_d_attribute_d_l      1         216       377       482   \\\n",
       "person_prefer_d_2_attribute_d_l                                              \n",
       "1                                   0.576027  0.396947  0.332855  0.372775   \n",
       "216                                 0.534165  0.610883  0.248031  0.320000   \n",
       "377                                 0.519663  0.291284  0.491415  0.578765   \n",
       "482                                 0.493294  0.330769  0.470320  0.587237   \n",
       "522                                 0.563205  0.447115  0.393130  0.392157   \n",
       "618                                 0.505607  0.360759  0.350323  0.421795   \n",
       "744                                 0.518487  0.356498  0.282209  0.352239   \n",
       "864                                 0.514042  0.492147  0.327869  0.225806   \n",
       "926                                 0.450721  0.426480  0.212121  0.246454   \n",
       "1235                                0.487179  0.579439  0.275862  0.000000   \n",
       "1258                                0.000000  0.000000  0.000000  0.000000   \n",
       "\n",
       "contents_attribute_d_attribute_d_l      522       618       744       864   \\\n",
       "person_prefer_d_2_attribute_d_l                                              \n",
       "1                                   0.348470  0.279459  0.450208  0.297393   \n",
       "216                                 0.579869  0.396226  0.403592  0.485549   \n",
       "377                                 0.373377  0.296623  0.384468  0.245614   \n",
       "482                                 0.297872  0.340094  0.385852  0.153846   \n",
       "522                                 0.671146  0.453744  0.558659  0.500000   \n",
       "618                                 0.330677  0.568209  0.479619  0.501027   \n",
       "744                                 0.377309  0.460793  0.548083  0.512167   \n",
       "864                                 0.588235  0.513060  0.505654  0.581687   \n",
       "926                                 0.256881  0.359005  0.416403  0.422455   \n",
       "1235                                0.333333  0.565217  0.495726  0.530612   \n",
       "1258                                0.000000  1.000000  0.000000  0.000000   \n",
       "\n",
       "contents_attribute_d_attribute_d_l      926       1235      1258  \n",
       "person_prefer_d_2_attribute_d_l                                   \n",
       "1                                   0.373357  0.180828  0.333333  \n",
       "216                                 0.472514  0.229167  0.000000  \n",
       "377                                 0.332158  0.160714  0.000000  \n",
       "482                                 0.364078  0.222222  0.000000  \n",
       "522                                 0.456716  0.333333  0.000000  \n",
       "618                                 0.477540  0.331288  0.000000  \n",
       "744                                 0.447857  0.387850  0.000000  \n",
       "864                                 0.518349  0.436364  0.000000  \n",
       "926                                 0.501685  0.281188  0.000000  \n",
       "1235                                0.438298  0.592593  0.000000  \n",
       "1258                                1.000000  0.000000  0.000000  "
      ]
     },
     "execution_count": 43,
     "metadata": {},
     "output_type": "execute_result"
    }
   ],
   "source": [
    "ab=(a/b).fillna(0)\n",
    "ab"
   ]
  },
  {
   "cell_type": "code",
   "execution_count": 176,
   "metadata": {},
   "outputs": [],
   "source": [
    "d_2_l_target = []\n",
    "for i in range(11):\n",
    "    d_2_l_target.append(list(ab.iloc[i,:] + ab.iloc[:,i]))\n",
    "d_2_l_target= pd.DataFrame(d_2_l_target, columns=list(ab.columns))\n",
    "d_2_l_target.index = list(ab.columns)"
   ]
  },
  {
   "cell_type": "code",
   "execution_count": 177,
   "metadata": {},
   "outputs": [],
   "source": [
    "x_train['d_2_l_target']=0\n",
    "x_test['d_2_l_target']=0"
   ]
  },
  {
   "cell_type": "markdown",
   "metadata": {},
   "source": [
    "D_3_L assemble"
   ]
  },
  {
   "cell_type": "code",
   "execution_count": 178,
   "metadata": {
    "scrolled": true
   },
   "outputs": [],
   "source": [
    "a= pd.pivot_table(data, values='target',index='person_prefer_d_3_attribute_d_l',\n",
    "    columns='contents_attribute_d_attribute_d_l',\n",
    "    aggfunc='sum', fill_value=0)"
   ]
  },
  {
   "cell_type": "code",
   "execution_count": 179,
   "metadata": {},
   "outputs": [],
   "source": [
    "b= pd.pivot_table(data, values='target',index='person_prefer_d_3_attribute_d_l',\n",
    "    columns='contents_attribute_d_attribute_d_l',\n",
    "    aggfunc='count', fill_value=0)"
   ]
  },
  {
   "cell_type": "code",
   "execution_count": 180,
   "metadata": {},
   "outputs": [
    {
     "data": {
      "text/html": [
       "<div>\n",
       "<style scoped>\n",
       "    .dataframe tbody tr th:only-of-type {\n",
       "        vertical-align: middle;\n",
       "    }\n",
       "\n",
       "    .dataframe tbody tr th {\n",
       "        vertical-align: top;\n",
       "    }\n",
       "\n",
       "    .dataframe thead th {\n",
       "        text-align: right;\n",
       "    }\n",
       "</style>\n",
       "<table border=\"1\" class=\"dataframe\">\n",
       "  <thead>\n",
       "    <tr style=\"text-align: right;\">\n",
       "      <th>contents_attribute_d_attribute_d_l</th>\n",
       "      <th>1</th>\n",
       "      <th>216</th>\n",
       "      <th>377</th>\n",
       "      <th>482</th>\n",
       "      <th>522</th>\n",
       "      <th>618</th>\n",
       "      <th>744</th>\n",
       "      <th>864</th>\n",
       "      <th>926</th>\n",
       "      <th>1235</th>\n",
       "      <th>1258</th>\n",
       "    </tr>\n",
       "    <tr>\n",
       "      <th>person_prefer_d_3_attribute_d_l</th>\n",
       "      <th></th>\n",
       "      <th></th>\n",
       "      <th></th>\n",
       "      <th></th>\n",
       "      <th></th>\n",
       "      <th></th>\n",
       "      <th></th>\n",
       "      <th></th>\n",
       "      <th></th>\n",
       "      <th></th>\n",
       "      <th></th>\n",
       "    </tr>\n",
       "  </thead>\n",
       "  <tbody>\n",
       "    <tr>\n",
       "      <th>1</th>\n",
       "      <td>0.573550</td>\n",
       "      <td>0.448115</td>\n",
       "      <td>0.408043</td>\n",
       "      <td>0.500075</td>\n",
       "      <td>0.329302</td>\n",
       "      <td>0.301267</td>\n",
       "      <td>0.436716</td>\n",
       "      <td>0.330151</td>\n",
       "      <td>0.371168</td>\n",
       "      <td>0.177515</td>\n",
       "      <td>0.333333</td>\n",
       "    </tr>\n",
       "    <tr>\n",
       "      <th>216</th>\n",
       "      <td>0.540398</td>\n",
       "      <td>0.580759</td>\n",
       "      <td>0.311321</td>\n",
       "      <td>0.357143</td>\n",
       "      <td>0.618221</td>\n",
       "      <td>0.353846</td>\n",
       "      <td>0.450980</td>\n",
       "      <td>0.455128</td>\n",
       "      <td>0.491622</td>\n",
       "      <td>0.214286</td>\n",
       "      <td>0.000000</td>\n",
       "    </tr>\n",
       "    <tr>\n",
       "      <th>377</th>\n",
       "      <td>0.534091</td>\n",
       "      <td>0.351351</td>\n",
       "      <td>0.487160</td>\n",
       "      <td>0.421739</td>\n",
       "      <td>0.531599</td>\n",
       "      <td>0.316505</td>\n",
       "      <td>0.420891</td>\n",
       "      <td>0.263736</td>\n",
       "      <td>0.380074</td>\n",
       "      <td>0.250000</td>\n",
       "      <td>0.000000</td>\n",
       "    </tr>\n",
       "    <tr>\n",
       "      <th>482</th>\n",
       "      <td>0.569832</td>\n",
       "      <td>0.382353</td>\n",
       "      <td>0.349570</td>\n",
       "      <td>0.603416</td>\n",
       "      <td>0.365854</td>\n",
       "      <td>0.439141</td>\n",
       "      <td>0.394495</td>\n",
       "      <td>0.321429</td>\n",
       "      <td>0.409884</td>\n",
       "      <td>0.142857</td>\n",
       "      <td>0.000000</td>\n",
       "    </tr>\n",
       "    <tr>\n",
       "      <th>522</th>\n",
       "      <td>0.553817</td>\n",
       "      <td>0.477089</td>\n",
       "      <td>0.357143</td>\n",
       "      <td>0.256410</td>\n",
       "      <td>0.658374</td>\n",
       "      <td>0.414747</td>\n",
       "      <td>0.563327</td>\n",
       "      <td>0.404255</td>\n",
       "      <td>0.463566</td>\n",
       "      <td>0.333333</td>\n",
       "      <td>0.000000</td>\n",
       "    </tr>\n",
       "    <tr>\n",
       "      <th>618</th>\n",
       "      <td>0.504097</td>\n",
       "      <td>0.372781</td>\n",
       "      <td>0.338006</td>\n",
       "      <td>0.359055</td>\n",
       "      <td>0.318408</td>\n",
       "      <td>0.560235</td>\n",
       "      <td>0.501558</td>\n",
       "      <td>0.485666</td>\n",
       "      <td>0.485141</td>\n",
       "      <td>0.371069</td>\n",
       "      <td>0.000000</td>\n",
       "    </tr>\n",
       "    <tr>\n",
       "      <th>744</th>\n",
       "      <td>0.501820</td>\n",
       "      <td>0.348794</td>\n",
       "      <td>0.272066</td>\n",
       "      <td>0.348837</td>\n",
       "      <td>0.369021</td>\n",
       "      <td>0.500905</td>\n",
       "      <td>0.537848</td>\n",
       "      <td>0.446735</td>\n",
       "      <td>0.480244</td>\n",
       "      <td>0.341137</td>\n",
       "      <td>0.000000</td>\n",
       "    </tr>\n",
       "    <tr>\n",
       "      <th>864</th>\n",
       "      <td>0.478873</td>\n",
       "      <td>0.607190</td>\n",
       "      <td>0.375000</td>\n",
       "      <td>0.176471</td>\n",
       "      <td>0.702703</td>\n",
       "      <td>0.464720</td>\n",
       "      <td>0.520570</td>\n",
       "      <td>0.585930</td>\n",
       "      <td>0.515181</td>\n",
       "      <td>0.375000</td>\n",
       "      <td>0.000000</td>\n",
       "    </tr>\n",
       "    <tr>\n",
       "      <th>926</th>\n",
       "      <td>0.460313</td>\n",
       "      <td>0.437612</td>\n",
       "      <td>0.202077</td>\n",
       "      <td>0.255814</td>\n",
       "      <td>0.256513</td>\n",
       "      <td>0.357879</td>\n",
       "      <td>0.480250</td>\n",
       "      <td>0.440427</td>\n",
       "      <td>0.498098</td>\n",
       "      <td>0.301887</td>\n",
       "      <td>0.000000</td>\n",
       "    </tr>\n",
       "    <tr>\n",
       "      <th>1235</th>\n",
       "      <td>0.514706</td>\n",
       "      <td>0.633333</td>\n",
       "      <td>0.346154</td>\n",
       "      <td>0.333333</td>\n",
       "      <td>0.307692</td>\n",
       "      <td>0.590000</td>\n",
       "      <td>0.544643</td>\n",
       "      <td>0.461538</td>\n",
       "      <td>0.500000</td>\n",
       "      <td>0.570652</td>\n",
       "      <td>0.000000</td>\n",
       "    </tr>\n",
       "    <tr>\n",
       "      <th>1258</th>\n",
       "      <td>0.000000</td>\n",
       "      <td>0.000000</td>\n",
       "      <td>0.000000</td>\n",
       "      <td>1.000000</td>\n",
       "      <td>0.000000</td>\n",
       "      <td>0.666667</td>\n",
       "      <td>0.000000</td>\n",
       "      <td>0.000000</td>\n",
       "      <td>1.000000</td>\n",
       "      <td>0.000000</td>\n",
       "      <td>0.000000</td>\n",
       "    </tr>\n",
       "  </tbody>\n",
       "</table>\n",
       "</div>"
      ],
      "text/plain": [
       "contents_attribute_d_attribute_d_l      1         216       377       482   \\\n",
       "person_prefer_d_3_attribute_d_l                                              \n",
       "1                                   0.573550  0.448115  0.408043  0.500075   \n",
       "216                                 0.540398  0.580759  0.311321  0.357143   \n",
       "377                                 0.534091  0.351351  0.487160  0.421739   \n",
       "482                                 0.569832  0.382353  0.349570  0.603416   \n",
       "522                                 0.553817  0.477089  0.357143  0.256410   \n",
       "618                                 0.504097  0.372781  0.338006  0.359055   \n",
       "744                                 0.501820  0.348794  0.272066  0.348837   \n",
       "864                                 0.478873  0.607190  0.375000  0.176471   \n",
       "926                                 0.460313  0.437612  0.202077  0.255814   \n",
       "1235                                0.514706  0.633333  0.346154  0.333333   \n",
       "1258                                0.000000  0.000000  0.000000  1.000000   \n",
       "\n",
       "contents_attribute_d_attribute_d_l      522       618       744       864   \\\n",
       "person_prefer_d_3_attribute_d_l                                              \n",
       "1                                   0.329302  0.301267  0.436716  0.330151   \n",
       "216                                 0.618221  0.353846  0.450980  0.455128   \n",
       "377                                 0.531599  0.316505  0.420891  0.263736   \n",
       "482                                 0.365854  0.439141  0.394495  0.321429   \n",
       "522                                 0.658374  0.414747  0.563327  0.404255   \n",
       "618                                 0.318408  0.560235  0.501558  0.485666   \n",
       "744                                 0.369021  0.500905  0.537848  0.446735   \n",
       "864                                 0.702703  0.464720  0.520570  0.585930   \n",
       "926                                 0.256513  0.357879  0.480250  0.440427   \n",
       "1235                                0.307692  0.590000  0.544643  0.461538   \n",
       "1258                                0.000000  0.666667  0.000000  0.000000   \n",
       "\n",
       "contents_attribute_d_attribute_d_l      926       1235      1258  \n",
       "person_prefer_d_3_attribute_d_l                                   \n",
       "1                                   0.371168  0.177515  0.333333  \n",
       "216                                 0.491622  0.214286  0.000000  \n",
       "377                                 0.380074  0.250000  0.000000  \n",
       "482                                 0.409884  0.142857  0.000000  \n",
       "522                                 0.463566  0.333333  0.000000  \n",
       "618                                 0.485141  0.371069  0.000000  \n",
       "744                                 0.480244  0.341137  0.000000  \n",
       "864                                 0.515181  0.375000  0.000000  \n",
       "926                                 0.498098  0.301887  0.000000  \n",
       "1235                                0.500000  0.570652  0.000000  \n",
       "1258                                1.000000  0.000000  0.000000  "
      ]
     },
     "execution_count": 180,
     "metadata": {},
     "output_type": "execute_result"
    }
   ],
   "source": [
    "ab=(a/b).fillna(0)\n",
    "ab"
   ]
  },
  {
   "cell_type": "code",
   "execution_count": 181,
   "metadata": {},
   "outputs": [],
   "source": [
    "d_3_l_target = []\n",
    "for i in range(11):\n",
    "    d_3_l_target.append(list(ab.iloc[i,:] + ab.iloc[:,i]))\n",
    "d_3_l_target= pd.DataFrame(d_3_l_target, columns=list(ab.columns))\n",
    "d_3_l_target.index = list(ab.columns)"
   ]
  },
  {
   "cell_type": "code",
   "execution_count": 183,
   "metadata": {},
   "outputs": [],
   "source": [
    "x_train['d_3_l_target']=0\n",
    "x_test['d_3_l_target']=0"
   ]
  },
  {
   "cell_type": "code",
   "execution_count": 184,
   "metadata": {
    "scrolled": false
   },
   "outputs": [
    {
     "name": "stderr",
     "output_type": "stream",
     "text": [
      "100%|█████████████████████████████████████████████████████████████████████████| 501951/501951 [49:28<00:00, 169.08it/s]\n"
     ]
    }
   ],
   "source": [
    "for i in tqdm(range(x_train.shape[0])):\n",
    "    x_train.loc[i,'d_1_l_target'] = d_1_l_target.loc[x_train.person_prefer_d_1_attribute_d_l[i],x_train.contents_attribute_d_attribute_d_l[i]]\n",
    "    x_train.loc[i,'d_2_l_target'] = d_2_l_target.loc[x_train.person_prefer_d_2_attribute_d_l[i],x_train.contents_attribute_d_attribute_d_l[i]]\n",
    "    x_train.loc[i,'d_3_l_target'] = d_3_l_target.loc[x_train.person_prefer_d_3_attribute_d_l[i],x_train.contents_attribute_d_attribute_d_l[i]]"
   ]
  },
  {
   "cell_type": "code",
   "execution_count": 185,
   "metadata": {
    "scrolled": true
   },
   "outputs": [
    {
     "name": "stderr",
     "output_type": "stream",
     "text": [
      "100%|██████████████████████████████████████████████████████████████████████████| 46404/46404 [00:32<00:00, 1428.47it/s]\n"
     ]
    }
   ],
   "source": [
    "for i in tqdm(range(x_test.shape[0])):\n",
    "    x_test.loc[i,'d_1_l_target'] = d_1_l_target.loc[x_test.person_prefer_d_1_attribute_d_l[i],x_test.contents_attribute_d_attribute_d_l[i]]\n",
    "    x_test.loc[i,'d_2_l_target'] = d_2_l_target.loc[x_test.person_prefer_d_2_attribute_d_l[i],x_test.contents_attribute_d_attribute_d_l[i]]\n",
    "    x_test.loc[i,'d_3_l_target'] = d_3_l_target.loc[x_test.person_prefer_d_3_attribute_d_l[i],x_test.contents_attribute_d_attribute_d_l[i]]"
   ]
  },
  {
   "cell_type": "markdown",
   "metadata": {},
   "source": [
    "---"
   ]
  },
  {
   "cell_type": "code",
   "execution_count": 168,
   "metadata": {},
   "outputs": [],
   "source": [
    "# 제곱했을 때 성능이 좋아 사용함\n",
    "x_train['d_1_l_target'] = x_train['d_1_l_target'] **2\n",
    "x_train['d_2_l_target'] = x_train['d_2_l_target'] **2\n",
    "x_train['d_3_l_target'] = x_train['d_3_l_target'] **2\n",
    "\n",
    "x_test['d_1_l_target'] = x_test['d_1_l_target'] **2\n",
    "x_test['d_2_l_target'] = x_test['d_2_l_target'] **2\n",
    "x_test['d_3_l_target'] = x_test['d_3_l_target'] **2"
   ]
  },
  {
   "cell_type": "code",
   "execution_count": 171,
   "metadata": {
    "scrolled": false
   },
   "outputs": [
    {
     "data": {
      "text/plain": [
       "((501951, 120), (46404, 120))"
      ]
     },
     "execution_count": 171,
     "metadata": {},
     "output_type": "execute_result"
    }
   ],
   "source": [
    "x_train.shape, x_test.shape"
   ]
  },
  {
   "cell_type": "code",
   "execution_count": 172,
   "metadata": {
    "scrolled": false
   },
   "outputs": [
    {
     "data": {
      "text/html": [
       "<div>\n",
       "<style scoped>\n",
       "    .dataframe tbody tr th:only-of-type {\n",
       "        vertical-align: middle;\n",
       "    }\n",
       "\n",
       "    .dataframe tbody tr th {\n",
       "        vertical-align: top;\n",
       "    }\n",
       "\n",
       "    .dataframe thead th {\n",
       "        text-align: right;\n",
       "    }\n",
       "</style>\n",
       "<table border=\"1\" class=\"dataframe\">\n",
       "  <thead>\n",
       "    <tr style=\"text-align: right;\">\n",
       "      <th></th>\n",
       "      <th>d_l_match_yn</th>\n",
       "      <th>d_m_match_yn</th>\n",
       "      <th>d_s_match_yn</th>\n",
       "      <th>h_l_match_yn</th>\n",
       "      <th>h_m_match_yn</th>\n",
       "      <th>h_s_match_yn</th>\n",
       "      <th>person_attribute_a</th>\n",
       "      <th>person_attribute_a_1</th>\n",
       "      <th>person_attribute_b</th>\n",
       "      <th>person_prefer_c</th>\n",
       "      <th>...</th>\n",
       "      <th>H_E_1_sum</th>\n",
       "      <th>H_E_2_sum</th>\n",
       "      <th>H_E_3_sum</th>\n",
       "      <th>L_E_mul</th>\n",
       "      <th>L_E_sum</th>\n",
       "      <th>j_assemble</th>\n",
       "      <th>a_assemble</th>\n",
       "      <th>d_1_l_target</th>\n",
       "      <th>d_2_l_target</th>\n",
       "      <th>d_3_l_target</th>\n",
       "    </tr>\n",
       "  </thead>\n",
       "  <tbody>\n",
       "    <tr>\n",
       "      <th>0</th>\n",
       "      <td>1</td>\n",
       "      <td>1</td>\n",
       "      <td>1</td>\n",
       "      <td>0</td>\n",
       "      <td>0</td>\n",
       "      <td>0</td>\n",
       "      <td>1</td>\n",
       "      <td>4</td>\n",
       "      <td>3</td>\n",
       "      <td>5</td>\n",
       "      <td>...</td>\n",
       "      <td>4</td>\n",
       "      <td>5</td>\n",
       "      <td>4</td>\n",
       "      <td>27336</td>\n",
       "      <td>6838</td>\n",
       "      <td>20</td>\n",
       "      <td>14_3</td>\n",
       "      <td>1.433521</td>\n",
       "      <td>1.492711</td>\n",
       "      <td>1.349122</td>\n",
       "    </tr>\n",
       "    <tr>\n",
       "      <th>1</th>\n",
       "      <td>0</td>\n",
       "      <td>0</td>\n",
       "      <td>0</td>\n",
       "      <td>1</td>\n",
       "      <td>1</td>\n",
       "      <td>0</td>\n",
       "      <td>1</td>\n",
       "      <td>3</td>\n",
       "      <td>4</td>\n",
       "      <td>1</td>\n",
       "      <td>...</td>\n",
       "      <td>2</td>\n",
       "      <td>1</td>\n",
       "      <td>1</td>\n",
       "      <td>0</td>\n",
       "      <td>6834</td>\n",
       "      <td>5</td>\n",
       "      <td>13_3</td>\n",
       "      <td>0.762106</td>\n",
       "      <td>0.866970</td>\n",
       "      <td>0.977157</td>\n",
       "    </tr>\n",
       "    <tr>\n",
       "      <th>2</th>\n",
       "      <td>0</td>\n",
       "      <td>0</td>\n",
       "      <td>0</td>\n",
       "      <td>1</td>\n",
       "      <td>0</td>\n",
       "      <td>0</td>\n",
       "      <td>2</td>\n",
       "      <td>0</td>\n",
       "      <td>3</td>\n",
       "      <td>5</td>\n",
       "      <td>...</td>\n",
       "      <td>0</td>\n",
       "      <td>-1</td>\n",
       "      <td>0</td>\n",
       "      <td>-6782</td>\n",
       "      <td>6781</td>\n",
       "      <td>20</td>\n",
       "      <td>20_1</td>\n",
       "      <td>0.629744</td>\n",
       "      <td>1.327229</td>\n",
       "      <td>0.887617</td>\n",
       "    </tr>\n",
       "    <tr>\n",
       "      <th>3</th>\n",
       "      <td>0</td>\n",
       "      <td>0</td>\n",
       "      <td>0</td>\n",
       "      <td>1</td>\n",
       "      <td>0</td>\n",
       "      <td>0</td>\n",
       "      <td>2</td>\n",
       "      <td>0</td>\n",
       "      <td>2</td>\n",
       "      <td>5</td>\n",
       "      <td>...</td>\n",
       "      <td>1</td>\n",
       "      <td>0</td>\n",
       "      <td>0</td>\n",
       "      <td>0</td>\n",
       "      <td>6834</td>\n",
       "      <td>5</td>\n",
       "      <td>20_3</td>\n",
       "      <td>0.551123</td>\n",
       "      <td>0.573028</td>\n",
       "      <td>0.527987</td>\n",
       "    </tr>\n",
       "    <tr>\n",
       "      <th>4</th>\n",
       "      <td>1</td>\n",
       "      <td>1</td>\n",
       "      <td>1</td>\n",
       "      <td>0</td>\n",
       "      <td>0</td>\n",
       "      <td>0</td>\n",
       "      <td>1</td>\n",
       "      <td>3</td>\n",
       "      <td>4</td>\n",
       "      <td>5</td>\n",
       "      <td>...</td>\n",
       "      <td>0</td>\n",
       "      <td>0</td>\n",
       "      <td>0</td>\n",
       "      <td>0</td>\n",
       "      <td>6834</td>\n",
       "      <td>20</td>\n",
       "      <td>13_1</td>\n",
       "      <td>1.433521</td>\n",
       "      <td>1.492711</td>\n",
       "      <td>1.349122</td>\n",
       "    </tr>\n",
       "    <tr>\n",
       "      <th>...</th>\n",
       "      <td>...</td>\n",
       "      <td>...</td>\n",
       "      <td>...</td>\n",
       "      <td>...</td>\n",
       "      <td>...</td>\n",
       "      <td>...</td>\n",
       "      <td>...</td>\n",
       "      <td>...</td>\n",
       "      <td>...</td>\n",
       "      <td>...</td>\n",
       "      <td>...</td>\n",
       "      <td>...</td>\n",
       "      <td>...</td>\n",
       "      <td>...</td>\n",
       "      <td>...</td>\n",
       "      <td>...</td>\n",
       "      <td>...</td>\n",
       "      <td>...</td>\n",
       "      <td>...</td>\n",
       "      <td>...</td>\n",
       "      <td>...</td>\n",
       "    </tr>\n",
       "    <tr>\n",
       "      <th>501946</th>\n",
       "      <td>0</td>\n",
       "      <td>0</td>\n",
       "      <td>0</td>\n",
       "      <td>1</td>\n",
       "      <td>0</td>\n",
       "      <td>0</td>\n",
       "      <td>1</td>\n",
       "      <td>1</td>\n",
       "      <td>2</td>\n",
       "      <td>2</td>\n",
       "      <td>...</td>\n",
       "      <td>-1</td>\n",
       "      <td>-2</td>\n",
       "      <td>-2</td>\n",
       "      <td>-6102</td>\n",
       "      <td>3049</td>\n",
       "      <td>5</td>\n",
       "      <td>11_3</td>\n",
       "      <td>0.628597</td>\n",
       "      <td>0.679103</td>\n",
       "      <td>0.691360</td>\n",
       "    </tr>\n",
       "    <tr>\n",
       "      <th>501947</th>\n",
       "      <td>1</td>\n",
       "      <td>1</td>\n",
       "      <td>0</td>\n",
       "      <td>1</td>\n",
       "      <td>0</td>\n",
       "      <td>0</td>\n",
       "      <td>1</td>\n",
       "      <td>6</td>\n",
       "      <td>2</td>\n",
       "      <td>1</td>\n",
       "      <td>...</td>\n",
       "      <td>1</td>\n",
       "      <td>3</td>\n",
       "      <td>1</td>\n",
       "      <td>0</td>\n",
       "      <td>2398</td>\n",
       "      <td>20</td>\n",
       "      <td>16_3</td>\n",
       "      <td>1.333635</td>\n",
       "      <td>1.327229</td>\n",
       "      <td>1.315839</td>\n",
       "    </tr>\n",
       "    <tr>\n",
       "      <th>501948</th>\n",
       "      <td>1</td>\n",
       "      <td>1</td>\n",
       "      <td>1</td>\n",
       "      <td>1</td>\n",
       "      <td>0</td>\n",
       "      <td>0</td>\n",
       "      <td>1</td>\n",
       "      <td>7</td>\n",
       "      <td>4</td>\n",
       "      <td>1</td>\n",
       "      <td>...</td>\n",
       "      <td>-2</td>\n",
       "      <td>-3</td>\n",
       "      <td>-3</td>\n",
       "      <td>-9801</td>\n",
       "      <td>3264</td>\n",
       "      <td>5</td>\n",
       "      <td>17_1</td>\n",
       "      <td>1.333635</td>\n",
       "      <td>1.327229</td>\n",
       "      <td>1.315839</td>\n",
       "    </tr>\n",
       "    <tr>\n",
       "      <th>501949</th>\n",
       "      <td>1</td>\n",
       "      <td>0</td>\n",
       "      <td>0</td>\n",
       "      <td>1</td>\n",
       "      <td>0</td>\n",
       "      <td>0</td>\n",
       "      <td>1</td>\n",
       "      <td>1</td>\n",
       "      <td>2</td>\n",
       "      <td>1</td>\n",
       "      <td>...</td>\n",
       "      <td>1</td>\n",
       "      <td>0</td>\n",
       "      <td>1</td>\n",
       "      <td>0</td>\n",
       "      <td>3968</td>\n",
       "      <td>5</td>\n",
       "      <td>11_2</td>\n",
       "      <td>1.333635</td>\n",
       "      <td>1.327229</td>\n",
       "      <td>1.315839</td>\n",
       "    </tr>\n",
       "    <tr>\n",
       "      <th>501950</th>\n",
       "      <td>1</td>\n",
       "      <td>1</td>\n",
       "      <td>1</td>\n",
       "      <td>1</td>\n",
       "      <td>0</td>\n",
       "      <td>0</td>\n",
       "      <td>1</td>\n",
       "      <td>6</td>\n",
       "      <td>3</td>\n",
       "      <td>5</td>\n",
       "      <td>...</td>\n",
       "      <td>2</td>\n",
       "      <td>1</td>\n",
       "      <td>1</td>\n",
       "      <td>4334</td>\n",
       "      <td>4335</td>\n",
       "      <td>5</td>\n",
       "      <td>16_3</td>\n",
       "      <td>1.333635</td>\n",
       "      <td>1.327229</td>\n",
       "      <td>1.315839</td>\n",
       "    </tr>\n",
       "  </tbody>\n",
       "</table>\n",
       "<p>501951 rows × 120 columns</p>\n",
       "</div>"
      ],
      "text/plain": [
       "        d_l_match_yn  d_m_match_yn  d_s_match_yn  h_l_match_yn  h_m_match_yn  \\\n",
       "0                  1             1             1             0             0   \n",
       "1                  0             0             0             1             1   \n",
       "2                  0             0             0             1             0   \n",
       "3                  0             0             0             1             0   \n",
       "4                  1             1             1             0             0   \n",
       "...              ...           ...           ...           ...           ...   \n",
       "501946             0             0             0             1             0   \n",
       "501947             1             1             0             1             0   \n",
       "501948             1             1             1             1             0   \n",
       "501949             1             0             0             1             0   \n",
       "501950             1             1             1             1             0   \n",
       "\n",
       "        h_s_match_yn  person_attribute_a  person_attribute_a_1  \\\n",
       "0                  0                   1                     4   \n",
       "1                  0                   1                     3   \n",
       "2                  0                   2                     0   \n",
       "3                  0                   2                     0   \n",
       "4                  0                   1                     3   \n",
       "...              ...                 ...                   ...   \n",
       "501946             0                   1                     1   \n",
       "501947             0                   1                     6   \n",
       "501948             0                   1                     7   \n",
       "501949             0                   1                     1   \n",
       "501950             0                   1                     6   \n",
       "\n",
       "        person_attribute_b  person_prefer_c  ...  H_E_1_sum  H_E_2_sum  \\\n",
       "0                        3                5  ...          4          5   \n",
       "1                        4                1  ...          2          1   \n",
       "2                        3                5  ...          0         -1   \n",
       "3                        2                5  ...          1          0   \n",
       "4                        4                5  ...          0          0   \n",
       "...                    ...              ...  ...        ...        ...   \n",
       "501946                   2                2  ...         -1         -2   \n",
       "501947                   2                1  ...          1          3   \n",
       "501948                   4                1  ...         -2         -3   \n",
       "501949                   2                1  ...          1          0   \n",
       "501950                   3                5  ...          2          1   \n",
       "\n",
       "        H_E_3_sum  L_E_mul  L_E_sum  j_assemble  a_assemble  d_1_l_target  \\\n",
       "0               4    27336     6838          20        14_3      1.433521   \n",
       "1               1        0     6834           5        13_3      0.762106   \n",
       "2               0    -6782     6781          20        20_1      0.629744   \n",
       "3               0        0     6834           5        20_3      0.551123   \n",
       "4               0        0     6834          20        13_1      1.433521   \n",
       "...           ...      ...      ...         ...         ...           ...   \n",
       "501946         -2    -6102     3049           5        11_3      0.628597   \n",
       "501947          1        0     2398          20        16_3      1.333635   \n",
       "501948         -3    -9801     3264           5        17_1      1.333635   \n",
       "501949          1        0     3968           5        11_2      1.333635   \n",
       "501950          1     4334     4335           5        16_3      1.333635   \n",
       "\n",
       "        d_2_l_target  d_3_l_target  \n",
       "0           1.492711      1.349122  \n",
       "1           0.866970      0.977157  \n",
       "2           1.327229      0.887617  \n",
       "3           0.573028      0.527987  \n",
       "4           1.492711      1.349122  \n",
       "...              ...           ...  \n",
       "501946      0.679103      0.691360  \n",
       "501947      1.327229      1.315839  \n",
       "501948      1.327229      1.315839  \n",
       "501949      1.327229      1.315839  \n",
       "501950      1.327229      1.315839  \n",
       "\n",
       "[501951 rows x 120 columns]"
      ]
     },
     "execution_count": 172,
     "metadata": {},
     "output_type": "execute_result"
    }
   ],
   "source": [
    "x_train"
   ]
  },
  {
   "cell_type": "markdown",
   "metadata": {},
   "source": [
    "---"
   ]
  },
  {
   "cell_type": "markdown",
   "metadata": {},
   "source": [
    "## person 과 contents의 관계"
   ]
  },
  {
   "cell_type": "markdown",
   "metadata": {},
   "source": [
    "person과 contents의 관계를 보기 위해서는 train-data에 있는 person의 종류와 test-data에 있는 종류를 포함하고 있어야 한다. \\\n",
    "person_rn의 unique값은 포함하지 않는 갯수가 많기 때문에 다른 유의미한 피처로 피쳐를 만들어 주겠다.\\\n",
    "**test-data의 값이 train-data에 포함만 한다면 nunique값이 크더라도 문제가 되지 않는다. 그래서 최대한 세밀하게 나눌 것**"
   ]
  },
  {
   "cell_type": "markdown",
   "metadata": {},
   "source": [
    "#### # nan값을 해결하기 위해서 다른 조합으로 person과 contents 를 구성한 뒤 nan값이 있는 행의 위치 파악 후 대체하는 방식으로 진행\n",
    "- nan을 모두 해결하기 위해 4번 반복하여 진행"
   ]
  },
  {
   "cell_type": "markdown",
   "metadata": {},
   "source": [
    "#### person"
   ]
  },
  {
   "cell_type": "code",
   "execution_count": 173,
   "metadata": {
    "scrolled": true
   },
   "outputs": [
    {
     "data": {
      "text/plain": [
       "26386"
      ]
     },
     "execution_count": 173,
     "metadata": {},
     "output_type": "execute_result"
    }
   ],
   "source": [
    "len(set(test.person_rn.unique())-set(train.person_rn.unique()))\n",
    "# 포함하지 않는 person의 종류가 너무 많다. \n",
    "# 군집을 활용해서 person_num을 따로 만들어 줌."
   ]
  },
  {
   "cell_type": "code",
   "execution_count": 174,
   "metadata": {},
   "outputs": [],
   "source": [
    "# d_l + h_l\n",
    "x_train['person_num']=x_train.person_prefer_d_1_attribute_d_l.astype(str) + '-' + x_train.person_prefer_h_1_attribute_h_l.astype(str)\n",
    "\n",
    "x_test['person_num']=x_test.person_prefer_d_1_attribute_d_l.astype(str) + '-' + x_test.person_prefer_h_1_attribute_h_l.astype(str)"
   ]
  },
  {
   "cell_type": "code",
   "execution_count": 175,
   "metadata": {
    "scrolled": false
   },
   "outputs": [
    {
     "data": {
      "text/plain": [
       "set()"
      ]
     },
     "execution_count": 175,
     "metadata": {},
     "output_type": "execute_result"
    }
   ],
   "source": [
    "set(x_test.person_num.unique()) - set(x_train.person_num.unique())"
   ]
  },
  {
   "cell_type": "code",
   "execution_count": 176,
   "metadata": {
    "scrolled": false
   },
   "outputs": [
    {
     "data": {
      "text/plain": [
       "(190, 183)"
      ]
     },
     "execution_count": 176,
     "metadata": {},
     "output_type": "execute_result"
    }
   ],
   "source": [
    "x_train.person_num.nunique(),x_test.person_num.nunique()"
   ]
  },
  {
   "cell_type": "markdown",
   "metadata": {},
   "source": [
    "#### contents"
   ]
  },
  {
   "cell_type": "code",
   "execution_count": 177,
   "metadata": {
    "scrolled": true
   },
   "outputs": [
    {
     "data": {
      "text/plain": [
       "27826"
      ]
     },
     "execution_count": 177,
     "metadata": {},
     "output_type": "execute_result"
    }
   ],
   "source": [
    "len(set(test.contents_rn.unique())-set(train.contents_rn.unique()))\n",
    "# 포함하지 않는 contents의 종류가 너무 많다. \n",
    "# 군집을 활용해서 contents_num을 따로 만들어 줌.\n",
    "# test의 종류에 포함하는 가장 많은 unique를 가진 조합을 일일이 찾았다."
   ]
  },
  {
   "cell_type": "code",
   "execution_count": 178,
   "metadata": {},
   "outputs": [],
   "source": [
    "# d_l + h_l\n",
    "x_train['contents_num']=x_train.contents_attribute_d_attribute_d_l.astype(str) + '-' + x_train.contents_attribute_h_attribute_h_l.astype(str)\n",
    "\n",
    "x_test['contents_num']=x_test.contents_attribute_d_attribute_d_l.astype(str) + '-' + x_test.contents_attribute_h_attribute_h_l.astype(str)"
   ]
  },
  {
   "cell_type": "code",
   "execution_count": 179,
   "metadata": {
    "scrolled": false
   },
   "outputs": [
    {
     "data": {
      "text/plain": [
       "set()"
      ]
     },
     "execution_count": 179,
     "metadata": {},
     "output_type": "execute_result"
    }
   ],
   "source": [
    "set(x_test.contents_num.unique()) - set(x_train.contents_num.unique())"
   ]
  },
  {
   "cell_type": "code",
   "execution_count": 180,
   "metadata": {
    "scrolled": false
   },
   "outputs": [
    {
     "data": {
      "text/plain": [
       "(171, 169)"
      ]
     },
     "execution_count": 180,
     "metadata": {},
     "output_type": "execute_result"
    }
   ],
   "source": [
    "x_train.contents_num.nunique(),x_test.contents_num.nunique()"
   ]
  },
  {
   "cell_type": "markdown",
   "metadata": {},
   "source": [
    "#### target값으로 rate를 구함\n",
    "- target encoding을 사용하려 했으나 과적합으로 인식되어 제거"
   ]
  },
  {
   "cell_type": "code",
   "execution_count": 181,
   "metadata": {},
   "outputs": [],
   "source": [
    "x_train = pd.concat([x_train,train.target],axis=1)"
   ]
  },
  {
   "cell_type": "code",
   "execution_count": 182,
   "metadata": {},
   "outputs": [],
   "source": [
    "train_rating = x_train.groupby(['person_num','contents_num'])['target'].agg([\n",
    "                                            ('구매건수', np.size)]).reset_index()"
   ]
  },
  {
   "cell_type": "code",
   "execution_count": 183,
   "metadata": {},
   "outputs": [],
   "source": [
    "x_train = pd.merge(x_train,train_rating,how='left',on=['person_num','contents_num'])\n",
    "x_test = pd.merge(x_test,train_rating,how='left',on=['person_num','contents_num'])"
   ]
  },
  {
   "cell_type": "code",
   "execution_count": 184,
   "metadata": {},
   "outputs": [
    {
     "name": "stdout",
     "output_type": "stream",
     "text": [
      "<class 'pandas.core.frame.DataFrame'>\n",
      "Int64Index: 46404 entries, 0 to 46403\n",
      "Data columns (total 3 columns):\n",
      " #   Column        Non-Null Count  Dtype  \n",
      "---  ------        --------------  -----  \n",
      " 0   person_num    46404 non-null  object \n",
      " 1   contents_num  46404 non-null  object \n",
      " 2   구매건수          46054 non-null  float64\n",
      "dtypes: float64(1), object(2)\n",
      "memory usage: 1.4+ MB\n"
     ]
    }
   ],
   "source": [
    "x_test.iloc[:,-3:].info()\n",
    "# 350개의 nan값"
   ]
  },
  {
   "cell_type": "markdown",
   "metadata": {},
   "source": [
    "#### person_2"
   ]
  },
  {
   "cell_type": "code",
   "execution_count": 185,
   "metadata": {},
   "outputs": [],
   "source": [
    "# d_l + e\n",
    "x_train['person_num_2']=x_train.person_prefer_d_1_attribute_d_l.astype(str)  + '-' + x_train.person_prefer_e.astype(str) \n",
    "\n",
    "x_test['person_num_2']=x_test.person_prefer_d_1_attribute_d_l.astype(str)  + '-' + x_test.person_prefer_e.astype(str) "
   ]
  },
  {
   "cell_type": "code",
   "execution_count": 186,
   "metadata": {
    "scrolled": true
   },
   "outputs": [
    {
     "data": {
      "text/plain": [
       "set()"
      ]
     },
     "execution_count": 186,
     "metadata": {},
     "output_type": "execute_result"
    }
   ],
   "source": [
    "set(x_test.person_num_2.unique()) - set(x_train.person_num_2.unique())"
   ]
  },
  {
   "cell_type": "code",
   "execution_count": 187,
   "metadata": {
    "scrolled": true
   },
   "outputs": [
    {
     "data": {
      "text/plain": [
       "(120, 109)"
      ]
     },
     "execution_count": 187,
     "metadata": {},
     "output_type": "execute_result"
    }
   ],
   "source": [
    "x_train.person_num_2.nunique(),x_test.person_num_2.nunique()"
   ]
  },
  {
   "cell_type": "markdown",
   "metadata": {},
   "source": [
    "#### contents_2"
   ]
  },
  {
   "cell_type": "code",
   "execution_count": 188,
   "metadata": {},
   "outputs": [],
   "source": [
    "# d_l + e\n",
    "x_train['contents_num_2']=x_train.contents_attribute_d_attribute_d_l.astype(str) + '-' + x_train.contents_attribute_e.astype(str)\n",
    "\n",
    "x_test['contents_num_2']=x_test.contents_attribute_d_attribute_d_l.astype(str) + '-' + x_test.contents_attribute_e.astype(str)"
   ]
  },
  {
   "cell_type": "code",
   "execution_count": 189,
   "metadata": {
    "scrolled": true
   },
   "outputs": [
    {
     "data": {
      "text/plain": [
       "{'618-10'}"
      ]
     },
     "execution_count": 189,
     "metadata": {},
     "output_type": "execute_result"
    }
   ],
   "source": [
    "set(x_test.contents_num_2.unique()) - set(x_train.contents_num_2.unique())"
   ]
  },
  {
   "cell_type": "code",
   "execution_count": 190,
   "metadata": {
    "scrolled": false
   },
   "outputs": [
    {
     "data": {
      "text/plain": [
       "(116, 107)"
      ]
     },
     "execution_count": 190,
     "metadata": {},
     "output_type": "execute_result"
    }
   ],
   "source": [
    "x_train.contents_num_2.nunique(),x_test.contents_num_2.nunique()"
   ]
  },
  {
   "cell_type": "markdown",
   "metadata": {},
   "source": [
    "#### target값으로 rate를 구함"
   ]
  },
  {
   "cell_type": "code",
   "execution_count": 191,
   "metadata": {},
   "outputs": [],
   "source": [
    "train_rating_2 = x_train.groupby(['person_num_2','contents_num_2'])['target'].agg([\n",
    "                                            ('구매건수_2', np.size)]).reset_index()"
   ]
  },
  {
   "cell_type": "code",
   "execution_count": 192,
   "metadata": {
    "scrolled": true
   },
   "outputs": [
    {
     "data": {
      "text/html": [
       "<div>\n",
       "<style scoped>\n",
       "    .dataframe tbody tr th:only-of-type {\n",
       "        vertical-align: middle;\n",
       "    }\n",
       "\n",
       "    .dataframe tbody tr th {\n",
       "        vertical-align: top;\n",
       "    }\n",
       "\n",
       "    .dataframe thead th {\n",
       "        text-align: right;\n",
       "    }\n",
       "</style>\n",
       "<table border=\"1\" class=\"dataframe\">\n",
       "  <thead>\n",
       "    <tr style=\"text-align: right;\">\n",
       "      <th></th>\n",
       "      <th>person_num_2</th>\n",
       "      <th>contents_num_2</th>\n",
       "      <th>구매건수_2</th>\n",
       "    </tr>\n",
       "  </thead>\n",
       "  <tbody>\n",
       "    <tr>\n",
       "      <th>0</th>\n",
       "      <td>1-0</td>\n",
       "      <td>1-0</td>\n",
       "      <td>20</td>\n",
       "    </tr>\n",
       "    <tr>\n",
       "      <th>1</th>\n",
       "      <td>1-0</td>\n",
       "      <td>1-1</td>\n",
       "      <td>159</td>\n",
       "    </tr>\n",
       "    <tr>\n",
       "      <th>2</th>\n",
       "      <td>1-0</td>\n",
       "      <td>1-10</td>\n",
       "      <td>20</td>\n",
       "    </tr>\n",
       "    <tr>\n",
       "      <th>3</th>\n",
       "      <td>1-0</td>\n",
       "      <td>1-11</td>\n",
       "      <td>23</td>\n",
       "    </tr>\n",
       "    <tr>\n",
       "      <th>4</th>\n",
       "      <td>1-0</td>\n",
       "      <td>1-2</td>\n",
       "      <td>337</td>\n",
       "    </tr>\n",
       "  </tbody>\n",
       "</table>\n",
       "</div>"
      ],
      "text/plain": [
       "  person_num_2 contents_num_2  구매건수_2\n",
       "0          1-0            1-0      20\n",
       "1          1-0            1-1     159\n",
       "2          1-0           1-10      20\n",
       "3          1-0           1-11      23\n",
       "4          1-0            1-2     337"
      ]
     },
     "execution_count": 192,
     "metadata": {},
     "output_type": "execute_result"
    }
   ],
   "source": [
    "train_rating_2.head()"
   ]
  },
  {
   "cell_type": "code",
   "execution_count": 193,
   "metadata": {},
   "outputs": [],
   "source": [
    "# 구매건수가 안맞을 수 있기 때문에 나누기 2 정도 해줌\n",
    "train_rating_2.구매건수_2 = (train_rating_2.구매건수_2 /2).astype(int)"
   ]
  },
  {
   "cell_type": "code",
   "execution_count": 194,
   "metadata": {},
   "outputs": [],
   "source": [
    "x_train = pd.merge(x_train,train_rating_2,how='left',on=['person_num_2','contents_num_2'])\n",
    "x_test = pd.merge(x_test,train_rating_2,how='left',on=['person_num_2','contents_num_2'])"
   ]
  },
  {
   "cell_type": "code",
   "execution_count": 195,
   "metadata": {},
   "outputs": [],
   "source": [
    "a = x_test[x_test.구매건수.isnull()].index\n",
    "x_test.loc[a, '구매건수'] = x_test.loc[a,'구매건수_2']"
   ]
  },
  {
   "cell_type": "code",
   "execution_count": 196,
   "metadata": {},
   "outputs": [
    {
     "name": "stdout",
     "output_type": "stream",
     "text": [
      "<class 'pandas.core.frame.DataFrame'>\n",
      "Int64Index: 46404 entries, 0 to 46403\n",
      "Data columns (total 6 columns):\n",
      " #   Column          Non-Null Count  Dtype  \n",
      "---  ------          --------------  -----  \n",
      " 0   person_num      46404 non-null  object \n",
      " 1   contents_num    46404 non-null  object \n",
      " 2   구매건수            46383 non-null  float64\n",
      " 3   person_num_2    46404 non-null  object \n",
      " 4   contents_num_2  46404 non-null  object \n",
      " 5   구매건수_2          46244 non-null  float64\n",
      "dtypes: float64(2), object(4)\n",
      "memory usage: 3.5+ MB\n"
     ]
    }
   ],
   "source": [
    "x_test.iloc[:,-6:].info()\n",
    "# 20개의 nan값"
   ]
  },
  {
   "cell_type": "markdown",
   "metadata": {},
   "source": [
    "#### person_3"
   ]
  },
  {
   "cell_type": "code",
   "execution_count": 197,
   "metadata": {},
   "outputs": [],
   "source": [
    "# h_l + e\n",
    "x_train['person_num_3']=x_train.person_prefer_h_1_attribute_h_l.astype(str)  + '-' + x_train.person_prefer_e.astype(str) \n",
    "\n",
    "x_test['person_num_3']=x_test.person_prefer_h_1_attribute_h_l.astype(str)  + '-' + x_test.person_prefer_e.astype(str) "
   ]
  },
  {
   "cell_type": "code",
   "execution_count": 198,
   "metadata": {
    "scrolled": true
   },
   "outputs": [
    {
     "data": {
      "text/plain": [
       "set()"
      ]
     },
     "execution_count": 198,
     "metadata": {},
     "output_type": "execute_result"
    }
   ],
   "source": [
    "set(x_test.person_num_3.unique()) - set(x_train.person_num_3.unique())"
   ]
  },
  {
   "cell_type": "code",
   "execution_count": 199,
   "metadata": {
    "scrolled": false
   },
   "outputs": [
    {
     "data": {
      "text/plain": [
       "(224, 206)"
      ]
     },
     "execution_count": 199,
     "metadata": {},
     "output_type": "execute_result"
    }
   ],
   "source": [
    "x_train.person_num_3.nunique(),x_test.person_num_3.nunique()"
   ]
  },
  {
   "cell_type": "markdown",
   "metadata": {},
   "source": [
    "#### contents_3"
   ]
  },
  {
   "cell_type": "code",
   "execution_count": 200,
   "metadata": {},
   "outputs": [],
   "source": [
    "# h_l + e\n",
    "x_train['contents_num_3']=x_train.contents_attribute_h_attribute_h_l.astype(str) + '-' + x_train.contents_attribute_e.astype(str)\n",
    "\n",
    "x_test['contents_num_3']=x_test.contents_attribute_h_attribute_h_l.astype(str) + '-' + x_test.contents_attribute_e.astype(str)"
   ]
  },
  {
   "cell_type": "code",
   "execution_count": 201,
   "metadata": {
    "scrolled": true
   },
   "outputs": [
    {
     "data": {
      "text/plain": [
       "set()"
      ]
     },
     "execution_count": 201,
     "metadata": {},
     "output_type": "execute_result"
    }
   ],
   "source": [
    "set(x_test.contents_num_3.unique()) - set(x_train.contents_num_3.unique())"
   ]
  },
  {
   "cell_type": "code",
   "execution_count": 202,
   "metadata": {
    "scrolled": false
   },
   "outputs": [
    {
     "data": {
      "text/plain": [
       "(203, 190)"
      ]
     },
     "execution_count": 202,
     "metadata": {},
     "output_type": "execute_result"
    }
   ],
   "source": [
    "x_train.contents_num_3.nunique(),x_test.contents_num_3.nunique()"
   ]
  },
  {
   "cell_type": "markdown",
   "metadata": {},
   "source": [
    "#### target값으로 rate를 구함"
   ]
  },
  {
   "cell_type": "code",
   "execution_count": 203,
   "metadata": {},
   "outputs": [],
   "source": [
    "train_rating_3 = x_train.groupby(['person_num_3','contents_num_3'])['target'].agg([\n",
    "                                            ('구매건수_3', np.size)]).reset_index()"
   ]
  },
  {
   "cell_type": "code",
   "execution_count": 204,
   "metadata": {
    "scrolled": true
   },
   "outputs": [
    {
     "data": {
      "text/html": [
       "<div>\n",
       "<style scoped>\n",
       "    .dataframe tbody tr th:only-of-type {\n",
       "        vertical-align: middle;\n",
       "    }\n",
       "\n",
       "    .dataframe tbody tr th {\n",
       "        vertical-align: top;\n",
       "    }\n",
       "\n",
       "    .dataframe thead th {\n",
       "        text-align: right;\n",
       "    }\n",
       "</style>\n",
       "<table border=\"1\" class=\"dataframe\">\n",
       "  <thead>\n",
       "    <tr style=\"text-align: right;\">\n",
       "      <th></th>\n",
       "      <th>person_num_3</th>\n",
       "      <th>contents_num_3</th>\n",
       "      <th>구매건수_3</th>\n",
       "    </tr>\n",
       "  </thead>\n",
       "  <tbody>\n",
       "    <tr>\n",
       "      <th>0</th>\n",
       "      <td>1-0</td>\n",
       "      <td>149-1</td>\n",
       "      <td>1</td>\n",
       "    </tr>\n",
       "    <tr>\n",
       "      <th>1</th>\n",
       "      <td>1-0</td>\n",
       "      <td>149-10</td>\n",
       "      <td>1</td>\n",
       "    </tr>\n",
       "    <tr>\n",
       "      <th>2</th>\n",
       "      <td>1-0</td>\n",
       "      <td>149-3</td>\n",
       "      <td>20</td>\n",
       "    </tr>\n",
       "    <tr>\n",
       "      <th>3</th>\n",
       "      <td>1-0</td>\n",
       "      <td>149-4</td>\n",
       "      <td>38</td>\n",
       "    </tr>\n",
       "    <tr>\n",
       "      <th>4</th>\n",
       "      <td>1-0</td>\n",
       "      <td>149-5</td>\n",
       "      <td>31</td>\n",
       "    </tr>\n",
       "  </tbody>\n",
       "</table>\n",
       "</div>"
      ],
      "text/plain": [
       "  person_num_3 contents_num_3  구매건수_3\n",
       "0          1-0          149-1       1\n",
       "1          1-0         149-10       1\n",
       "2          1-0          149-3      20\n",
       "3          1-0          149-4      38\n",
       "4          1-0          149-5      31"
      ]
     },
     "execution_count": 204,
     "metadata": {},
     "output_type": "execute_result"
    }
   ],
   "source": [
    "train_rating_3.head()"
   ]
  },
  {
   "cell_type": "code",
   "execution_count": 205,
   "metadata": {},
   "outputs": [],
   "source": [
    "x_train = pd.merge(x_train,train_rating_3,how='left',on=['person_num_3','contents_num_3'])\n",
    "x_test = pd.merge(x_test,train_rating_3,how='left',on=['person_num_3','contents_num_3'])"
   ]
  },
  {
   "cell_type": "code",
   "execution_count": 206,
   "metadata": {},
   "outputs": [],
   "source": [
    "a = x_test[x_test.구매건수.isnull()].index\n",
    "x_test.loc[a, '구매건수'] = x_test.loc[a,'구매건수_3']"
   ]
  },
  {
   "cell_type": "code",
   "execution_count": 207,
   "metadata": {},
   "outputs": [
    {
     "name": "stdout",
     "output_type": "stream",
     "text": [
      "<class 'pandas.core.frame.DataFrame'>\n",
      "Int64Index: 46404 entries, 0 to 46403\n",
      "Data columns (total 9 columns):\n",
      " #   Column          Non-Null Count  Dtype  \n",
      "---  ------          --------------  -----  \n",
      " 0   person_num      46404 non-null  object \n",
      " 1   contents_num    46404 non-null  object \n",
      " 2   구매건수            46391 non-null  float64\n",
      " 3   person_num_2    46404 non-null  object \n",
      " 4   contents_num_2  46404 non-null  object \n",
      " 5   구매건수_2          46244 non-null  float64\n",
      " 6   person_num_3    46404 non-null  object \n",
      " 7   contents_num_3  46404 non-null  object \n",
      " 8   구매건수_3          46039 non-null  float64\n",
      "dtypes: float64(3), object(6)\n",
      "memory usage: 4.5+ MB\n"
     ]
    }
   ],
   "source": [
    "x_test.iloc[:,-9:].info()\n",
    "# 13개 nan값"
   ]
  },
  {
   "cell_type": "markdown",
   "metadata": {},
   "source": [
    "#### person_4"
   ]
  },
  {
   "cell_type": "code",
   "execution_count": 208,
   "metadata": {},
   "outputs": [],
   "source": [
    "# h_l + c\n",
    "x_train['person_num_4']=x_train.person_prefer_h_1_attribute_h_l.astype(str)  + '-' + x_train.person_prefer_c.astype(str) \n",
    "\n",
    "x_test['person_num_4']=x_test.person_prefer_h_1_attribute_h_l.astype(str)  + '-' + x_test.person_prefer_c.astype(str) "
   ]
  },
  {
   "cell_type": "code",
   "execution_count": 209,
   "metadata": {
    "scrolled": true
   },
   "outputs": [
    {
     "data": {
      "text/plain": [
       "set()"
      ]
     },
     "execution_count": 209,
     "metadata": {},
     "output_type": "execute_result"
    }
   ],
   "source": [
    "set(x_test.person_num_4.unique()) - set(x_train.person_num_4.unique())"
   ]
  },
  {
   "cell_type": "code",
   "execution_count": 210,
   "metadata": {
    "scrolled": true
   },
   "outputs": [
    {
     "data": {
      "text/plain": [
       "(95, 93)"
      ]
     },
     "execution_count": 210,
     "metadata": {},
     "output_type": "execute_result"
    }
   ],
   "source": [
    "x_train.person_num_4.nunique(),x_test.person_num_4.nunique()"
   ]
  },
  {
   "cell_type": "markdown",
   "metadata": {},
   "source": [
    "#### contents_4"
   ]
  },
  {
   "cell_type": "code",
   "execution_count": 211,
   "metadata": {},
   "outputs": [],
   "source": [
    "# h_l + c\n",
    "x_train['contents_num_4']=x_train.contents_attribute_h_attribute_h_l.astype(str) + '-' + x_train.contents_attribute_c.astype(str)\n",
    "\n",
    "x_test['contents_num_4']=x_test.contents_attribute_h_attribute_h_l.astype(str) + '-' + x_test.contents_attribute_c.astype(str)"
   ]
  },
  {
   "cell_type": "code",
   "execution_count": 212,
   "metadata": {
    "scrolled": true
   },
   "outputs": [
    {
     "data": {
      "text/plain": [
       "set()"
      ]
     },
     "execution_count": 212,
     "metadata": {},
     "output_type": "execute_result"
    }
   ],
   "source": [
    "set(x_test.contents_num_4.unique()) - set(x_train.contents_num_4.unique())"
   ]
  },
  {
   "cell_type": "code",
   "execution_count": 213,
   "metadata": {
    "scrolled": false
   },
   "outputs": [
    {
     "data": {
      "text/plain": [
       "(68, 67)"
      ]
     },
     "execution_count": 213,
     "metadata": {},
     "output_type": "execute_result"
    }
   ],
   "source": [
    "x_train.contents_num_4.nunique(),x_test.contents_num_4.nunique()"
   ]
  },
  {
   "cell_type": "markdown",
   "metadata": {},
   "source": [
    "#### target값으로 rate를 구함"
   ]
  },
  {
   "cell_type": "code",
   "execution_count": 214,
   "metadata": {},
   "outputs": [],
   "source": [
    "train_rating_4 = x_train.groupby(['person_num_4','contents_num_4'])['target'].agg([\n",
    "                                            ('구매건수_4', np.size)]).reset_index()"
   ]
  },
  {
   "cell_type": "code",
   "execution_count": 215,
   "metadata": {
    "scrolled": true
   },
   "outputs": [
    {
     "data": {
      "text/html": [
       "<div>\n",
       "<style scoped>\n",
       "    .dataframe tbody tr th:only-of-type {\n",
       "        vertical-align: middle;\n",
       "    }\n",
       "\n",
       "    .dataframe tbody tr th {\n",
       "        vertical-align: top;\n",
       "    }\n",
       "\n",
       "    .dataframe thead th {\n",
       "        text-align: right;\n",
       "    }\n",
       "</style>\n",
       "<table border=\"1\" class=\"dataframe\">\n",
       "  <thead>\n",
       "    <tr style=\"text-align: right;\">\n",
       "      <th></th>\n",
       "      <th>person_num_4</th>\n",
       "      <th>contents_num_4</th>\n",
       "      <th>구매건수_4</th>\n",
       "    </tr>\n",
       "  </thead>\n",
       "  <tbody>\n",
       "    <tr>\n",
       "      <th>0</th>\n",
       "      <td>1-1</td>\n",
       "      <td>149-1</td>\n",
       "      <td>224</td>\n",
       "    </tr>\n",
       "    <tr>\n",
       "      <th>1</th>\n",
       "      <td>1-1</td>\n",
       "      <td>149-2</td>\n",
       "      <td>4</td>\n",
       "    </tr>\n",
       "    <tr>\n",
       "      <th>2</th>\n",
       "      <td>1-1</td>\n",
       "      <td>149-3</td>\n",
       "      <td>64</td>\n",
       "    </tr>\n",
       "    <tr>\n",
       "      <th>3</th>\n",
       "      <td>1-1</td>\n",
       "      <td>149-4</td>\n",
       "      <td>2</td>\n",
       "    </tr>\n",
       "    <tr>\n",
       "      <th>4</th>\n",
       "      <td>1-1</td>\n",
       "      <td>169-1</td>\n",
       "      <td>571</td>\n",
       "    </tr>\n",
       "  </tbody>\n",
       "</table>\n",
       "</div>"
      ],
      "text/plain": [
       "  person_num_4 contents_num_4  구매건수_4\n",
       "0          1-1          149-1     224\n",
       "1          1-1          149-2       4\n",
       "2          1-1          149-3      64\n",
       "3          1-1          149-4       2\n",
       "4          1-1          169-1     571"
      ]
     },
     "execution_count": 215,
     "metadata": {},
     "output_type": "execute_result"
    }
   ],
   "source": [
    "train_rating_4.head()"
   ]
  },
  {
   "cell_type": "code",
   "execution_count": 216,
   "metadata": {},
   "outputs": [],
   "source": [
    "# 구매건수가 안맞을 수 있기 때문에 나누기 3 정도 해줌\n",
    "train_rating_4.구매건수_4 = (train_rating_4.구매건수_4 /3).astype(int)"
   ]
  },
  {
   "cell_type": "code",
   "execution_count": 217,
   "metadata": {},
   "outputs": [],
   "source": [
    "x_train = pd.merge(x_train,train_rating_4,how='left',on=['person_num_4','contents_num_4'])\n",
    "x_test = pd.merge(x_test,train_rating_4,how='left',on=['person_num_4','contents_num_4'])"
   ]
  },
  {
   "cell_type": "code",
   "execution_count": 218,
   "metadata": {},
   "outputs": [],
   "source": [
    "a = x_test[x_test.구매건수.isnull()].index\n",
    "x_test.loc[a, '구매건수'] = x_test.loc[a,'구매건수_4']"
   ]
  },
  {
   "cell_type": "code",
   "execution_count": 219,
   "metadata": {},
   "outputs": [
    {
     "name": "stdout",
     "output_type": "stream",
     "text": [
      "<class 'pandas.core.frame.DataFrame'>\n",
      "Int64Index: 46404 entries, 0 to 46403\n",
      "Data columns (total 12 columns):\n",
      " #   Column          Non-Null Count  Dtype  \n",
      "---  ------          --------------  -----  \n",
      " 0   person_num      46404 non-null  object \n",
      " 1   contents_num    46404 non-null  object \n",
      " 2   구매건수            46402 non-null  float64\n",
      " 3   person_num_2    46404 non-null  object \n",
      " 4   contents_num_2  46404 non-null  object \n",
      " 5   구매건수_2          46244 non-null  float64\n",
      " 6   person_num_3    46404 non-null  object \n",
      " 7   contents_num_3  46404 non-null  object \n",
      " 8   구매건수_3          46039 non-null  float64\n",
      " 9   person_num_4    46404 non-null  object \n",
      " 10  contents_num_4  46404 non-null  object \n",
      " 11  구매건수_4          46330 non-null  float64\n",
      "dtypes: float64(4), object(8)\n",
      "memory usage: 5.6+ MB\n"
     ]
    }
   ],
   "source": [
    "x_test.iloc[:,-12:].info()"
   ]
  },
  {
   "cell_type": "markdown",
   "metadata": {},
   "source": [
    "---"
   ]
  },
  {
   "cell_type": "code",
   "execution_count": 220,
   "metadata": {},
   "outputs": [],
   "source": [
    "#2개의 nan값은 그냥 mean으로 채워줌\n",
    "x_test.구매건수.fillna(x_train.구매건수.mean(),inplace=True)"
   ]
  },
  {
   "cell_type": "code",
   "execution_count": 225,
   "metadata": {},
   "outputs": [],
   "source": [
    "drop_train =['person_num', 'contents_num', 'target', 'person_num_2',\n",
    "       'contents_num_2', '구매건수_2', 'person_num_3', 'contents_num_3', '구매건수_3',\n",
    "       'person_num_4', 'contents_num_4', '구매건수_4']\n",
    "drop_test = ['person_num', 'contents_num', '구매건수', 'person_num_2',\n",
    "       'contents_num_2', '구매건수_2', 'person_num_3', 'contents_num_3', '구매건수_3',\n",
    "       'person_num_4', 'contents_num_4', '구매건수_4']"
   ]
  },
  {
   "cell_type": "code",
   "execution_count": 226,
   "metadata": {},
   "outputs": [],
   "source": [
    "x_train.drop(drop_train,axis=1,inplace=True)\n",
    "x_test.drop(drop_test,axis=1,inplace=True)"
   ]
  },
  {
   "cell_type": "code",
   "execution_count": 227,
   "metadata": {
    "scrolled": false
   },
   "outputs": [
    {
     "data": {
      "text/plain": [
       "((501951, 121), (46404, 120))"
      ]
     },
     "execution_count": 227,
     "metadata": {},
     "output_type": "execute_result"
    }
   ],
   "source": [
    "x_train.shape, x_test.shape"
   ]
  },
  {
   "cell_type": "markdown",
   "metadata": {},
   "source": [
    "### 범주형 칼럼 리스트"
   ]
  },
  {
   "cell_type": "code",
   "execution_count": 92,
   "metadata": {},
   "outputs": [],
   "source": [
    "num_features = ['content_L_code_sum','L_E_mul', 'L_E_sum','구매건수']"
   ]
  },
  {
   "cell_type": "code",
   "execution_count": 93,
   "metadata": {},
   "outputs": [],
   "source": [
    "target_features =['d_1_l_target','d_2_l_target','d_3_l_target']"
   ]
  },
  {
   "cell_type": "code",
   "execution_count": 94,
   "metadata": {},
   "outputs": [],
   "source": [
    "cat_features = x_train.columns[x_train.nunique() > 2].tolist()\n",
    "cat_features = list(set(cat_features) - set(num_features) - set(target_features))"
   ]
  },
  {
   "cell_type": "markdown",
   "metadata": {},
   "source": [
    "### 가우스-랭크 스케일링"
   ]
  },
  {
   "cell_type": "code",
   "execution_count": 95,
   "metadata": {},
   "outputs": [],
   "source": [
    "import numpy as np\n",
    "from joblib import Parallel, delayed\n",
    "from scipy.interpolate import interp1d\n",
    "from scipy.special import erf, erfinv\n",
    "from sklearn.base import BaseEstimator, TransformerMixin\n",
    "from sklearn.utils.validation import FLOAT_DTYPES, check_array, check_is_fitted\n",
    "\n",
    "class GaussRankScaler(BaseEstimator, TransformerMixin):\n",
    "    \"\"\"Transform features by scaling each feature to a normal distribution.\n",
    "    Parameters\n",
    "        ----------\n",
    "        epsilon : float, optional, default 1e-4\n",
    "            A small amount added to the lower bound or subtracted\n",
    "            from the upper bound. This value prevents infinite number\n",
    "            from occurring when applying the inverse error function.\n",
    "        copy : boolean, optional, default True\n",
    "            If False, try to avoid a copy and do inplace scaling instead.\n",
    "            This is not guaranteed to always work inplace; e.g. if the data is\n",
    "            not a NumPy array, a copy may still be returned.\n",
    "        n_jobs : int or None, optional, default None\n",
    "            Number of jobs to run in parallel.\n",
    "            ``None`` means 1 and ``-1`` means using all processors.\n",
    "        interp_kind : str or int, optional, default 'linear'\n",
    "           Specifies the kind of interpolation as a string\n",
    "            ('linear', 'nearest', 'zero', 'slinear', 'quadratic', 'cubic',\n",
    "            'previous', 'next', where 'zero', 'slinear', 'quadratic' and 'cubic'\n",
    "            refer to a spline interpolation of zeroth, first, second or third\n",
    "            order; 'previous' and 'next' simply return the previous or next value\n",
    "            of the point) or as an integer specifying the order of the spline\n",
    "            interpolator to use.\n",
    "        interp_copy : bool, optional, default False\n",
    "            If True, the interpolation function makes internal copies of x and y.\n",
    "            If False, references to `x` and `y` are used.\n",
    "        Attributes\n",
    "        ----------\n",
    "        interp_func_ : list\n",
    "            The interpolation function for each feature in the training set.\n",
    "        \"\"\"\n",
    "\n",
    "    def __init__(self, epsilon=1e-4, copy=True, n_jobs=None, interp_kind='linear', interp_copy=False):\n",
    "        self.epsilon = epsilon\n",
    "        self.copy = copy\n",
    "        self.interp_kind = interp_kind\n",
    "        self.interp_copy = interp_copy\n",
    "        self.fill_value = 'extrapolate'\n",
    "        self.n_jobs = n_jobs\n",
    "\n",
    "    def fit(self, X, y=None):\n",
    "        \"\"\"Fit interpolation function to link rank with original data for future scaling\n",
    "        Parameters\n",
    "        ----------\n",
    "        X : array-like, shape (n_samples, n_features)\n",
    "            The data used to fit interpolation function for later scaling along the features axis.\n",
    "        y\n",
    "            Ignored\n",
    "        \"\"\"\n",
    "        X = check_array(X, copy=self.copy, estimator=self, dtype=FLOAT_DTYPES, force_all_finite=True)\n",
    "\n",
    "        self.interp_func_ = Parallel(n_jobs=self.n_jobs)(delayed(self._fit)(x) for x in X.T)\n",
    "        return self\n",
    "\n",
    "    def _fit(self, x):\n",
    "        x = self.drop_duplicates(x)\n",
    "        rank = np.argsort(np.argsort(x))\n",
    "        bound = 1.0 - self.epsilon\n",
    "        factor = np.max(rank) / 2.0 * bound\n",
    "        scaled_rank = np.clip(rank / factor - bound, -bound, bound)\n",
    "        return interp1d(\n",
    "            x, scaled_rank, kind=self.interp_kind, copy=self.interp_copy, fill_value=self.fill_value)\n",
    "\n",
    "    def transform(self, X, copy=None):\n",
    "        \"\"\"Scale the data with the Gauss Rank algorithm\n",
    "        Parameters\n",
    "        ----------\n",
    "        X : array-like, shape (n_samples, n_features)\n",
    "            The data used to scale along the features axis.\n",
    "        copy : bool, optional (default: None)\n",
    "            Copy the input X or not.\n",
    "        \"\"\"\n",
    "        check_is_fitted(self, 'interp_func_')\n",
    "\n",
    "        copy = copy if copy is not None else self.copy\n",
    "        X = check_array(X, copy=copy, estimator=self, dtype=FLOAT_DTYPES, force_all_finite=True)\n",
    "\n",
    "        X = np.array(Parallel(n_jobs=self.n_jobs)(delayed(self._transform)(i, x) for i, x in enumerate(X.T))).T\n",
    "        return X\n",
    "\n",
    "    def _transform(self, i, x):\n",
    "        return erfinv(self.interp_func_[i](x))\n",
    "\n",
    "    def inverse_transform(self, X, copy=None):\n",
    "        \"\"\"Scale back the data to the original representation\n",
    "        Parameters\n",
    "        ----------\n",
    "        X : array-like, shape [n_samples, n_features]\n",
    "            The data used to scale along the features axis.\n",
    "        copy : bool, optional (default: None)\n",
    "            Copy the input X or not.\n",
    "        \"\"\"\n",
    "        check_is_fitted(self, 'interp_func_')\n",
    "\n",
    "        copy = copy if copy is not None else self.copy\n",
    "        X = check_array(X, copy=copy, estimator=self, dtype=FLOAT_DTYPES, force_all_finite=True)\n",
    "\n",
    "        X = np.array(Parallel(n_jobs=self.n_jobs)(delayed(self._inverse_transform)(i, x) for i, x in enumerate(X.T))).T\n",
    "        return X\n",
    "\n",
    "    def _inverse_transform(self, i, x):\n",
    "        inv_interp_func = interp1d(self.interp_func_[i].y, self.interp_func_[i].x, kind=self.interp_kind,\n",
    "                                   copy=self.interp_copy, fill_value=self.fill_value)\n",
    "        return inv_interp_func(erf(x))\n",
    "\n",
    "    @staticmethod\n",
    "    def drop_duplicates(x):\n",
    "        is_unique = np.zeros_like(x, dtype=bool)\n",
    "        is_unique[np.unique(x, return_index=True)[1]] = True\n",
    "        return x[is_unique]"
   ]
  },
  {
   "cell_type": "code",
   "execution_count": 96,
   "metadata": {},
   "outputs": [],
   "source": [
    "scaler = GaussRankScaler()\n",
    "x_train[num_features] = pd.DataFrame(scaler.fit_transform(x_train[num_features]))\n",
    "x_test[num_features] = pd.DataFrame(scaler.transform(x_test[num_features]))\n",
    "\n",
    "x_train[num_features].columns = num_features\n",
    "x_test[num_features].columns = num_features"
   ]
  },
  {
   "cell_type": "markdown",
   "metadata": {},
   "source": [
    "### 학습 파라미터"
   ]
  },
  {
   "cell_type": "code",
   "execution_count": 97,
   "metadata": {},
   "outputs": [],
   "source": [
    "is_holdout = False\n",
    "n_splits = 5\n",
    "iterations = 3000\n",
    "patience = 100\n",
    "\n",
    "cv = KFold(n_splits=n_splits, shuffle=True, random_state=SEED)"
   ]
  },
  {
   "cell_type": "code",
   "execution_count": 98,
   "metadata": {},
   "outputs": [],
   "source": [
    "x_train[num_features] = x_train[num_features].astype(float)\n",
    "x_train[cat_features] = x_train[cat_features].astype(str)\n",
    "\n",
    "x_test[num_features] = x_test[num_features].astype(float)\n",
    "x_test[cat_features] = x_test[cat_features].astype(str)"
   ]
  },
  {
   "cell_type": "markdown",
   "metadata": {},
   "source": [
    "### 학습"
   ]
  },
  {
   "cell_type": "code",
   "execution_count": 141,
   "metadata": {
    "scrolled": true
   },
   "outputs": [
    {
     "name": "stdout",
     "output_type": "stream",
     "text": [
      "==================================================\n",
      "Learning rate set to 0.086395\n",
      "0:\tlearn: 0.6264016\ttest: 0.6276883\tbest: 0.6276883 (0)\ttotal: 2.69s\tremaining: 2h 14m 14s\n",
      "100:\tlearn: 0.6656540\ttest: 0.6887130\tbest: 0.6888372 (97)\ttotal: 5m 47s\tremaining: 2h 46m 1s\n",
      "200:\tlearn: 0.6739496\ttest: 0.6963631\tbest: 0.6963841 (199)\ttotal: 11m 16s\tremaining: 2h 37m 2s\n",
      "300:\tlearn: 0.6780798\ttest: 0.6984130\tbest: 0.6985309 (294)\ttotal: 16m 42s\tremaining: 2h 29m 53s\n",
      "400:\tlearn: 0.6807623\ttest: 0.6992166\tbest: 0.6994820 (394)\ttotal: 22m 28s\tremaining: 2h 25m 38s\n",
      "500:\tlearn: 0.6827867\ttest: 0.7006053\tbest: 0.7006513 (499)\ttotal: 27m 32s\tremaining: 2h 17m 21s\n",
      "600:\tlearn: 0.6848511\ttest: 0.7005639\tbest: 0.7008799 (570)\ttotal: 33m 5s\tremaining: 2h 12m 6s\n",
      "700:\tlearn: 0.6862534\ttest: 0.7011576\tbest: 0.7013679 (684)\ttotal: 38m 45s\tremaining: 2h 7m 8s\n",
      "800:\tlearn: 0.6875419\ttest: 0.7020456\tbest: 0.7020456 (800)\ttotal: 44m 13s\tremaining: 2h 1m 25s\n",
      "900:\tlearn: 0.6889196\ttest: 0.7024394\tbest: 0.7026571 (868)\ttotal: 50m 13s\tremaining: 1h 56m 59s\n",
      "1000:\tlearn: 0.6899249\ttest: 0.7027306\tbest: 0.7028270 (993)\ttotal: 55m 55s\tremaining: 1h 51m 41s\n",
      "1100:\tlearn: 0.6908191\ttest: 0.7031096\tbest: 0.7033873 (1080)\ttotal: 1h 2m 19s\tremaining: 1h 47m 30s\n",
      "1200:\tlearn: 0.6920715\ttest: 0.7034380\tbest: 0.7035209 (1142)\ttotal: 1h 8m 23s\tremaining: 1h 42m 26s\n",
      "Stopped by overfitting detector  (100 iterations wait)\n",
      "\n",
      "bestTest = 0.7035208889\n",
      "bestIteration = 1142\n",
      "\n",
      "Shrink model to first 1143 iterations.\n",
      "==================================================\n",
      "Learning rate set to 0.086395\n",
      "0:\tlearn: 0.6229965\ttest: 0.6293001\tbest: 0.6293001 (0)\ttotal: 2.7s\tremaining: 2h 15m 7s\n",
      "100:\tlearn: 0.6678115\ttest: 0.6885506\tbest: 0.6885506 (100)\ttotal: 6m 37s\tremaining: 3h 10m 10s\n",
      "200:\tlearn: 0.6758192\ttest: 0.6971554\tbest: 0.6971554 (200)\ttotal: 13m 31s\tremaining: 3h 8m 16s\n",
      "300:\tlearn: 0.6795594\ttest: 0.6992763\tbest: 0.6994393 (297)\ttotal: 21m 13s\tremaining: 3h 10m 16s\n",
      "400:\tlearn: 0.6818186\ttest: 0.7003483\tbest: 0.7006038 (396)\ttotal: 29m 51s\tremaining: 3h 13m 29s\n",
      "Stopped by overfitting detector  (100 iterations wait)\n",
      "\n",
      "bestTest = 0.7006037757\n",
      "bestIteration = 396\n",
      "\n",
      "Shrink model to first 397 iterations.\n",
      "==================================================\n",
      "Learning rate set to 0.086395\n",
      "0:\tlearn: 0.6279982\ttest: 0.6269132\tbest: 0.6269132 (0)\ttotal: 3.54s\tremaining: 2h 56m 52s\n",
      "100:\tlearn: 0.6679023\ttest: 0.6868409\tbest: 0.6868409 (100)\ttotal: 9m 6s\tremaining: 4h 21m 21s\n",
      "200:\tlearn: 0.6760481\ttest: 0.6940127\tbest: 0.6940940 (197)\ttotal: 19m 4s\tremaining: 4h 25m 42s\n",
      "300:\tlearn: 0.6801995\ttest: 0.6951277\tbest: 0.6951277 (300)\ttotal: 30m 5s\tremaining: 4h 29m 51s\n",
      "400:\tlearn: 0.6827134\ttest: 0.6962500\tbest: 0.6965157 (390)\ttotal: 41m 36s\tremaining: 4h 29m 43s\n",
      "500:\tlearn: 0.6843752\ttest: 0.6970390\tbest: 0.6972006 (445)\ttotal: 53m 49s\tremaining: 4h 28m 28s\n",
      "600:\tlearn: 0.6858652\ttest: 0.6976464\tbest: 0.6978571 (579)\ttotal: 1h 7m 17s\tremaining: 4h 28m 38s\n",
      "700:\tlearn: 0.6872076\ttest: 0.6979568\tbest: 0.6981890 (680)\ttotal: 1h 20m 47s\tremaining: 4h 24m 58s\n",
      "800:\tlearn: 0.6887474\ttest: 0.6985361\tbest: 0.6985878 (797)\ttotal: 1h 34m 41s\tremaining: 4h 19m 58s\n",
      "900:\tlearn: 0.6898855\ttest: 0.6986703\tbest: 0.6988156 (807)\ttotal: 1h 49m 12s\tremaining: 4h 14m 25s\n",
      "1000:\tlearn: 0.6910055\ttest: 0.6991818\tbest: 0.6991818 (1000)\ttotal: 2h 5m 13s\tremaining: 4h 10m 4s\n",
      "1100:\tlearn: 0.6919805\ttest: 0.6987500\tbest: 0.6992091 (1001)\ttotal: 2h 21m 21s\tremaining: 4h 3m 49s\n",
      "Stopped by overfitting detector  (100 iterations wait)\n",
      "\n",
      "bestTest = 0.6992090651\n",
      "bestIteration = 1001\n",
      "\n",
      "Shrink model to first 1002 iterations.\n",
      "==================================================\n",
      "Learning rate set to 0.086395\n",
      "0:\tlearn: 0.6409407\ttest: 0.6449925\tbest: 0.6449925 (0)\ttotal: 5.41s\tremaining: 4h 30m 33s\n",
      "100:\tlearn: 0.6666032\ttest: 0.6847905\tbest: 0.6847905 (100)\ttotal: 13m 44s\tremaining: 6h 34m 33s\n",
      "200:\tlearn: 0.6743513\ttest: 0.6918987\tbest: 0.6919676 (198)\ttotal: 28m 9s\tremaining: 6h 32m 6s\n",
      "300:\tlearn: 0.6785569\ttest: 0.6937843\tbest: 0.6938076 (299)\ttotal: 44m 14s\tremaining: 6h 36m 43s\n",
      "400:\tlearn: 0.6811752\ttest: 0.6949407\tbest: 0.6949407 (400)\ttotal: 59m 13s\tremaining: 6h 23m 53s\n",
      "500:\tlearn: 0.6829816\ttest: 0.6958081\tbest: 0.6961859 (482)\ttotal: 1h 15m 13s\tremaining: 6h 15m 14s\n",
      "600:\tlearn: 0.6848169\ttest: 0.6963980\tbest: 0.6964331 (576)\ttotal: 1h 32m 5s\tremaining: 6h 7m 36s\n",
      "700:\tlearn: 0.6862004\ttest: 0.6965899\tbest: 0.6968680 (679)\ttotal: 1h 50m 48s\tremaining: 6h 3m 25s\n",
      "800:\tlearn: 0.6876204\ttest: 0.6968363\tbest: 0.6969389 (744)\ttotal: 2h 10m 45s\tremaining: 5h 58m 57s\n",
      "900:\tlearn: 0.6889117\ttest: 0.6971931\tbest: 0.6974073 (816)\ttotal: 2h 31m 30s\tremaining: 5h 52m 57s\n",
      "Stopped by overfitting detector  (100 iterations wait)\n",
      "\n",
      "bestTest = 0.6974072612\n",
      "bestIteration = 816\n",
      "\n",
      "Shrink model to first 817 iterations.\n",
      "==================================================\n",
      "Learning rate set to 0.086395\n",
      "0:\tlearn: 0.6374162\ttest: 0.6382340\tbest: 0.6382340 (0)\ttotal: 7.53s\tremaining: 6h 16m 13s\n",
      "100:\tlearn: 0.6683360\ttest: 0.6850010\tbest: 0.6850010 (100)\ttotal: 18m 49s\tremaining: 9h 15s\n",
      "200:\tlearn: 0.6755223\ttest: 0.6926285\tbest: 0.6926285 (200)\ttotal: 37m 49s\tremaining: 8h 46m 48s\n",
      "300:\tlearn: 0.6789509\ttest: 0.6961904\tbest: 0.6961904 (300)\ttotal: 1h 44s\tremaining: 9h 4m 35s\n",
      "400:\tlearn: 0.6820723\ttest: 0.6976217\tbest: 0.6977907 (371)\ttotal: 1h 23m 13s\tremaining: 8h 59m 24s\n",
      "500:\tlearn: 0.6843060\ttest: 0.6980634\tbest: 0.6983874 (489)\ttotal: 1h 46m 21s\tremaining: 8h 50m 31s\n",
      "600:\tlearn: 0.6859400\ttest: 0.6986543\tbest: 0.6987286 (599)\ttotal: 2h 10m 29s\tremaining: 8h 40m 54s\n",
      "700:\tlearn: 0.6871830\ttest: 0.6987784\tbest: 0.6989098 (642)\ttotal: 2h 33m 55s\tremaining: 8h 24m 48s\n",
      "800:\tlearn: 0.6886145\ttest: 0.6990827\tbest: 0.6993000 (772)\ttotal: 2h 58m 10s\tremaining: 8h 9m 7s\n",
      "900:\tlearn: 0.6899926\ttest: 0.6992915\tbest: 0.6994353 (868)\ttotal: 3h 24m\tremaining: 7h 55m 16s\n",
      "1000:\tlearn: 0.6909721\ttest: 0.6993008\tbest: 0.6994939 (946)\ttotal: 3h 50m 3s\tremaining: 7h 39m 25s\n",
      "Stopped by overfitting detector  (100 iterations wait)\n",
      "\n",
      "bestTest = 0.6994938567\n",
      "bestIteration = 946\n",
      "\n",
      "Shrink model to first 947 iterations.\n"
     ]
    }
   ],
   "source": [
    "scores = []\n",
    "models = []\n",
    "\n",
    "for tri, vai in cv.split(x_train):\n",
    "    print(\"=\"*50)\n",
    "    preds = []\n",
    "\n",
    "    model = CatBoostClassifier(iterations=iterations, \n",
    "                               random_state=SEED,\n",
    "                               #task_type=\"GPU\",\n",
    "                               eval_metric=\"F1\",\n",
    "                               cat_features=cat_features,\n",
    "                               one_hot_max_size=4)\n",
    "    model.fit(x_train.iloc[tri], y_train[tri], \n",
    "            eval_set=[(x_train.iloc[vai], y_train[vai])], \n",
    "            early_stopping_rounds=patience,\n",
    "            verbose=100\n",
    "        )\n",
    "    \n",
    "    models.append(model)\n",
    "    scores.append(model.get_best_score()[\"validation\"][\"F1\"])\n",
    "    if is_holdout:\n",
    "        break    "
   ]
  },
  {
   "cell_type": "markdown",
   "metadata": {},
   "source": [
    "---"
   ]
  },
  {
   "cell_type": "markdown",
   "metadata": {},
   "source": [
    "### cv 결과 확인"
   ]
  },
  {
   "cell_type": "code",
   "execution_count": 120,
   "metadata": {
    "scrolled": false
   },
   "outputs": [
    {
     "name": "stdout",
     "output_type": "stream",
     "text": [
      "[0.6941032634251858, 0.6931561936259771, 0.6906621008861878, 0.6916580262041664, 0.6902584941867027]\n",
      "0.691967615665644\n"
     ]
    }
   ],
   "source": [
    "print(scores)\n",
    "print(np.mean(scores))"
   ]
  },
  {
   "cell_type": "markdown",
   "metadata": {},
   "source": [
    "### threshold 정의"
   ]
  },
  {
   "cell_type": "code",
   "execution_count": 183,
   "metadata": {},
   "outputs": [],
   "source": [
    "threshold = 0.375"
   ]
  },
  {
   "cell_type": "markdown",
   "metadata": {},
   "source": [
    "### threshold값 변경에 따른 검증점수 확인 및 추론"
   ]
  },
  {
   "cell_type": "code",
   "execution_count": 123,
   "metadata": {
    "scrolled": false
   },
   "outputs": [
    {
     "name": "stdout",
     "output_type": "stream",
     "text": [
      "[0.7183292814156469, 0.7164586924231714, 0.7154945273631841, 0.7168591518943898, 0.7139016163930254]\n",
      "0.7162086538978836\n"
     ]
    }
   ],
   "source": [
    "pred_list = []\n",
    "scores = []\n",
    "for i,(tri, vai) in enumerate( cv.split(x_train) ):\n",
    "    pred = models[i].predict_proba(x_train.iloc[vai])[:, 1]\n",
    "    pred = np.where(pred >= threshold , 1, 0)\n",
    "    score = f1_score(y_train[vai],pred)\n",
    "    scores.append(score)\n",
    "    pred = models[i].predict_proba(x_test)[:, 1]\n",
    "    pred_list.append(pred)\n",
    "print(scores)\n",
    "print(np.mean(scores))"
   ]
  },
  {
   "cell_type": "markdown",
   "metadata": {},
   "source": [
    "### 산술평균 앙상블"
   ]
  },
  {
   "cell_type": "code",
   "execution_count": 148,
   "metadata": {},
   "outputs": [],
   "source": [
    "pred_list_T = pd.DataFrame(pred_list).T"
   ]
  },
  {
   "cell_type": "code",
   "execution_count": 150,
   "metadata": {},
   "outputs": [],
   "source": [
    "pred_list_T.to_csv(f\"{SUBMIT_PATH}0123_sh_70435_proba.csv\", index=False)"
   ]
  }
 ],
 "metadata": {
  "kernelspec": {
   "display_name": "Python 3",
   "language": "python",
   "name": "python3"
  },
  "language_info": {
   "codemirror_mode": {
    "name": "ipython",
    "version": 3
   },
   "file_extension": ".py",
   "mimetype": "text/x-python",
   "name": "python",
   "nbconvert_exporter": "python",
   "pygments_lexer": "ipython3",
   "version": "3.8.5"
  },
  "varInspector": {
   "cols": {
    "lenName": 16,
    "lenType": 16,
    "lenVar": 40
   },
   "kernels_config": {
    "python": {
     "delete_cmd_postfix": "",
     "delete_cmd_prefix": "del ",
     "library": "var_list.py",
     "varRefreshCmd": "print(var_dic_list())"
    },
    "r": {
     "delete_cmd_postfix": ") ",
     "delete_cmd_prefix": "rm(",
     "library": "var_list.r",
     "varRefreshCmd": "cat(var_dic_list()) "
    }
   },
   "types_to_exclude": [
    "module",
    "function",
    "builtin_function_or_method",
    "instance",
    "_Feature"
   ],
   "window_display": false
  }
 },
 "nbformat": 4,
 "nbformat_minor": 4
}
