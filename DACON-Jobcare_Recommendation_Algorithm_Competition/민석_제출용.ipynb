{
 "cells": [
  {
   "cell_type": "code",
   "execution_count": 1,
   "metadata": {
    "executionInfo": {
     "elapsed": 1200,
     "status": "ok",
     "timestamp": 1641908786138,
     "user": {
      "displayName": "이지평",
      "photoUrl": "https://lh3.googleusercontent.com/a/default-user=s64",
      "userId": "04288060060884002898"
     },
     "user_tz": -540
    },
    "id": "13wq_ud4HdMm"
   },
   "outputs": [
    {
     "name": "stdout",
     "output_type": "stream",
     "text": [
      "- os: Windows-10-10.0.22000-SP0\n",
      "- python: 3.9.7 (default, Sep 16 2021, 16:59:28) [MSC v.1916 64 bit (AMD64)]\n",
      "- pandas: 1.3.5\n",
      "- numpy: 1.20.3\n",
      "- sklearn: 0.24.2\n",
      "- catboost: 1.0.3\n"
     ]
    }
   ],
   "source": [
    "# Data Wrangling\n",
    "import pandas as pd\n",
    "from pandas import Series, DataFrame\n",
    "import numpy as np\n",
    "\n",
    "# Visualization\n",
    "import matplotlib.pylab as plt\n",
    "from matplotlib import font_manager, rc\n",
    "import seaborn as sns\n",
    "%matplotlib inline\n",
    "\n",
    "# EDA\n",
    "#import klib\n",
    "\n",
    "# Preprocessing & Feature Engineering\n",
    "from sklearn.model_selection import train_test_split\n",
    "from sklearn.preprocessing import MinMaxScaler\n",
    "from sklearn.impute import SimpleImputer \n",
    "from sklearn.preprocessing import StandardScaler\n",
    "from sklearn.preprocessing import MinMaxScaler\n",
    "from sklearn.preprocessing import PowerTransformer\n",
    "from sklearn.feature_selection import SelectPercentile\n",
    "\n",
    "# Hyperparameter Optimization\n",
    "from sklearn.model_selection import GridSearchCV\n",
    "from sklearn.model_selection import RandomizedSearchCV\n",
    "\n",
    "# Modeling\n",
    "from sklearn.dummy import DummyClassifier\n",
    "from sklearn.linear_model import LogisticRegression\n",
    "from sklearn.neighbors import KNeighborsClassifier\n",
    "from sklearn.ensemble import RandomForestClassifier\n",
    "from sklearn.neural_network import MLPClassifier\n",
    "from sklearn.tree import DecisionTreeClassifier\n",
    "from sklearn.ensemble import GradientBoostingClassifier\n",
    "from sklearn.svm import SVC\n",
    "from catboost import CatBoostClassifier\n",
    "from sklearn.ensemble import VotingClassifier\n",
    "from sklearn.ensemble import StackingClassifier\n",
    "from sklearn.base import ClassifierMixin\n",
    "from sklearn.ensemble import ExtraTreesClassifier\n",
    "from lightgbm import LGBMClassifier\n",
    "from xgboost import XGBClassifier\n",
    "import sys\n",
    "# Evaluation\n",
    "from sklearn.model_selection import cross_val_score\n",
    "\n",
    "# Utility\n",
    "import os\n",
    "import time\n",
    "import random\n",
    "import warnings; warnings.filterwarnings(\"ignore\")\n",
    "from IPython.display import Image\n",
    "import pickle\n",
    "from tqdm import tqdm\n",
    "import platform\n",
    "from itertools import combinations\n",
    "from scipy.stats.mstats import gmean\n",
    "from sklearn.feature_selection import RFE\n",
    "\n",
    "import gc\n",
    "import random\n",
    "import re\n",
    "from typing import List ,Dict, Tuple\n",
    "\n",
    "from sklearn.metrics import *\n",
    "from sklearn.model_selection import KFold, StratifiedKFold\n",
    "import sklearn\n",
    "import catboost\n",
    "\n",
    "# 한글 폰트 설정\n",
    "from statsmodels import robust\n",
    "from matplotlib import font_manager, rc\n",
    "%matplotlib inline\n",
    "\n",
    "import platform\n",
    "your_os = platform.system()\n",
    "if your_os == 'Linux':\n",
    "    rc('font', family='NanumGothic')\n",
    "elif your_os == 'Windows':\n",
    "    ttf = \"c:/Windows/Fonts/malgun.ttf\"\n",
    "    font_name = font_manager.FontProperties(fname=ttf).get_name()\n",
    "    rc('font', family=font_name)\n",
    "elif your_os == 'Darwin':\n",
    "    rc('font', family='AppleGothic')\n",
    "rc('axes', unicode_minus=False)\n",
    "\n",
    "# 버전 체크 \n",
    "\n",
    "print(f\"- os: {platform.platform()}\")\n",
    "print(f\"- python: {sys.version}\")\n",
    "print(f\"- pandas: {pd.__version__}\")\n",
    "print(f\"- numpy: {np.__version__}\")\n",
    "print(f\"- sklearn: {sklearn.__version__}\")\n",
    "print(f\"- catboost: {catboost.__version__}\")"
   ]
  },
  {
   "cell_type": "code",
   "execution_count": 2,
   "metadata": {
    "executionInfo": {
     "elapsed": 8,
     "status": "ok",
     "timestamp": 1641908807022,
     "user": {
      "displayName": "이지평",
      "photoUrl": "https://lh3.googleusercontent.com/a/default-user=s64",
      "userId": "04288060060884002898"
     },
     "user_tz": -540
    },
    "id": "k-Vv6decHdMq"
   },
   "outputs": [],
   "source": [
    "SEED = 20182830"
   ]
  },
  {
   "cell_type": "code",
   "execution_count": 3,
   "metadata": {
    "colab": {
     "base_uri": "https://localhost:8080/"
    },
    "executionInfo": {
     "elapsed": 2960,
     "status": "ok",
     "timestamp": 1641908811135,
     "user": {
      "displayName": "이지평",
      "photoUrl": "https://lh3.googleusercontent.com/a/default-user=s64",
      "userId": "04288060060884002898"
     },
     "user_tz": -540
    },
    "id": "LHIZUKszHdMr",
    "outputId": "cd80315a-cf0f-4aae-f636-8ad59d315737"
   },
   "outputs": [
    {
     "data": {
      "text/plain": [
       "((501951, 35), (46404, 34))"
      ]
     },
     "execution_count": 3,
     "metadata": {},
     "output_type": "execute_result"
    }
   ],
   "source": [
    "d_code = pd.read_csv('data/속성_D_코드.csv')\n",
    "h_code = pd.read_csv('data/속성_H_코드.csv')\n",
    "l_code = pd.read_csv('data/속성_L_코드.csv')\n",
    "\n",
    "train = pd.read_csv('data/train.csv')\n",
    "test = pd.read_csv('data/test.csv')\n",
    "\n",
    "train.shape, test.shape"
   ]
  },
  {
   "cell_type": "markdown",
   "metadata": {
    "id": "wFRg_0b6HdMs"
   },
   "source": [
    "## preprocessing & engineering"
   ]
  },
  {
   "cell_type": "markdown",
   "metadata": {
    "id": "yf1lEtJ3Aq7u"
   },
   "source": [
    "### 순서형 변수 처리\n",
    "단순히 category 형태가 아닌 ordinal 처리"
   ]
  },
  {
   "cell_type": "code",
   "execution_count": 4,
   "metadata": {
    "executionInfo": {
     "elapsed": 330,
     "status": "ok",
     "timestamp": 1641908816030,
     "user": {
      "displayName": "이지평",
      "photoUrl": "https://lh3.googleusercontent.com/a/default-user=s64",
      "userId": "04288060060884002898"
     },
     "user_tz": -540
    },
    "id": "VPX7V5RtApeV"
   },
   "outputs": [],
   "source": [
    "train['person_attribute_a_1'] = train['person_attribute_a_1'].astype(pd.CategoricalDtype(ordered=True))\n",
    "train['person_attribute_b'] = train['person_attribute_b'].astype(pd.CategoricalDtype(ordered=True))\n",
    "train['person_prefer_e'] = train['person_prefer_e'].astype(pd.CategoricalDtype(ordered=True))\n",
    "train['contents_attribute_e'] = train['contents_attribute_e'].astype(pd.CategoricalDtype(ordered=True))"
   ]
  },
  {
   "cell_type": "code",
   "execution_count": 5,
   "metadata": {
    "executionInfo": {
     "elapsed": 5,
     "status": "ok",
     "timestamp": 1641908816359,
     "user": {
      "displayName": "이지평",
      "photoUrl": "https://lh3.googleusercontent.com/a/default-user=s64",
      "userId": "04288060060884002898"
     },
     "user_tz": -540
    },
    "id": "7scJXAn8AptT"
   },
   "outputs": [],
   "source": [
    "test['person_attribute_a_1'] = test['person_attribute_a_1'].astype(pd.CategoricalDtype(ordered=True))\n",
    "test['person_attribute_b'] = test['person_attribute_b'].astype(pd.CategoricalDtype(ordered=True))\n",
    "test['person_prefer_e'] = test['person_prefer_e'].astype(pd.CategoricalDtype(ordered=True))\n",
    "test['contents_attribute_e'] = test['contents_attribute_e'].astype(pd.CategoricalDtype(ordered=True))"
   ]
  },
  {
   "cell_type": "markdown",
   "metadata": {
    "id": "CGNLzmzj6n2b"
   },
   "source": [
    "### person_rn, content_rn\n",
    "* 사람과 컨텐츠의 조합에 관해 특성을 만들어야함"
   ]
  },
  {
   "cell_type": "code",
   "execution_count": 6,
   "metadata": {
    "executionInfo": {
     "elapsed": 11,
     "status": "ok",
     "timestamp": 1641908820004,
     "user": {
      "displayName": "이지평",
      "photoUrl": "https://lh3.googleusercontent.com/a/default-user=s64",
      "userId": "04288060060884002898"
     },
     "user_tz": -540
    },
    "id": "DndLBfUNyeHE"
   },
   "outputs": [],
   "source": [
    "train['person_contents_mul'] = train['person_rn'] * train['contents_rn']\n",
    "test['person_contents_mul'] = test['person_rn'] * test['contents_rn']"
   ]
  },
  {
   "cell_type": "markdown",
   "metadata": {
    "id": "wEqYMf-aHdMy"
   },
   "source": [
    "### 회원속성 - 컨텐츠 속성 일치 여부 "
   ]
  },
  {
   "cell_type": "code",
   "execution_count": 7,
   "metadata": {
    "executionInfo": {
     "elapsed": 5,
     "status": "ok",
     "timestamp": 1641908820576,
     "user": {
      "displayName": "이지평",
      "photoUrl": "https://lh3.googleusercontent.com/a/default-user=s64",
      "userId": "04288060060884002898"
     },
     "user_tz": -540
    },
    "id": "FDq-7gmjHdMz"
   },
   "outputs": [],
   "source": [
    "d_code.columns = ['attribute_d', 'attribute_d_d', 'attribute_d_s', 'attribute_d_m', 'attribute_d_l']\n",
    "h_code.columns = ['attribute_h', 'attribute_h_m', 'attribute_h_l']\n",
    "l_code.columns = ['attribute_l', 'attribute_l_d', 'attribute_l_s', 'attribute_l_m', 'attribute_l_l']"
   ]
  },
  {
   "cell_type": "code",
   "execution_count": 8,
   "metadata": {
    "executionInfo": {
     "elapsed": 4,
     "status": "ok",
     "timestamp": 1641908820993,
     "user": {
      "displayName": "이지평",
      "photoUrl": "https://lh3.googleusercontent.com/a/default-user=s64",
      "userId": "04288060060884002898"
     },
     "user_tz": -540
    },
    "id": "BmF92eDZHdMz"
   },
   "outputs": [],
   "source": [
    "def merge_codes(df : pd.DataFrame, \n",
    "                df_code : pd.DataFrame,\n",
    "                col : str) -> pd.DataFrame:\n",
    "    df = df.copy()\n",
    "    df_code = df_code.copy()\n",
    "    df_code = df_code.add_prefix(f\"{col}_\")\n",
    "    df_code.columns.values[0] = col\n",
    "    return pd.merge(df, df_code, how=\"left\", on=col)"
   ]
  },
  {
   "cell_type": "code",
   "execution_count": 9,
   "metadata": {
    "executionInfo": {
     "elapsed": 5,
     "status": "ok",
     "timestamp": 1641908820994,
     "user": {
      "displayName": "이지평",
      "photoUrl": "https://lh3.googleusercontent.com/a/default-user=s64",
      "userId": "04288060060884002898"
     },
     "user_tz": -540
    },
    "id": "RjInnNntHdMz"
   },
   "outputs": [],
   "source": [
    "def preprocess_data(\n",
    "                    df : pd.DataFrame, \n",
    "                    is_train : bool = True, \n",
    "                    cols_merge : List[Tuple[str, pd.DataFrame]] = [], \n",
    "                    cols_equi : List[Tuple[str, str]] = [] ,\n",
    "                    cols_drop : List[str] = ['id', 'person_prefer_f', 'person_prefer_g', 'contents_open_dt']\n",
    "                    ) -> Tuple[pd.DataFrame, np.ndarray]:\n",
    "    df = df.copy()\n",
    "\n",
    "    y_data = None\n",
    "    if is_train:\n",
    "        y_data = df['target'].to_numpy()\n",
    "        df = df.drop(columns='target')\n",
    "\n",
    "    for col, df_code in cols_merge:\n",
    "        df = merge_codes(df, df_code, col)\n",
    "\n",
    "    cols = df.select_dtypes(bool).columns.tolist()\n",
    "    df[cols] = df[cols].astype(int)\n",
    "\n",
    "    for col1, col2 in cols_equi:\n",
    "        df[f'{col1}_{col2}'] = (df[col1] == df[col2]).astype(int)\n",
    "        df[f'{col1}_{col2}_squared'] = (df[col1].astype(int) - df[col2].astype(int))**2\n",
    "\n",
    "    df = df.drop(columns=cols_drop)\n",
    "    return (df, y_data)"
   ]
  },
  {
   "cell_type": "code",
   "execution_count": 10,
   "metadata": {
    "executionInfo": {
     "elapsed": 8,
     "status": "ok",
     "timestamp": 1641908821441,
     "user": {
      "displayName": "이지평",
      "photoUrl": "https://lh3.googleusercontent.com/a/default-user=s64",
      "userId": "04288060060884002898"
     },
     "user_tz": -540
    },
    "id": "hXWtfxBaHdMz"
   },
   "outputs": [],
   "source": [
    "# 소분류 중분류 대분류 속성코드 merge 컬럼명 및 데이터 프레임 리스트\n",
    "cols_merge = [\n",
    "              ('person_prefer_d_1', d_code),\n",
    "              ('person_prefer_d_2', d_code),\n",
    "              ('person_prefer_d_3', d_code),\n",
    "              ('contents_attribute_d', d_code),\n",
    "              ('person_prefer_h_1', h_code),\n",
    "              ('person_prefer_h_2', h_code),\n",
    "              ('person_prefer_h_3', h_code),\n",
    "              ('contents_attribute_h', h_code),\n",
    "              ('contents_attribute_l', l_code),\n",
    "]\n",
    "\n",
    "# 회원 속성과 콘텐츠 속성의 동일한 코드 여부에 대한 컬럼명 리스트\n",
    "cols_equi = [\n",
    "\n",
    "    ('contents_attribute_c', 'person_prefer_c'),\n",
    "    ('contents_attribute_e', 'person_prefer_e'),\n",
    "\n",
    "    ('person_prefer_d_2_attribute_d_d', 'contents_attribute_d_attribute_d_d'),\n",
    "    ('person_prefer_d_2_attribute_d_s', 'contents_attribute_d_attribute_d_s'),\n",
    "    ('person_prefer_d_2_attribute_d_m', 'contents_attribute_d_attribute_d_m'),\n",
    "    ('person_prefer_d_2_attribute_d_l', 'contents_attribute_d_attribute_d_l'),\n",
    "    ('person_prefer_d_3_attribute_d_d', 'contents_attribute_d_attribute_d_d'),\n",
    "    ('person_prefer_d_3_attribute_d_s', 'contents_attribute_d_attribute_d_s'),\n",
    "    ('person_prefer_d_3_attribute_d_m', 'contents_attribute_d_attribute_d_m'),\n",
    "    ('person_prefer_d_3_attribute_d_l', 'contents_attribute_d_attribute_d_l'),\n",
    "    \n",
    "    (\"person_prefer_h_1_attribute_h_m\", \"contents_attribute_h_attribute_h_m\"),\n",
    "    (\"person_prefer_h_1_attribute_h_l\", \"contents_attribute_h_attribute_h_l\"),\n",
    "    ('person_prefer_h_2_attribute_h_m', 'contents_attribute_h_attribute_h_m'),\n",
    "    ('person_prefer_h_2_attribute_h_l', 'contents_attribute_h_attribute_h_l'),\n",
    "    ('person_prefer_h_3_attribute_h_m', 'contents_attribute_h_attribute_h_m'),\n",
    "    ('person_prefer_h_3_attribute_h_l', 'contents_attribute_h_attribute_h_l'),\n",
    "\n",
    "]\n",
    "\n",
    "# 학습에 필요없는 컬럼 리스트\n",
    "cols_drop = ['id', 'person_prefer_f', 'person_prefer_g', 'contents_rn', 'person_rn']"
   ]
  },
  {
   "cell_type": "markdown",
   "metadata": {},
   "source": [
    "# 민석이 추가"
   ]
  },
  {
   "cell_type": "code",
   "execution_count": 11,
   "metadata": {
    "colab": {
     "base_uri": "https://localhost:8080/"
    },
    "executionInfo": {
     "elapsed": 2535,
     "status": "ok",
     "timestamp": 1641908824520,
     "user": {
      "displayName": "이지평",
      "photoUrl": "https://lh3.googleusercontent.com/a/default-user=s64",
      "userId": "04288060060884002898"
     },
     "user_tz": -540
    },
    "id": "RcX-TSN8HdM0",
    "outputId": "335aae47-17f2-4c50-8357-258c616c6ce5"
   },
   "outputs": [
    {
     "data": {
      "text/plain": [
       "((501951, 90), (501951,), (46404, 90))"
      ]
     },
     "execution_count": 11,
     "metadata": {},
     "output_type": "execute_result"
    }
   ],
   "source": [
    "x_train, y_train = preprocess_data(train, cols_merge=cols_merge, cols_equi=cols_equi, cols_drop=cols_drop)\n",
    "x_test, _ = preprocess_data(test, is_train=False, cols_merge=cols_merge, cols_equi=cols_equi, cols_drop=cols_drop)\n",
    "x_train.shape, y_train.shape, x_test.shape"
   ]
  },
  {
   "cell_type": "markdown",
   "metadata": {},
   "source": [
    "## KMEAN"
   ]
  },
  {
   "cell_type": "code",
   "execution_count": 12,
   "metadata": {},
   "outputs": [],
   "source": [
    "from sklearn.cluster import KMeans\n",
    "\n",
    "class KMeansFeaturizer:\n",
    "    \"\"\" 숫자 데이터를 k-평균 클러스터 멤버십으로 변환.\n",
    "\n",
    "    이 변환기는 입력 데이터에 k-평균을 수행해 각 데이터 포인트를 가장 가까운 클러스터의 id로 변환한다.\n",
    "    만약 목표 변수가 주어지면 유사한 데이터 포인트와 함께 grouping되고,\n",
    "    분류 경계에 따르는 클러스터를 생성하기 위해 스케일링되고, k-평균 입력에 포함된다.\n",
    "    \"\"\"\n",
    "\n",
    "    def __init__(self, k = 100, target_scale = 5.0, random_state = None):\n",
    "        self.k = k\n",
    "        self.target_scale = target_scale\n",
    "        self.random_state = random_state\n",
    "\n",
    "    def fit(self, X, y = None):\n",
    "        \"\"\" 입력 데이터에 k-평균을 수행하고 중심점을 찾는다.\n",
    "        \"\"\"\n",
    "        if y is None: # 목표 변수가 없으면 단순한 k-평균 수행\n",
    "            km_model = KMeans(n_clusters = self.k, n_init = 20, random_state = self.random_state)\n",
    "            km_model.fit(X)\n",
    "            \n",
    "            self.inertia_ = km_model.inertia_\n",
    "            self.km_model = km_model\n",
    "            self.cluster_centers_ = km_model.cluster_centers_\n",
    "            return self\n",
    "\n",
    "        # 목표 변수가 있으면, 적절한 스케일링을 적용하고, 이를 k-평균에 대한 입력 데이터에 포함시킨다.\n",
    "        data_with_target = np.hstack((X, y[:, np.newaxis] * self.target_scale))\n",
    "        # 데이터와 타겟에 대해 사전 학습할 k-평균 모델 구축\n",
    "        km_model_pretrain = KMeans(n_clusters = self.k, n_init = 20, random_state = self.random_state)\n",
    "        km_model_pretrain.fit(data_with_target)\n",
    "\n",
    "        # k평균을 두번째로 실행해 목표 변수 없이 원시 공간에서 클러스터를 얻는다. 사전 학습을 통해 얻은 중심점을 활용해 초기화한다.\n",
    "        # 반복을 통해 클러스터 할당과 중심점 계산을 다시 수행한다.\n",
    "\n",
    "        km_model = KMeans(n_clusters = self.k, init = km_model_pretrain.cluster_centers_[:,:data_with_target.shape[1]-1], n_init = 1, max_iter = 1)\n",
    "\n",
    "        km_model.fit(X)\n",
    "        \n",
    "        self.inertia_ = km_model.inertia_\n",
    "        self.km_model = km_model\n",
    "        self.cluster_centers_ = km_model.cluster_centers_\n",
    "        return self\n",
    "\n",
    "    def transform(self, X, y = None):\n",
    "        \"\"\" 각 입력 데이터 포인트에 대해 가장 가까운 클러스터 ID 산출\n",
    "        \"\"\"\n",
    "        clusters = self.km_model.predict(X)\n",
    "        return clusters[:, np.newaxis]\n",
    "\n",
    "    def fit_transform(self, X, y = None):\n",
    "        self.fit(X, y)\n",
    "        return self.transform(X, y)"
   ]
  },
  {
   "cell_type": "code",
   "execution_count": 13,
   "metadata": {},
   "outputs": [],
   "source": [
    "# unique 값이 10개 이하인 person 피쳐\n",
    "per = ['person_attribute_a_1',\n",
    " 'person_attribute_b',\n",
    " 'person_prefer_c',\n",
    " 'person_prefer_e',]"
   ]
  },
  {
   "cell_type": "code",
   "execution_count": 14,
   "metadata": {},
   "outputs": [],
   "source": [
    "# unique 값이 10개 이하인 content 피쳐\n",
    "con = [ 'contents_attribute_i',\n",
    " 'contents_attribute_a',\n",
    " 'contents_attribute_j_1',\n",
    " 'contents_attribute_c',\n",
    " 'contents_attribute_k',\n",
    " 'contents_attribute_m',\n",
    " 'contents_attribute_e',]"
   ]
  },
  {
   "cell_type": "code",
   "execution_count": 15,
   "metadata": {},
   "outputs": [],
   "source": [
    "km = KMeansFeaturizer(random_state = SEED, k = 40)# 초반 실험단계에서 피쳐 갯수 * 10 개의 군집으로 시도 가장 좋은성능"
   ]
  },
  {
   "cell_type": "code",
   "execution_count": 16,
   "metadata": {},
   "outputs": [],
   "source": [
    "per_k = x_train[per].astype(str)\n",
    "per_k_t = x_test[per].astype(str)\n",
    "\n",
    "per_k_train = km.fit_transform(per_k)\n",
    "\n",
    "per_k_test = km.transform(per_k_t)"
   ]
  },
  {
   "cell_type": "code",
   "execution_count": 17,
   "metadata": {},
   "outputs": [],
   "source": [
    "km = KMeansFeaturizer(random_state = SEED, k = 70)# 초반 실험단계에서 피쳐 갯수 * 10 개의 군집으로 시도 가장 좋은성능"
   ]
  },
  {
   "cell_type": "code",
   "execution_count": 18,
   "metadata": {},
   "outputs": [],
   "source": [
    "con_k = x_train[con].astype(str)\n",
    "con_k_t = x_test[con].astype(str)\n",
    "\n",
    "con_k_train = km.fit_transform(con_k)\n",
    "\n",
    "con_k_test = km.transform(con_k_t)"
   ]
  },
  {
   "cell_type": "code",
   "execution_count": 19,
   "metadata": {},
   "outputs": [],
   "source": [
    "x_train[\"per_kmeans\"] = per_k_train.astype(str)\n",
    "x_test[\"per_kmeans\"] = per_k_test.astype(str)"
   ]
  },
  {
   "cell_type": "code",
   "execution_count": 20,
   "metadata": {},
   "outputs": [],
   "source": [
    "x_train[\"con_kmeans\"] = con_k_train.astype(str)\n",
    "x_test[\"con_kmeans\"] = con_k_test.astype(str)"
   ]
  },
  {
   "cell_type": "code",
   "execution_count": 21,
   "metadata": {},
   "outputs": [],
   "source": [
    "#클러스터링한 값들을 단순 문자열 결합을 통해서 군집과 군집의 조합을 찾으려 함\n",
    "x_train[\"per_con_kmean\"] = x_train['per_kmeans']+\"_\"+x_train['con_kmeans']\n",
    "x_test[\"per_con_kmean\"] = x_test['per_kmeans']+\"_\"+x_test['con_kmeans']"
   ]
  },
  {
   "cell_type": "code",
   "execution_count": null,
   "metadata": {},
   "outputs": [],
   "source": []
  },
  {
   "cell_type": "markdown",
   "metadata": {},
   "source": [
    "## 시간"
   ]
  },
  {
   "cell_type": "code",
   "execution_count": 22,
   "metadata": {},
   "outputs": [],
   "source": [
    "x_train[\"contents_open_dt_hour\"] = x_train[\"contents_open_dt\"].apply(lambda x:x.split(\" \")[1][:2])\n",
    "x_train[\"contents_open_dt_day\"] = x_train[\"contents_open_dt\"].apply(lambda x:x.split(\"-\")[2][:2])\n",
    "x_train[\"contents_open_dt_month\"] = x_train[\"contents_open_dt\"].apply(lambda x:x.split(\"-\")[1])\n",
    "\n",
    "x_test[\"contents_open_dt_hour\"] = x_test[\"contents_open_dt\"].apply(lambda x:x.split(\" \")[1][:2])\n",
    "x_test[\"contents_open_dt_day\"] = x_test[\"contents_open_dt\"].apply(lambda x:x.split(\"-\")[2][:2])\n",
    "x_test[\"contents_open_dt_month\"] = x_test[\"contents_open_dt\"].apply(lambda x:x.split(\"-\")[1])"
   ]
  },
  {
   "cell_type": "code",
   "execution_count": 23,
   "metadata": {},
   "outputs": [],
   "source": [
    "x_train = x_train.drop([\"contents_open_dt\"],axis = 1)\n",
    "\n",
    "x_test = x_test.drop([\"contents_open_dt\"],axis = 1)"
   ]
  },
  {
   "cell_type": "markdown",
   "metadata": {},
   "source": [
    "## 매칭 T/F 카운트"
   ]
  },
  {
   "cell_type": "code",
   "execution_count": 24,
   "metadata": {},
   "outputs": [
    {
     "name": "stdout",
     "output_type": "stream",
     "text": [
      "person_prefer_d_2 {546, 445} 863\n",
      "person_prefer_d_3 {1185, 578, 71, 500, 380, 761, 732} 775\n",
      "contents_attribute_l {1893, 46, 79, 400, 273, 1362, 51, 1618, 1431, 1372} 1422\n",
      "contents_attribute_d {384, 550, 427, 591, 721, 403, 828, 445} 919\n"
     ]
    }
   ],
   "source": [
    "lst = ['person_attribute_a',\n",
    "       'person_attribute_a_1', 'person_attribute_b', 'person_prefer_c',\n",
    "       'person_prefer_d_1', 'person_prefer_d_2', 'person_prefer_d_3',\n",
    "       'person_prefer_e', \n",
    "       'person_prefer_h_1', 'person_prefer_h_2', 'person_prefer_h_3',\n",
    "       'contents_attribute_i', 'contents_attribute_a',\n",
    "       'contents_attribute_j_1', 'contents_attribute_j',\n",
    "       'contents_attribute_c', 'contents_attribute_k', 'contents_attribute_l',\n",
    "       'contents_attribute_d', 'contents_attribute_m', 'contents_attribute_e',\n",
    "       'contents_attribute_h']\n",
    "for i in lst:\n",
    "    x = set(x_test[i].unique()) - set( x_train[i].unique())\n",
    "    if len(x)>1:\n",
    "        print(i,x,test[i].nunique())"
   ]
  },
  {
   "cell_type": "code",
   "execution_count": 25,
   "metadata": {},
   "outputs": [],
   "source": [
    "x_train[\"d_match_count\"] = x_train[\"d_l_match_yn\"] + x_train[\"d_m_match_yn\"] + x_train[\"d_s_match_yn\"]\n",
    "\n",
    "x_test[\"d_match_count\"] = x_test[\"d_l_match_yn\"] + x_test[\"d_m_match_yn\"] + x_test[\"d_s_match_yn\"]"
   ]
  },
  {
   "cell_type": "code",
   "execution_count": 26,
   "metadata": {},
   "outputs": [],
   "source": [
    "x_train[\"h_match_count\"] = x_train[\"h_l_match_yn\"] + x_train[\"h_m_match_yn\"] + x_train[\"h_s_match_yn\"]\n",
    "\n",
    "x_test[\"h_match_count\"] = x_test[\"h_l_match_yn\"] + x_test[\"h_m_match_yn\"] + x_test[\"h_s_match_yn\"]"
   ]
  },
  {
   "cell_type": "markdown",
   "metadata": {},
   "source": [
    "## 선호특징과 컨탠츠 특징을 구성\n",
    "### 둘의 합"
   ]
  },
  {
   "cell_type": "code",
   "execution_count": 27,
   "metadata": {},
   "outputs": [],
   "source": [
    "x_train[\"person_prefer_mul\"] = (x_train[\"person_prefer_c\"].astype(\"int\")**2) * (x_train[\"person_prefer_e\"].astype(\"int\")**3)\n",
    "\n",
    "x_test[\"person_prefer_mul\"] = (x_test[\"person_prefer_c\"].astype(\"int\")**2) * (x_test[\"person_prefer_e\"].astype(\"int\")**3)"
   ]
  },
  {
   "cell_type": "code",
   "execution_count": 28,
   "metadata": {},
   "outputs": [],
   "source": [
    "x_train[\"contents_attribute_mul\"] = (x_train[\"contents_attribute_j_1\"].astype(\"int\")) * (x_train[\"contents_attribute_a\"].astype(\"int\"))\\\n",
    "* (x_train[\"contents_attribute_i\"].astype(\"int\")) * (x_train[\"contents_attribute_c\"].astype(\"int\")) * (x_train[\"contents_attribute_k\"].astype(\"int\"))\\\n",
    "* (x_train[\"contents_attribute_m\"].astype(\"int\")) * (x_train[\"contents_attribute_e\"].astype(\"int\"))\n",
    "\n",
    "x_test[\"contents_attribute_mul\"] = (x_test[\"contents_attribute_j_1\"].astype(\"int\")) * (x_test[\"contents_attribute_a\"].astype(\"int\"))\\\n",
    "* (x_test[\"contents_attribute_i\"].astype(\"int\")) * (x_test[\"contents_attribute_c\"].astype(\"int\")) * (x_test[\"contents_attribute_k\"].astype(\"int\"))\\\n",
    "* (x_test[\"contents_attribute_m\"].astype(\"int\")) * (x_test[\"contents_attribute_e\"].astype(\"int\"))"
   ]
  },
  {
   "cell_type": "code",
   "execution_count": 29,
   "metadata": {},
   "outputs": [],
   "source": [
    "x_train[\"prefer_attribute_com\"] = x_train[\"person_prefer_mul\"] + x_train[\"contents_attribute_mul\"]\n",
    "\n",
    "x_test[\"prefer_attribute_com\"] = x_test[\"person_prefer_mul\"] + x_test[\"contents_attribute_mul\"]"
   ]
  },
  {
   "cell_type": "markdown",
   "metadata": {
    "id": "p2zbwfA1xRMu"
   },
   "source": [
    "### 대중소세 코드 값 가지고"
   ]
  },
  {
   "cell_type": "code",
   "execution_count": 30,
   "metadata": {
    "executionInfo": {
     "elapsed": 8,
     "status": "ok",
     "timestamp": 1641908824520,
     "user": {
      "displayName": "이지평",
      "photoUrl": "https://lh3.googleusercontent.com/a/default-user=s64",
      "userId": "04288060060884002898"
     },
     "user_tz": -540
    },
    "id": "VPiicodOE_74"
   },
   "outputs": [],
   "source": [
    "x_train['person_D_code1_sum'] = x_train['person_prefer_d_1_attribute_d_l'] + x_train['person_prefer_d_1_attribute_d_m'] \\\n",
    "                                + x_train['person_prefer_d_1_attribute_d_s'] + x_train['person_prefer_d_1_attribute_d_d'] + x_train['person_prefer_d_1']\n",
    "x_train['person_D_code2_sum'] = x_train['person_prefer_d_2_attribute_d_l'] + x_train['person_prefer_d_2_attribute_d_m'] \\\n",
    "                                + x_train['person_prefer_d_2_attribute_d_s'] + x_train['person_prefer_d_2_attribute_d_d'] + x_train['person_prefer_d_2']\n",
    "x_train['person_D_code3_sum'] = x_train['person_prefer_d_3_attribute_d_l'] + x_train['person_prefer_d_3_attribute_d_m'] \\\n",
    "                                + x_train['person_prefer_d_3_attribute_d_s'] + x_train['person_prefer_d_3_attribute_d_d'] + x_train['person_prefer_d_3']\n",
    "\n",
    "x_test['person_D_code1_sum'] = x_test['person_prefer_d_1_attribute_d_l'] + x_test['person_prefer_d_1_attribute_d_m'] \\\n",
    "                               + x_test['person_prefer_d_1_attribute_d_s'] + x_test['person_prefer_d_1_attribute_d_d'] + x_test['person_prefer_d_1']\n",
    "x_test['person_D_code2_sum'] = x_test['person_prefer_d_2_attribute_d_l'] + x_test['person_prefer_d_2_attribute_d_m'] \\\n",
    "                               + x_test['person_prefer_d_2_attribute_d_s'] + x_test['person_prefer_d_2_attribute_d_d'] + x_test['person_prefer_d_2']\n",
    "x_test['person_D_code3_sum'] = x_test['person_prefer_d_3_attribute_d_l'] + x_test['person_prefer_d_3_attribute_d_m'] \\\n",
    "                               + x_test['person_prefer_d_3_attribute_d_s'] + x_test['person_prefer_d_3_attribute_d_d'] + x_test['person_prefer_d_3']"
   ]
  },
  {
   "cell_type": "code",
   "execution_count": 31,
   "metadata": {
    "executionInfo": {
     "elapsed": 9,
     "status": "ok",
     "timestamp": 1641908824521,
     "user": {
      "displayName": "이지평",
      "photoUrl": "https://lh3.googleusercontent.com/a/default-user=s64",
      "userId": "04288060060884002898"
     },
     "user_tz": -540
    },
    "id": "Npab1ZgQ6-di"
   },
   "outputs": [],
   "source": [
    "x_train['person_H_code1_sum'] = x_train['person_prefer_h_1_attribute_h_l'] + x_train['person_prefer_h_1_attribute_h_m'] + x_train['person_prefer_h_1']\n",
    "x_train['person_H_code2_sum'] = x_train['person_prefer_h_2_attribute_h_l'] + x_train['person_prefer_h_2_attribute_h_m'] + x_train['person_prefer_h_2']\n",
    "x_train['person_H_code3_sum'] = x_train['person_prefer_h_3_attribute_h_l'] + x_train['person_prefer_h_3_attribute_h_m'] + x_train['person_prefer_h_3']\n",
    "\n",
    "x_test['person_H_code1_sum'] = x_test['person_prefer_h_1_attribute_h_l'] + x_test['person_prefer_h_1_attribute_h_m'] + x_test['person_prefer_h_1']\n",
    "x_test['person_H_code2_sum'] = x_test['person_prefer_h_2_attribute_h_l'] + x_test['person_prefer_h_2_attribute_h_m'] + x_test['person_prefer_h_2']\n",
    "x_test['person_H_code3_sum'] = x_test['person_prefer_h_3_attribute_h_l'] + x_test['person_prefer_h_3_attribute_h_m'] + x_test['person_prefer_h_3']"
   ]
  },
  {
   "cell_type": "code",
   "execution_count": 32,
   "metadata": {
    "executionInfo": {
     "elapsed": 8,
     "status": "ok",
     "timestamp": 1641908824521,
     "user": {
      "displayName": "이지평",
      "photoUrl": "https://lh3.googleusercontent.com/a/default-user=s64",
      "userId": "04288060060884002898"
     },
     "user_tz": -540
    },
    "id": "6ziAbkK-Gmt2"
   },
   "outputs": [],
   "source": [
    "x_train['content_D_code_sum'] = x_train['contents_attribute_d_attribute_d_l'] + x_train['contents_attribute_d_attribute_d_m'] \\\n",
    "                                + x_train['contents_attribute_d_attribute_d_s'] + x_train['contents_attribute_d_attribute_d_d'] + x_train['contents_attribute_d']\n",
    "\n",
    "x_test['content_D_code_sum'] = x_test['contents_attribute_d_attribute_d_l'] + x_test['contents_attribute_d_attribute_d_m'] \\\n",
    "                               + x_test['contents_attribute_d_attribute_d_s'] + x_test['contents_attribute_d_attribute_d_d'] + x_test['contents_attribute_d']"
   ]
  },
  {
   "cell_type": "code",
   "execution_count": 33,
   "metadata": {
    "executionInfo": {
     "elapsed": 8,
     "status": "ok",
     "timestamp": 1641908824521,
     "user": {
      "displayName": "이지평",
      "photoUrl": "https://lh3.googleusercontent.com/a/default-user=s64",
      "userId": "04288060060884002898"
     },
     "user_tz": -540
    },
    "id": "UvGWbYtIGmxF"
   },
   "outputs": [],
   "source": [
    "x_train['content_H_code_sum'] = x_train['contents_attribute_h_attribute_h_l'] + x_train['contents_attribute_h_attribute_h_m'] + x_train['contents_attribute_h']\n",
    "\n",
    "x_test['content_H_code_sum'] = x_test['contents_attribute_h_attribute_h_l'] + x_test['contents_attribute_h_attribute_h_m'] + x_test['contents_attribute_h']"
   ]
  },
  {
   "cell_type": "code",
   "execution_count": 34,
   "metadata": {
    "executionInfo": {
     "elapsed": 8,
     "status": "ok",
     "timestamp": 1641908824521,
     "user": {
      "displayName": "이지평",
      "photoUrl": "https://lh3.googleusercontent.com/a/default-user=s64",
      "userId": "04288060060884002898"
     },
     "user_tz": -540
    },
    "id": "4-x9FbeyGmzb"
   },
   "outputs": [],
   "source": [
    "x_train['content_L_code_sum'] = x_train['contents_attribute_l_attribute_l_l'] + x_train['contents_attribute_l_attribute_l_m'] \\\n",
    "                                + x_train['contents_attribute_l_attribute_l_s'] + x_train['contents_attribute_l_attribute_l_d'] + x_train['contents_attribute_l']\n",
    "\n",
    "x_test['content_L_code_sum'] = x_test['contents_attribute_l_attribute_l_l'] + x_test['contents_attribute_l_attribute_l_m'] \\\n",
    "                               + x_test['contents_attribute_l_attribute_l_s'] + x_test['contents_attribute_l_attribute_l_d'] + x_test['contents_attribute_l']"
   ]
  },
  {
   "cell_type": "code",
   "execution_count": 35,
   "metadata": {
    "executionInfo": {
     "elapsed": 9,
     "status": "ok",
     "timestamp": 1641908824522,
     "user": {
      "displayName": "이지평",
      "photoUrl": "https://lh3.googleusercontent.com/a/default-user=s64",
      "userId": "04288060060884002898"
     },
     "user_tz": -540
    },
    "id": "HYXwP3c_QLhM"
   },
   "outputs": [],
   "source": [
    "x_train['D1_D_compare'] = np.abs(x_train['person_D_code1_sum'] - x_train['content_D_code_sum'])\n",
    "x_train['D2_D_compare'] = np.abs(x_train['person_D_code2_sum'] - x_train['content_D_code_sum'])\n",
    "x_train['D3_D_compare'] = np.abs(x_train['person_D_code3_sum'] - x_train['content_D_code_sum'])\n",
    "x_train['D_compare'] = x_train['D1_D_compare'] * x_train['D2_D_compare'] * x_train['D3_D_compare']\n",
    "\n",
    "x_test['D1_D_compare'] = np.abs(x_test['person_D_code1_sum'] - x_test['content_D_code_sum'])\n",
    "x_test['D2_D_compare'] = np.abs(x_test['person_D_code2_sum'] - x_test['content_D_code_sum'])\n",
    "x_test['D3_D_compare'] = np.abs(x_test['person_D_code3_sum'] - x_test['content_D_code_sum'])\n",
    "x_test['D_compare'] = x_test['D1_D_compare'] * x_test['D2_D_compare'] * x_test['D3_D_compare']"
   ]
  },
  {
   "cell_type": "code",
   "execution_count": 36,
   "metadata": {
    "executionInfo": {
     "elapsed": 5,
     "status": "ok",
     "timestamp": 1641908825084,
     "user": {
      "displayName": "이지평",
      "photoUrl": "https://lh3.googleusercontent.com/a/default-user=s64",
      "userId": "04288060060884002898"
     },
     "user_tz": -540
    },
    "id": "CG2JNJDd4zMv"
   },
   "outputs": [],
   "source": [
    "x_train['D1_D2_compare'] = np.abs(x_train['person_D_code1_sum'] - x_train['person_D_code2_sum'])\n",
    "x_train['D1_D3_compare'] = np.abs(x_train['person_D_code1_sum'] - x_train['person_D_code3_sum'])\n",
    "x_train['D2_D3_compare'] = np.abs(x_train['person_D_code2_sum'] - x_train['person_D_code3_sum'])\n",
    "x_train['D_D_compare'] = x_train['D1_D2_compare'] * x_train['D1_D3_compare'] * x_train['D2_D3_compare']\n",
    "\n",
    "x_test['D1_D2_compare'] = np.abs(x_test['person_D_code1_sum'] - x_test['person_D_code2_sum'])\n",
    "x_test['D1_D3_compare'] = np.abs(x_test['person_D_code1_sum'] - x_test['person_D_code3_sum'])\n",
    "x_test['D2_D3_compare'] = np.abs(x_test['person_D_code2_sum'] - x_test['person_D_code3_sum'])\n",
    "x_test['D_D_compare'] = x_test['D1_D2_compare'] * x_test['D1_D3_compare'] * x_test['D2_D3_compare']"
   ]
  },
  {
   "cell_type": "code",
   "execution_count": 37,
   "metadata": {
    "executionInfo": {
     "elapsed": 2,
     "status": "ok",
     "timestamp": 1641908825595,
     "user": {
      "displayName": "이지평",
      "photoUrl": "https://lh3.googleusercontent.com/a/default-user=s64",
      "userId": "04288060060884002898"
     },
     "user_tz": -540
    },
    "id": "ondqL647QLjl"
   },
   "outputs": [],
   "source": [
    "x_train['H1_H_compare'] = np.abs(x_train['person_H_code1_sum'] - x_train['content_H_code_sum'])\n",
    "x_train['H2_H_compare'] = np.abs(x_train['person_H_code2_sum'] - x_train['content_H_code_sum'])\n",
    "x_train['H3_H_compare'] = np.abs(x_train['person_H_code3_sum'] - x_train['content_H_code_sum'])\n",
    "x_train['H_compare'] = x_train['H1_H_compare'] * x_train['H2_H_compare'] * x_train['H3_H_compare']\n",
    "\n",
    "x_test['H1_H_compare'] = np.abs(x_test['person_H_code1_sum'] - x_test['content_H_code_sum'])\n",
    "x_test['H2_H_compare'] = np.abs(x_test['person_H_code2_sum'] - x_test['content_H_code_sum'])\n",
    "x_test['H3_H_compare'] = np.abs(x_test['person_H_code3_sum'] - x_test['content_H_code_sum'])\n",
    "x_test['H_compare'] = x_test['H1_H_compare'] * x_test['H2_H_compare'] * x_test['H3_H_compare']"
   ]
  },
  {
   "cell_type": "code",
   "execution_count": 38,
   "metadata": {
    "executionInfo": {
     "elapsed": 5,
     "status": "ok",
     "timestamp": 1641908825985,
     "user": {
      "displayName": "이지평",
      "photoUrl": "https://lh3.googleusercontent.com/a/default-user=s64",
      "userId": "04288060060884002898"
     },
     "user_tz": -540
    },
    "id": "UgkTbMOY5Sil"
   },
   "outputs": [],
   "source": [
    "x_train['H1_H2_compare'] = np.abs(x_train['person_H_code1_sum'] - x_train['person_H_code2_sum'])\n",
    "x_train['H1_H3_compare'] = np.abs(x_train['person_H_code1_sum'] - x_train['person_H_code3_sum'])\n",
    "x_train['H2_H3_compare'] = np.abs(x_train['person_H_code2_sum'] - x_train['person_H_code3_sum'])\n",
    "x_train['H_H_compare'] = x_train['H1_H2_compare'] * x_train['H1_H3_compare'] * x_train['H2_H3_compare']\n",
    "\n",
    "x_test['H1_H2_compare'] = np.abs(x_test['person_H_code1_sum'] - x_test['person_H_code2_sum'])\n",
    "x_test['H1_H3_compare'] = np.abs(x_test['person_H_code1_sum'] - x_test['person_H_code3_sum'])\n",
    "x_test['H2_H3_compare'] = np.abs(x_test['person_H_code2_sum'] - x_test['person_H_code3_sum'])\n",
    "x_test['H_H_compare'] = x_test['H1_H2_compare'] * x_test['H1_H3_compare'] * x_test['H2_H3_compare']"
   ]
  },
  {
   "cell_type": "code",
   "execution_count": 39,
   "metadata": {
    "executionInfo": {
     "elapsed": 14,
     "status": "ok",
     "timestamp": 1641908826749,
     "user": {
      "displayName": "이지평",
      "photoUrl": "https://lh3.googleusercontent.com/a/default-user=s64",
      "userId": "04288060060884002898"
     },
     "user_tz": -540
    },
    "id": "4DAlfFZJQLoq"
   },
   "outputs": [],
   "source": [
    "drop_lst = ['person_D_code1_sum', 'person_D_code2_sum', 'person_D_code3_sum',\n",
    "            'person_H_code1_sum', 'person_H_code2_sum', 'person_H_code3_sum',\n",
    "            'content_D_code_sum', 'content_H_code_sum',]"
   ]
  },
  {
   "cell_type": "code",
   "execution_count": 40,
   "metadata": {
    "executionInfo": {
     "elapsed": 486,
     "status": "ok",
     "timestamp": 1641908827222,
     "user": {
      "displayName": "이지평",
      "photoUrl": "https://lh3.googleusercontent.com/a/default-user=s64",
      "userId": "04288060060884002898"
     },
     "user_tz": -540
    },
    "id": "-4uPbsFjQLqq"
   },
   "outputs": [],
   "source": [
    "x_train = x_train.drop(drop_lst, axis=1)\n",
    "x_test = x_test.drop(drop_lst, axis=1)"
   ]
  },
  {
   "cell_type": "markdown",
   "metadata": {
    "id": "9qCAbdoFHdM0"
   },
   "source": [
    "### 범주형 칼럼 리스트"
   ]
  },
  {
   "cell_type": "code",
   "execution_count": 41,
   "metadata": {},
   "outputs": [],
   "source": [
    "cat_features = x_train.columns[x_train.nunique() >= 2].tolist()"
   ]
  },
  {
   "cell_type": "code",
   "execution_count": 42,
   "metadata": {},
   "outputs": [
    {
     "data": {
      "text/plain": [
       "['d_l_match_yn',\n",
       " 'd_m_match_yn',\n",
       " 'd_s_match_yn',\n",
       " 'h_l_match_yn',\n",
       " 'h_m_match_yn',\n",
       " 'h_s_match_yn',\n",
       " 'person_attribute_a',\n",
       " 'person_attribute_a_1',\n",
       " 'person_attribute_b',\n",
       " 'person_prefer_c',\n",
       " 'person_prefer_d_1',\n",
       " 'person_prefer_d_2',\n",
       " 'person_prefer_d_3',\n",
       " 'person_prefer_e',\n",
       " 'person_prefer_h_1',\n",
       " 'person_prefer_h_2',\n",
       " 'person_prefer_h_3',\n",
       " 'contents_attribute_i',\n",
       " 'contents_attribute_a',\n",
       " 'contents_attribute_j_1',\n",
       " 'contents_attribute_j',\n",
       " 'contents_attribute_c',\n",
       " 'contents_attribute_k',\n",
       " 'contents_attribute_l',\n",
       " 'contents_attribute_d',\n",
       " 'contents_attribute_m',\n",
       " 'contents_attribute_e',\n",
       " 'contents_attribute_h',\n",
       " 'person_contents_mul',\n",
       " 'person_prefer_d_1_attribute_d_d',\n",
       " 'person_prefer_d_1_attribute_d_s',\n",
       " 'person_prefer_d_1_attribute_d_m',\n",
       " 'person_prefer_d_1_attribute_d_l',\n",
       " 'person_prefer_d_2_attribute_d_d',\n",
       " 'person_prefer_d_2_attribute_d_s',\n",
       " 'person_prefer_d_2_attribute_d_m',\n",
       " 'person_prefer_d_2_attribute_d_l',\n",
       " 'person_prefer_d_3_attribute_d_d',\n",
       " 'person_prefer_d_3_attribute_d_s',\n",
       " 'person_prefer_d_3_attribute_d_m',\n",
       " 'person_prefer_d_3_attribute_d_l',\n",
       " 'contents_attribute_d_attribute_d_d',\n",
       " 'contents_attribute_d_attribute_d_s',\n",
       " 'contents_attribute_d_attribute_d_m',\n",
       " 'contents_attribute_d_attribute_d_l',\n",
       " 'person_prefer_h_1_attribute_h_m',\n",
       " 'person_prefer_h_1_attribute_h_l',\n",
       " 'person_prefer_h_2_attribute_h_m',\n",
       " 'person_prefer_h_2_attribute_h_l',\n",
       " 'person_prefer_h_3_attribute_h_m',\n",
       " 'person_prefer_h_3_attribute_h_l',\n",
       " 'contents_attribute_h_attribute_h_m',\n",
       " 'contents_attribute_h_attribute_h_l',\n",
       " 'contents_attribute_l_attribute_l_d',\n",
       " 'contents_attribute_l_attribute_l_s',\n",
       " 'contents_attribute_l_attribute_l_m',\n",
       " 'contents_attribute_l_attribute_l_l',\n",
       " 'contents_attribute_c_person_prefer_c',\n",
       " 'contents_attribute_c_person_prefer_c_squared',\n",
       " 'contents_attribute_e_person_prefer_e',\n",
       " 'contents_attribute_e_person_prefer_e_squared',\n",
       " 'person_prefer_d_2_attribute_d_d_contents_attribute_d_attribute_d_d',\n",
       " 'person_prefer_d_2_attribute_d_d_contents_attribute_d_attribute_d_d_squared',\n",
       " 'person_prefer_d_2_attribute_d_s_contents_attribute_d_attribute_d_s',\n",
       " 'person_prefer_d_2_attribute_d_s_contents_attribute_d_attribute_d_s_squared',\n",
       " 'person_prefer_d_2_attribute_d_m_contents_attribute_d_attribute_d_m',\n",
       " 'person_prefer_d_2_attribute_d_m_contents_attribute_d_attribute_d_m_squared',\n",
       " 'person_prefer_d_2_attribute_d_l_contents_attribute_d_attribute_d_l',\n",
       " 'person_prefer_d_2_attribute_d_l_contents_attribute_d_attribute_d_l_squared',\n",
       " 'person_prefer_d_3_attribute_d_d_contents_attribute_d_attribute_d_d',\n",
       " 'person_prefer_d_3_attribute_d_d_contents_attribute_d_attribute_d_d_squared',\n",
       " 'person_prefer_d_3_attribute_d_s_contents_attribute_d_attribute_d_s',\n",
       " 'person_prefer_d_3_attribute_d_s_contents_attribute_d_attribute_d_s_squared',\n",
       " 'person_prefer_d_3_attribute_d_m_contents_attribute_d_attribute_d_m',\n",
       " 'person_prefer_d_3_attribute_d_m_contents_attribute_d_attribute_d_m_squared',\n",
       " 'person_prefer_d_3_attribute_d_l_contents_attribute_d_attribute_d_l',\n",
       " 'person_prefer_d_3_attribute_d_l_contents_attribute_d_attribute_d_l_squared',\n",
       " 'person_prefer_h_1_attribute_h_m_contents_attribute_h_attribute_h_m',\n",
       " 'person_prefer_h_1_attribute_h_m_contents_attribute_h_attribute_h_m_squared',\n",
       " 'person_prefer_h_1_attribute_h_l_contents_attribute_h_attribute_h_l',\n",
       " 'person_prefer_h_1_attribute_h_l_contents_attribute_h_attribute_h_l_squared',\n",
       " 'person_prefer_h_2_attribute_h_m_contents_attribute_h_attribute_h_m',\n",
       " 'person_prefer_h_2_attribute_h_m_contents_attribute_h_attribute_h_m_squared',\n",
       " 'person_prefer_h_2_attribute_h_l_contents_attribute_h_attribute_h_l',\n",
       " 'person_prefer_h_2_attribute_h_l_contents_attribute_h_attribute_h_l_squared',\n",
       " 'person_prefer_h_3_attribute_h_m_contents_attribute_h_attribute_h_m',\n",
       " 'person_prefer_h_3_attribute_h_m_contents_attribute_h_attribute_h_m_squared',\n",
       " 'person_prefer_h_3_attribute_h_l_contents_attribute_h_attribute_h_l',\n",
       " 'person_prefer_h_3_attribute_h_l_contents_attribute_h_attribute_h_l_squared',\n",
       " 'per_kmeans',\n",
       " 'con_kmeans',\n",
       " 'per_con_kmean',\n",
       " 'contents_open_dt_hour',\n",
       " 'contents_open_dt_day',\n",
       " 'contents_open_dt_month',\n",
       " 'd_match_count',\n",
       " 'h_match_count',\n",
       " 'person_prefer_mul',\n",
       " 'contents_attribute_mul',\n",
       " 'prefer_attribute_com',\n",
       " 'content_L_code_sum',\n",
       " 'D1_D_compare',\n",
       " 'D2_D_compare',\n",
       " 'D3_D_compare',\n",
       " 'D_compare',\n",
       " 'D1_D2_compare',\n",
       " 'D1_D3_compare',\n",
       " 'D2_D3_compare',\n",
       " 'D_D_compare',\n",
       " 'H1_H_compare',\n",
       " 'H2_H_compare',\n",
       " 'H3_H_compare',\n",
       " 'H_compare',\n",
       " 'H1_H2_compare',\n",
       " 'H1_H3_compare',\n",
       " 'H2_H3_compare',\n",
       " 'H_H_compare']"
      ]
     },
     "execution_count": 42,
     "metadata": {},
     "output_type": "execute_result"
    }
   ],
   "source": [
    "cat_features"
   ]
  },
  {
   "cell_type": "code",
   "execution_count": 43,
   "metadata": {
    "executionInfo": {
     "elapsed": 3,
     "status": "ok",
     "timestamp": 1641908833006,
     "user": {
      "displayName": "이지평",
      "photoUrl": "https://lh3.googleusercontent.com/a/default-user=s64",
      "userId": "04288060060884002898"
     },
     "user_tz": -540
    },
    "id": "jF96pajucBEH"
   },
   "outputs": [],
   "source": [
    "cat_features = x_train.columns[x_train.nunique() >= 2].tolist()\n",
    "num_features = ['D1_D_compare', 'D2_D_compare', 'D3_D_compare', 'D_compare', \n",
    "                                             'H1_H_compare', 'H2_H_compare', 'H3_H_compare', 'H_compare',\n",
    "                                             'D1_D2_compare', 'D1_D3_compare', 'D2_D3_compare', 'D_D_compare',\n",
    "                                             'H1_H2_compare', 'H1_H3_compare', 'H2_H3_compare', 'H_H_compare',\n",
    "                                              'content_L_code_sum', 'person_contents_mul',\n",
    "                                             'person_prefer_d_3_attribute_d_s_contents_attribute_d_attribute_d_s_squared',\n",
    "                                             'person_prefer_d_3_attribute_d_d_contents_attribute_d_attribute_d_d_squared',\n",
    "                                             'person_prefer_d_3_attribute_d_m_contents_attribute_d_attribute_d_m_squared',\n",
    "                                             'person_prefer_h_3_attribute_h_l_contents_attribute_h_attribute_h_l_squared',\n",
    "                                             'person_prefer_d_3_attribute_d_l_contents_attribute_d_attribute_d_l_squared',\n",
    "                                             'person_prefer_d_2_attribute_d_d_contents_attribute_d_attribute_d_d_squared',\n",
    "                                             'person_prefer_h_2_attribute_h_l_contents_attribute_h_attribute_h_l_squared',\n",
    "                                             'person_prefer_d_2_attribute_d_l_contents_attribute_d_attribute_d_l_squared',\n",
    "                                             'person_prefer_d_2_attribute_d_m_contents_attribute_d_attribute_d_m_squared',\n",
    "                                             'person_prefer_h_2_attribute_h_m_contents_attribute_h_attribute_h_m_squared',\n",
    "                                             'person_prefer_d_2_attribute_d_s_contents_attribute_d_attribute_d_s_squared',\n",
    "                                             'person_prefer_h_3_attribute_h_m_contents_attribute_h_attribute_h_m_squared',\n",
    "                                             'contents_attribute_e_person_prefer_e_squared',\n",
    "                                             'contents_attribute_c_person_prefer_c_squared',\n",
    "                                              'd_match_count',\n",
    "                                             'h_match_count',\n",
    "                                             'person_prefer_mul',\n",
    "                                             'contents_attribute_mul',\n",
    "                                             'prefer_attribute_com'\n",
    "                                            ]\n",
    "cat_features = list(set(cat_features) - set(num_features))"
   ]
  },
  {
   "cell_type": "markdown",
   "metadata": {
    "id": "ukGfEMYLcCOh"
   },
   "source": [
    "### 스케일링"
   ]
  },
  {
   "cell_type": "code",
   "execution_count": 44,
   "metadata": {
    "executionInfo": {
     "elapsed": 421,
     "status": "ok",
     "timestamp": 1641908835288,
     "user": {
      "displayName": "이지평",
      "photoUrl": "https://lh3.googleusercontent.com/a/default-user=s64",
      "userId": "04288060060884002898"
     },
     "user_tz": -540
    },
    "id": "XLbIlDw8cBK8"
   },
   "outputs": [],
   "source": [
    "import numpy as np\n",
    "from joblib import Parallel, delayed\n",
    "from scipy.interpolate import interp1d\n",
    "from scipy.special import erf, erfinv\n",
    "from sklearn.base import BaseEstimator, TransformerMixin\n",
    "from sklearn.utils.validation import FLOAT_DTYPES, check_array, check_is_fitted\n",
    "\n",
    "class GaussRankScaler(BaseEstimator, TransformerMixin):\n",
    "    \"\"\"Transform features by scaling each feature to a normal distribution.\n",
    "    Parameters\n",
    "        ----------\n",
    "        epsilon : float, optional, default 1e-4\n",
    "            A small amount added to the lower bound or subtracted\n",
    "            from the upper bound. This value prevents infinite number\n",
    "            from occurring when applying the inverse error function.\n",
    "        copy : boolean, optional, default True\n",
    "            If False, try to avoid a copy and do inplace scaling instead.\n",
    "            This is not guaranteed to always work inplace; e.g. if the data is\n",
    "            not a NumPy array, a copy may still be returned.\n",
    "        n_jobs : int or None, optional, default None\n",
    "            Number of jobs to run in parallel.\n",
    "            ``None`` means 1 and ``-1`` means using all processors.\n",
    "        interp_kind : str or int, optional, default 'linear'\n",
    "           Specifies the kind of interpolation as a string\n",
    "            ('linear', 'nearest', 'zero', 'slinear', 'quadratic', 'cubic',\n",
    "            'previous', 'next', where 'zero', 'slinear', 'quadratic' and 'cubic'\n",
    "            refer to a spline interpolation of zeroth, first, second or third\n",
    "            order; 'previous' and 'next' simply return the previous or next value\n",
    "            of the point) or as an integer specifying the order of the spline\n",
    "            interpolator to use.\n",
    "        interp_copy : bool, optional, default False\n",
    "            If True, the interpolation function makes internal copies of x and y.\n",
    "            If False, references to `x` and `y` are used.\n",
    "        Attributes\n",
    "        ----------\n",
    "        interp_func_ : list\n",
    "            The interpolation function for each feature in the training set.\n",
    "        \"\"\"\n",
    "\n",
    "    def __init__(self, epsilon=1e-4, copy=True, n_jobs=None, interp_kind='linear', interp_copy=False):\n",
    "        self.epsilon = epsilon\n",
    "        self.copy = copy\n",
    "        self.interp_kind = interp_kind\n",
    "        self.interp_copy = interp_copy\n",
    "        self.fill_value = 'extrapolate'\n",
    "        self.n_jobs = n_jobs\n",
    "\n",
    "    def fit(self, X, y=None):\n",
    "        \"\"\"Fit interpolation function to link rank with original data for future scaling\n",
    "        Parameters\n",
    "        ----------\n",
    "        X : array-like, shape (n_samples, n_features)\n",
    "            The data used to fit interpolation function for later scaling along the features axis.\n",
    "        y\n",
    "            Ignored\n",
    "        \"\"\"\n",
    "        X = check_array(X, copy=self.copy, estimator=self, dtype=FLOAT_DTYPES, force_all_finite=True)\n",
    "\n",
    "        self.interp_func_ = Parallel(n_jobs=self.n_jobs)(delayed(self._fit)(x) for x in X.T)\n",
    "        return self\n",
    "\n",
    "    def _fit(self, x):\n",
    "        x = self.drop_duplicates(x)\n",
    "        rank = np.argsort(np.argsort(x))\n",
    "        bound = 1.0 - self.epsilon\n",
    "        factor = np.max(rank) / 2.0 * bound\n",
    "        scaled_rank = np.clip(rank / factor - bound, -bound, bound)\n",
    "        return interp1d(\n",
    "            x, scaled_rank, kind=self.interp_kind, copy=self.interp_copy, fill_value=self.fill_value)\n",
    "\n",
    "    def transform(self, X, copy=None):\n",
    "        \"\"\"Scale the data with the Gauss Rank algorithm\n",
    "        Parameters\n",
    "        ----------\n",
    "        X : array-like, shape (n_samples, n_features)\n",
    "            The data used to scale along the features axis.\n",
    "        copy : bool, optional (default: None)\n",
    "            Copy the input X or not.\n",
    "        \"\"\"\n",
    "        check_is_fitted(self, 'interp_func_')\n",
    "\n",
    "        copy = copy if copy is not None else self.copy\n",
    "        X = check_array(X, copy=copy, estimator=self, dtype=FLOAT_DTYPES, force_all_finite=True)\n",
    "\n",
    "        X = np.array(Parallel(n_jobs=self.n_jobs)(delayed(self._transform)(i, x) for i, x in enumerate(X.T))).T\n",
    "        return X\n",
    "\n",
    "    def _transform(self, i, x):\n",
    "        return erfinv(self.interp_func_[i](x))\n",
    "\n",
    "    def inverse_transform(self, X, copy=None):\n",
    "        \"\"\"Scale back the data to the original representation\n",
    "        Parameters\n",
    "        ----------\n",
    "        X : array-like, shape [n_samples, n_features]\n",
    "            The data used to scale along the features axis.\n",
    "        copy : bool, optional (default: None)\n",
    "            Copy the input X or not.\n",
    "        \"\"\"\n",
    "        check_is_fitted(self, 'interp_func_')\n",
    "\n",
    "        copy = copy if copy is not None else self.copy\n",
    "        X = check_array(X, copy=copy, estimator=self, dtype=FLOAT_DTYPES, force_all_finite=True)\n",
    "\n",
    "        X = np.array(Parallel(n_jobs=self.n_jobs)(delayed(self._inverse_transform)(i, x) for i, x in enumerate(X.T))).T\n",
    "        return X\n",
    "\n",
    "    def _inverse_transform(self, i, x):\n",
    "        inv_interp_func = interp1d(self.interp_func_[i].y, self.interp_func_[i].x, kind=self.interp_kind,\n",
    "                                   copy=self.interp_copy, fill_value=self.fill_value)\n",
    "        return inv_interp_func(erf(x))\n",
    "\n",
    "    @staticmethod\n",
    "    def drop_duplicates(x):\n",
    "        is_unique = np.zeros_like(x, dtype=bool)\n",
    "        is_unique[np.unique(x, return_index=True)[1]] = True\n",
    "        return x[is_unique]"
   ]
  },
  {
   "cell_type": "code",
   "execution_count": 45,
   "metadata": {
    "executionInfo": {
     "elapsed": 8213,
     "status": "ok",
     "timestamp": 1641908843491,
     "user": {
      "displayName": "이지평",
      "photoUrl": "https://lh3.googleusercontent.com/a/default-user=s64",
      "userId": "04288060060884002898"
     },
     "user_tz": -540
    },
    "id": "EIBH0YDfcBNQ"
   },
   "outputs": [],
   "source": [
    "scaler = GaussRankScaler()\n",
    "x_train[num_features] = pd.DataFrame(scaler.fit_transform(x_train[num_features]))\n",
    "x_test[num_features] = pd.DataFrame(scaler.transform(x_test[num_features]))\n",
    "\n",
    "x_train[num_features].columns = num_features\n",
    "x_test[num_features].columns = num_features"
   ]
  },
  {
   "cell_type": "markdown",
   "metadata": {
    "id": "Ss4e5VS_1-bN"
   },
   "source": [
    "### feature selection"
   ]
  },
  {
   "cell_type": "code",
   "execution_count": 46,
   "metadata": {
    "id": "w_-UJDpa19k6"
   },
   "outputs": [],
   "source": [
    "model = CatBoostClassifier(random_state=SEED, eval_metric=\"F1\", cat_features=cat_features, one_hot_max_size=4, verbose=100)"
   ]
  },
  {
   "cell_type": "code",
   "execution_count": 47,
   "metadata": {
    "id": "siq1Uv8p6Tvf"
   },
   "outputs": [],
   "source": [
    "x_train[num_features] = x_train[num_features].astype(float)\n",
    "x_train[cat_features] = x_train[cat_features].astype(str)\n",
    "\n",
    "x_test[num_features] = x_test[num_features].astype(float)\n",
    "x_test[cat_features] = x_test[cat_features].astype(str)"
   ]
  },
  {
   "cell_type": "code",
   "execution_count": 48,
   "metadata": {},
   "outputs": [
    {
     "name": "stdout",
     "output_type": "stream",
     "text": [
      "Learning rate set to 0.146594\n",
      "0:\tlearn: 0.6176766\ttotal: 2.68s\tremaining: 44m 39s\n",
      "100:\tlearn: 0.6722698\ttotal: 5m 53s\tremaining: 52m 29s\n",
      "200:\tlearn: 0.6790754\ttotal: 11m 13s\tremaining: 44m 38s\n",
      "300:\tlearn: 0.6823341\ttotal: 16m 47s\tremaining: 38m 58s\n",
      "400:\tlearn: 0.6849917\ttotal: 22m 36s\tremaining: 33m 46s\n",
      "500:\tlearn: 0.6870437\ttotal: 28m 20s\tremaining: 28m 14s\n",
      "600:\tlearn: 0.6890181\ttotal: 33m 50s\tremaining: 22m 28s\n",
      "700:\tlearn: 0.6905038\ttotal: 39m 26s\tremaining: 16m 49s\n",
      "800:\tlearn: 0.6916727\ttotal: 44m 45s\tremaining: 11m 7s\n",
      "900:\tlearn: 0.6935998\ttotal: 50m 10s\tremaining: 5m 30s\n",
      "999:\tlearn: 0.6951411\ttotal: 55m 33s\tremaining: 0us\n"
     ]
    }
   ],
   "source": [
    "from sklearn.feature_selection import SelectFromModel\n",
    "sfm = SelectFromModel(model, threshold='median')\n",
    "sfm.fit(x_train, y_train)\n",
    "x_new = sfm.transform(x_train)\n",
    "x_te_new = sfm.transform(x_test)\n",
    "feature_idx = sfm.get_support()\n",
    "feature_name = x_train.columns[feature_idx]"
   ]
  },
  {
   "cell_type": "code",
   "execution_count": 49,
   "metadata": {
    "id": "PioqPqeB19p4"
   },
   "outputs": [],
   "source": [
    "x_new = pd.DataFrame(x_new)\n",
    "x_te_new = pd.DataFrame(x_te_new)\n",
    "\n",
    "x_new.columns = feature_name\n",
    "x_te_new.columns = feature_name"
   ]
  },
  {
   "cell_type": "code",
   "execution_count": 51,
   "metadata": {
    "colab": {
     "base_uri": "https://localhost:8080/"
    },
    "executionInfo": {
     "elapsed": 6,
     "status": "ok",
     "timestamp": 1641827726280,
     "user": {
      "displayName": "이지평",
      "photoUrl": "https://lh3.googleusercontent.com/a/default-user=s64",
      "userId": "04288060060884002898"
     },
     "user_tz": -540
    },
    "id": "befznQ6819xQ",
    "outputId": "37782f9b-00b0-434f-8bbe-3131a2402219",
    "scrolled": true
   },
   "outputs": [
    {
     "data": {
      "text/plain": [
       "((501951, 59), (46404, 59))"
      ]
     },
     "execution_count": 51,
     "metadata": {},
     "output_type": "execute_result"
    }
   ],
   "source": [
    "x_new.shape,x_te_new.shape"
   ]
  },
  {
   "cell_type": "markdown",
   "metadata": {
    "id": "znNfDXk8HdM1"
   },
   "source": [
    "### 학습 파라미터"
   ]
  },
  {
   "cell_type": "code",
   "execution_count": 58,
   "metadata": {
    "executionInfo": {
     "elapsed": 509,
     "status": "ok",
     "timestamp": 1641908848957,
     "user": {
      "displayName": "이지평",
      "photoUrl": "https://lh3.googleusercontent.com/a/default-user=s64",
      "userId": "04288060060884002898"
     },
     "user_tz": -540
    },
    "id": "A2ejdmvOHdM1"
   },
   "outputs": [],
   "source": [
    "is_holdout = False\n",
    "n_splits = 5\n",
    "iterations = 3000\n",
    "patience = 100\n",
    "\n",
    "cv = KFold(n_splits=n_splits, shuffle=True, random_state=SEED)"
   ]
  },
  {
   "cell_type": "code",
   "execution_count": 59,
   "metadata": {
    "id": "oV9-guTA58Xe"
   },
   "outputs": [],
   "source": [
    "cat_features = x_new.columns[x_new.nunique() >= 2].tolist()\n",
    "num_features = list([ 'contents_attribute_e_person_prefer_e_squared',\n",
    "       'person_prefer_h_1_attribute_h_l_contents_attribute_h_attribute_h_l_squared',\n",
    "       'per_kmeans', 'con_kmeans', 'per_con_kmean', 'contents_open_dt_hour',\n",
    "       'contents_open_dt_month', 'contents_attribute_mul',\n",
    "       'content_L_code_sum', 'D1_D_compare', 'D_compare', 'D1_D2_compare',\n",
    "       'D1_D3_compare', 'D_D_compare', 'H1_H_compare', 'H_compare']\n",
    "                                             )\n",
    "cat_features = list(set(cat_features) - set(num_features))"
   ]
  },
  {
   "cell_type": "code",
   "execution_count": 60,
   "metadata": {
    "executionInfo": {
     "elapsed": 2,
     "status": "ok",
     "timestamp": 1641908849308,
     "user": {
      "displayName": "이지평",
      "photoUrl": "https://lh3.googleusercontent.com/a/default-user=s64",
      "userId": "04288060060884002898"
     },
     "user_tz": -540
    },
    "id": "0UY_rQPKGcsm"
   },
   "outputs": [],
   "source": [
    "x_new[num_features] = x_new[num_features].astype(float)\n",
    "x_new[cat_features] = x_new[cat_features].astype(str)\n",
    "\n",
    "x_te_new[num_features] = x_te_new[num_features].astype(float)\n",
    "x_te_new[cat_features] = x_te_new[cat_features].astype(str)"
   ]
  },
  {
   "cell_type": "markdown",
   "metadata": {
    "id": "Y9Ct2VRJHdM1"
   },
   "source": [
    "### 학습"
   ]
  },
  {
   "cell_type": "code",
   "execution_count": 61,
   "metadata": {
    "colab": {
     "base_uri": "https://localhost:8080/"
    },
    "executionInfo": {
     "elapsed": 493315,
     "status": "ok",
     "timestamp": 1641828290571,
     "user": {
      "displayName": "이지평",
      "photoUrl": "https://lh3.googleusercontent.com/a/default-user=s64",
      "userId": "04288060060884002898"
     },
     "user_tz": -540
    },
    "id": "e2-INHHZHFJv",
    "outputId": "0847f7a6-2f0e-4779-8155-6969d1f72370",
    "scrolled": true
   },
   "outputs": [
    {
     "name": "stdout",
     "output_type": "stream",
     "text": [
      "==================================================\n",
      "Learning rate set to 0.086395\n",
      "0:\tlearn: 0.6323506\ttest: 0.6546117\tbest: 0.6546117 (0)\ttotal: 2.8s\tremaining: 2h 20m 3s\n",
      "100:\tlearn: 0.6601830\ttest: 0.6838303\tbest: 0.6838303 (100)\ttotal: 4m 7s\tremaining: 1h 58m 28s\n",
      "200:\tlearn: 0.6675362\ttest: 0.6905417\tbest: 0.6905815 (192)\ttotal: 7m 59s\tremaining: 1h 51m 23s\n",
      "300:\tlearn: 0.6713473\ttest: 0.6916148\tbest: 0.6916559 (299)\ttotal: 11m 59s\tremaining: 1h 47m 30s\n",
      "400:\tlearn: 0.6741031\ttest: 0.6927639\tbest: 0.6930245 (367)\ttotal: 16m\tremaining: 1h 43m 44s\n",
      "500:\tlearn: 0.6759529\ttest: 0.6928782\tbest: 0.6930560 (414)\ttotal: 20m 49s\tremaining: 1h 43m 54s\n",
      "600:\tlearn: 0.6777427\ttest: 0.6932065\tbest: 0.6934627 (590)\ttotal: 25m 54s\tremaining: 1h 43m 24s\n",
      "700:\tlearn: 0.6794223\ttest: 0.6935572\tbest: 0.6936492 (685)\ttotal: 31m 24s\tremaining: 1h 43m 1s\n",
      "800:\tlearn: 0.6804999\ttest: 0.6934461\tbest: 0.6939205 (735)\ttotal: 37m 17s\tremaining: 1h 42m 21s\n",
      "Stopped by overfitting detector  (100 iterations wait)\n",
      "\n",
      "bestTest = 0.6939204732\n",
      "bestIteration = 735\n",
      "\n",
      "Shrink model to first 736 iterations.\n",
      "==================================================\n",
      "Learning rate set to 0.086395\n",
      "0:\tlearn: 0.6468843\ttest: 0.6557917\tbest: 0.6557917 (0)\ttotal: 3.16s\tremaining: 2h 38m 9s\n",
      "100:\tlearn: 0.6596458\ttest: 0.6844111\tbest: 0.6844111 (100)\ttotal: 5m 5s\tremaining: 2h 25m 59s\n",
      "200:\tlearn: 0.6666380\ttest: 0.6892229\tbest: 0.6894683 (188)\ttotal: 9m 56s\tremaining: 2h 18m 22s\n",
      "300:\tlearn: 0.6699861\ttest: 0.6915827\tbest: 0.6915827 (300)\ttotal: 15m 9s\tremaining: 2h 15m 55s\n",
      "400:\tlearn: 0.6727380\ttest: 0.6924602\tbest: 0.6928050 (362)\ttotal: 20m 26s\tremaining: 2h 12m 26s\n",
      "500:\tlearn: 0.6755156\ttest: 0.6929575\tbest: 0.6932834 (458)\ttotal: 25m 36s\tremaining: 2h 7m 46s\n",
      "Stopped by overfitting detector  (100 iterations wait)\n",
      "\n",
      "bestTest = 0.6932834425\n",
      "bestIteration = 458\n",
      "\n",
      "Shrink model to first 459 iterations.\n",
      "==================================================\n",
      "Learning rate set to 0.086395\n",
      "0:\tlearn: 0.6036078\ttest: 0.6055825\tbest: 0.6055825 (0)\ttotal: 3.21s\tremaining: 2h 40m 16s\n",
      "100:\tlearn: 0.6598514\ttest: 0.6832702\tbest: 0.6833096 (99)\ttotal: 5m 27s\tremaining: 2h 36m 35s\n",
      "200:\tlearn: 0.6676138\ttest: 0.6886994\tbest: 0.6890472 (193)\ttotal: 10m 54s\tremaining: 2h 31m 51s\n",
      "300:\tlearn: 0.6710362\ttest: 0.6895623\tbest: 0.6898155 (273)\ttotal: 16m 35s\tremaining: 2h 28m 43s\n",
      "400:\tlearn: 0.6741006\ttest: 0.6900088\tbest: 0.6902202 (397)\ttotal: 22m 11s\tremaining: 2h 23m 52s\n",
      "500:\tlearn: 0.6758763\ttest: 0.6908340\tbest: 0.6910418 (461)\ttotal: 27m 46s\tremaining: 2h 18m 32s\n",
      "Stopped by overfitting detector  (100 iterations wait)\n",
      "\n",
      "bestTest = 0.6910418074\n",
      "bestIteration = 461\n",
      "\n",
      "Shrink model to first 462 iterations.\n",
      "==================================================\n",
      "Learning rate set to 0.086395\n",
      "0:\tlearn: 0.6314338\ttest: 0.6367069\tbest: 0.6367069 (0)\ttotal: 3.69s\tremaining: 3h 4m 22s\n",
      "100:\tlearn: 0.6606721\ttest: 0.6830741\tbest: 0.6830741 (100)\ttotal: 5m 43s\tremaining: 2h 44m 23s\n",
      "200:\tlearn: 0.6672936\ttest: 0.6882714\tbest: 0.6887592 (191)\ttotal: 11m 9s\tremaining: 2h 35m 23s\n",
      "300:\tlearn: 0.6717173\ttest: 0.6902537\tbest: 0.6905882 (260)\ttotal: 17m 14s\tremaining: 2h 34m 38s\n",
      "400:\tlearn: 0.6739544\ttest: 0.6908256\tbest: 0.6910699 (393)\ttotal: 24m 20s\tremaining: 2h 37m 48s\n",
      "500:\tlearn: 0.6761739\ttest: 0.6916314\tbest: 0.6916314 (500)\ttotal: 31m 36s\tremaining: 2h 37m 41s\n",
      "600:\tlearn: 0.6782737\ttest: 0.6918206\tbest: 0.6920370 (594)\ttotal: 39m 20s\tremaining: 2h 37m 2s\n",
      "700:\tlearn: 0.6798087\ttest: 0.6923084\tbest: 0.6923084 (700)\ttotal: 47m 1s\tremaining: 2h 34m 11s\n",
      "800:\tlearn: 0.6811421\ttest: 0.6920895\tbest: 0.6923504 (740)\ttotal: 54m 13s\tremaining: 2h 28m 52s\n",
      "900:\tlearn: 0.6825616\ttest: 0.6927064\tbest: 0.6929070 (882)\ttotal: 1h 1m 34s\tremaining: 2h 23m 25s\n",
      "1000:\tlearn: 0.6838123\ttest: 0.6935656\tbest: 0.6936248 (999)\ttotal: 1h 9m 6s\tremaining: 2h 18m\n",
      "1100:\tlearn: 0.6851166\ttest: 0.6937606\tbest: 0.6939976 (1070)\ttotal: 1h 16m 4s\tremaining: 2h 11m 13s\n",
      "Stopped by overfitting detector  (100 iterations wait)\n",
      "\n",
      "bestTest = 0.6939975685\n",
      "bestIteration = 1070\n",
      "\n",
      "Shrink model to first 1071 iterations.\n",
      "==================================================\n",
      "Learning rate set to 0.086395\n",
      "0:\tlearn: 0.6565724\ttest: 0.6602785\tbest: 0.6602785 (0)\ttotal: 3.56s\tremaining: 2h 58m 8s\n",
      "100:\tlearn: 0.6594841\ttest: 0.6826027\tbest: 0.6826027 (100)\ttotal: 6m 44s\tremaining: 3h 13m 22s\n",
      "200:\tlearn: 0.6664629\ttest: 0.6889521\tbest: 0.6890610 (199)\ttotal: 14m 12s\tremaining: 3h 17m 50s\n",
      "300:\tlearn: 0.6706292\ttest: 0.6906323\tbest: 0.6909433 (283)\ttotal: 21m 20s\tremaining: 3h 11m 19s\n",
      "400:\tlearn: 0.6733188\ttest: 0.6913331\tbest: 0.6915114 (397)\ttotal: 28m 36s\tremaining: 3h 5m 25s\n",
      "500:\tlearn: 0.6753480\ttest: 0.6929411\tbest: 0.6929411 (500)\ttotal: 36m 19s\tremaining: 3h 1m 9s\n",
      "600:\tlearn: 0.6771525\ttest: 0.6927238\tbest: 0.6930819 (509)\ttotal: 42m 27s\tremaining: 2h 49m 27s\n",
      "Stopped by overfitting detector  (100 iterations wait)\n",
      "\n",
      "bestTest = 0.6930818903\n",
      "bestIteration = 509\n",
      "\n",
      "Shrink model to first 510 iterations.\n"
     ]
    }
   ],
   "source": [
    "scores = []\n",
    "models = []\n",
    "for tri, vai in cv.split(x_new):\n",
    "    print(\"=\"*50)\n",
    "    preds = []\n",
    "\n",
    "    model = CatBoostClassifier(iterations=iterations, \n",
    "                               random_state=SEED,\n",
    "   #                            task_type=\"GPU\",\n",
    "                               eval_metric=\"F1\",\n",
    "                               cat_features=cat_features,\n",
    "                               one_hot_max_size=4)\n",
    "    model.fit(x_new.iloc[tri], y_train[tri], \n",
    "            eval_set=[(x_new.iloc[vai], y_train[vai])], \n",
    "            early_stopping_rounds=patience,\n",
    "            verbose=100\n",
    "        )\n",
    "    \n",
    "    models.append(model)\n",
    "    scores.append(model.get_best_score()[\"validation\"][\"F1\"])\n",
    "    if is_holdout:\n",
    "        break    "
   ]
  },
  {
   "cell_type": "markdown",
   "metadata": {
    "id": "HZU8e1zAHdM1"
   },
   "source": [
    "### cv 결과 확인"
   ]
  },
  {
   "cell_type": "code",
   "execution_count": 62,
   "metadata": {},
   "outputs": [
    {
     "name": "stdout",
     "output_type": "stream",
     "text": [
      "[0.69392047321722, 0.6932834424695978, 0.6910418074007356, 0.6939975684921824, 0.6930818903082918]\n",
      "0.6930650363776055\n"
     ]
    }
   ],
   "source": [
    "print(scores)\n",
    "print(np.mean(scores))"
   ]
  },
  {
   "cell_type": "markdown",
   "metadata": {
    "id": "EYUbHiLQHdM2"
   },
   "source": [
    "### threshold 정의"
   ]
  },
  {
   "cell_type": "code",
   "execution_count": 63,
   "metadata": {
    "executionInfo": {
     "elapsed": 311,
     "status": "ok",
     "timestamp": 1641905545470,
     "user": {
      "displayName": "이지평",
      "photoUrl": "https://lh3.googleusercontent.com/a/default-user=s64",
      "userId": "04288060060884002898"
     },
     "user_tz": -540
    },
    "id": "KuPUPxDQHdM2"
   },
   "outputs": [],
   "source": [
    "threshold = 0.375"
   ]
  },
  {
   "cell_type": "markdown",
   "metadata": {
    "id": "rBrFNT4YHdM2"
   },
   "source": [
    "### threshold값 변경에 따른 검증점수 확인 및 추론"
   ]
  },
  {
   "cell_type": "code",
   "execution_count": 64,
   "metadata": {},
   "outputs": [
    {
     "name": "stdout",
     "output_type": "stream",
     "text": [
      "[0.7170974550957825, 0.7167593378439475, 0.7157052912744848, 0.7175540665248967, 0.71428231279019]\n",
      "0.7162796927058602\n"
     ]
    }
   ],
   "source": [
    "pred_list = []\n",
    "scores = []\n",
    "for i,(tri, vai) in enumerate(cv.split(x_new)):\n",
    "    \n",
    "    pred = models[i].predict_proba(x_new.iloc[vai])[:, 1]\n",
    "    pred = np.where(pred >= threshold, 1, 0)\n",
    "    score = f1_score(y_train[vai], pred)\n",
    "    scores.append(score)\n",
    "    pred = models[i].predict_proba(x_te_new)[:, 1]\n",
    "    pred_list.append(pred)\n",
    "print(scores)\n",
    "print(np.mean(scores))\n",
    "#375"
   ]
  },
  {
   "cell_type": "markdown",
   "metadata": {},
   "source": [
    "### threshold 0.375"
   ]
  },
  {
   "cell_type": "markdown",
   "metadata": {
    "id": "kBITajVXHdM2"
   },
   "source": [
    "### 산술평균 앙상블"
   ]
  },
  {
   "cell_type": "code",
   "execution_count": 65,
   "metadata": {
    "executionInfo": {
     "elapsed": 311,
     "status": "ok",
     "timestamp": 1641905639316,
     "user": {
      "displayName": "이지평",
      "photoUrl": "https://lh3.googleusercontent.com/a/default-user=s64",
      "userId": "04288060060884002898"
     },
     "user_tz": -540
    },
    "id": "Bs86Kx1DHdM2"
   },
   "outputs": [],
   "source": [
    "pred = np.mean(pred_list[:], axis=0)\n",
    "pred = np.where(pred >= threshold, 1, 0)"
   ]
  },
  {
   "cell_type": "markdown",
   "metadata": {
    "id": "10bb28UjHdM3"
   },
   "source": [
    "### submission"
   ]
  },
  {
   "cell_type": "code",
   "execution_count": 66,
   "metadata": {
    "colab": {
     "base_uri": "https://localhost:8080/",
     "height": 424
    },
    "executionInfo": {
     "elapsed": 355,
     "status": "ok",
     "timestamp": 1641905641047,
     "user": {
      "displayName": "이지평",
      "photoUrl": "https://lh3.googleusercontent.com/a/default-user=s64",
      "userId": "04288060060884002898"
     },
     "user_tz": -540
    },
    "id": "cxqkn-8EHdM3",
    "outputId": "b4e7bad0-874b-4821-d380-7129a5a3a425"
   },
   "outputs": [
    {
     "data": {
      "text/html": [
       "<div>\n",
       "<style scoped>\n",
       "    .dataframe tbody tr th:only-of-type {\n",
       "        vertical-align: middle;\n",
       "    }\n",
       "\n",
       "    .dataframe tbody tr th {\n",
       "        vertical-align: top;\n",
       "    }\n",
       "\n",
       "    .dataframe thead th {\n",
       "        text-align: right;\n",
       "    }\n",
       "</style>\n",
       "<table border=\"1\" class=\"dataframe\">\n",
       "  <thead>\n",
       "    <tr style=\"text-align: right;\">\n",
       "      <th></th>\n",
       "      <th>id</th>\n",
       "      <th>target</th>\n",
       "    </tr>\n",
       "  </thead>\n",
       "  <tbody>\n",
       "    <tr>\n",
       "      <th>0</th>\n",
       "      <td>0</td>\n",
       "      <td>0</td>\n",
       "    </tr>\n",
       "    <tr>\n",
       "      <th>1</th>\n",
       "      <td>1</td>\n",
       "      <td>0</td>\n",
       "    </tr>\n",
       "    <tr>\n",
       "      <th>2</th>\n",
       "      <td>2</td>\n",
       "      <td>0</td>\n",
       "    </tr>\n",
       "    <tr>\n",
       "      <th>3</th>\n",
       "      <td>3</td>\n",
       "      <td>0</td>\n",
       "    </tr>\n",
       "    <tr>\n",
       "      <th>4</th>\n",
       "      <td>4</td>\n",
       "      <td>0</td>\n",
       "    </tr>\n",
       "    <tr>\n",
       "      <th>...</th>\n",
       "      <td>...</td>\n",
       "      <td>...</td>\n",
       "    </tr>\n",
       "    <tr>\n",
       "      <th>46399</th>\n",
       "      <td>46399</td>\n",
       "      <td>1</td>\n",
       "    </tr>\n",
       "    <tr>\n",
       "      <th>46400</th>\n",
       "      <td>46400</td>\n",
       "      <td>1</td>\n",
       "    </tr>\n",
       "    <tr>\n",
       "      <th>46401</th>\n",
       "      <td>46401</td>\n",
       "      <td>1</td>\n",
       "    </tr>\n",
       "    <tr>\n",
       "      <th>46402</th>\n",
       "      <td>46402</td>\n",
       "      <td>1</td>\n",
       "    </tr>\n",
       "    <tr>\n",
       "      <th>46403</th>\n",
       "      <td>46403</td>\n",
       "      <td>1</td>\n",
       "    </tr>\n",
       "  </tbody>\n",
       "</table>\n",
       "<p>46404 rows × 2 columns</p>\n",
       "</div>"
      ],
      "text/plain": [
       "          id  target\n",
       "0          0       0\n",
       "1          1       0\n",
       "2          2       0\n",
       "3          3       0\n",
       "4          4       0\n",
       "...      ...     ...\n",
       "46399  46399       1\n",
       "46400  46400       1\n",
       "46401  46401       1\n",
       "46402  46402       1\n",
       "46403  46403       1\n",
       "\n",
       "[46404 rows x 2 columns]"
      ]
     },
     "execution_count": 66,
     "metadata": {},
     "output_type": "execute_result"
    }
   ],
   "source": [
    "sample_submission = pd.read_csv('data/sample_submission.csv')\n",
    "sample_submission['target'] = pred\n",
    "sample_submission"
   ]
  },
  {
   "cell_type": "code",
   "execution_count": 67,
   "metadata": {
    "colab": {
     "base_uri": "https://localhost:8080/"
    },
    "executionInfo": {
     "elapsed": 331,
     "status": "ok",
     "timestamp": 1641905644054,
     "user": {
      "displayName": "이지평",
      "photoUrl": "https://lh3.googleusercontent.com/a/default-user=s64",
      "userId": "04288060060884002898"
     },
     "user_tz": -540
    },
    "id": "qmRc0sfinPu9",
    "outputId": "31fc91ce-109a-4682-b216-4a2a516cca42"
   },
   "outputs": [
    {
     "data": {
      "text/plain": [
       "1    34254\n",
       "0    12150\n",
       "Name: target, dtype: int64"
      ]
     },
     "execution_count": 67,
     "metadata": {},
     "output_type": "execute_result"
    }
   ],
   "source": [
    "sample_submission['target'].value_counts()"
   ]
  },
  {
   "cell_type": "code",
   "execution_count": 68,
   "metadata": {},
   "outputs": [],
   "source": [
    "sample_submission.to_csv(\"data/pred0125_375_0.70423.csv\", index=False)"
   ]
  },
  {
   "cell_type": "code",
   "execution_count": null,
   "metadata": {},
   "outputs": [],
   "source": [
    "(pd.DataFrame(pred_list).T).to_csv(f\"{SUBMIT_PATH}predproba0125_375_0.70423.csv\", index=False)"
   ]
  },
  {
   "cell_type": "markdown",
   "metadata": {
    "id": "q2C3KRtVbcp1"
   },
   "source": [
    "### feature importance"
   ]
  },
  {
   "cell_type": "code",
   "execution_count": 69,
   "metadata": {
    "executionInfo": {
     "elapsed": 336,
     "status": "ok",
     "timestamp": 1641905670008,
     "user": {
      "displayName": "이지평",
      "photoUrl": "https://lh3.googleusercontent.com/a/default-user=s64",
      "userId": "04288060060884002898"
     },
     "user_tz": -540
    },
    "id": "SMSquqUjHdM3"
   },
   "outputs": [],
   "source": [
    "values = model.get_feature_importance(type='FeatureImportance')\n",
    "fi = pd.DataFrame(x_new.columns)\n",
    "fi['values'] = values\n",
    "fi.columns = ['column', 'values']"
   ]
  },
  {
   "cell_type": "code",
   "execution_count": 70,
   "metadata": {
    "colab": {
     "base_uri": "https://localhost:8080/",
     "height": 990
    },
    "executionInfo": {
     "elapsed": 357,
     "status": "ok",
     "timestamp": 1641907303186,
     "user": {
      "displayName": "이지평",
      "photoUrl": "https://lh3.googleusercontent.com/a/default-user=s64",
      "userId": "04288060060884002898"
     },
     "user_tz": -540
    },
    "id": "c27gmP1Ja4Do",
    "outputId": "48480bf2-3412-4d79-a7c2-d1d934dab20d"
   },
   "outputs": [
    {
     "data": {
      "text/html": [
       "<div>\n",
       "<style scoped>\n",
       "    .dataframe tbody tr th:only-of-type {\n",
       "        vertical-align: middle;\n",
       "    }\n",
       "\n",
       "    .dataframe tbody tr th {\n",
       "        vertical-align: top;\n",
       "    }\n",
       "\n",
       "    .dataframe thead th {\n",
       "        text-align: right;\n",
       "    }\n",
       "</style>\n",
       "<table border=\"1\" class=\"dataframe\">\n",
       "  <thead>\n",
       "    <tr style=\"text-align: right;\">\n",
       "      <th></th>\n",
       "      <th>column</th>\n",
       "      <th>values</th>\n",
       "    </tr>\n",
       "  </thead>\n",
       "  <tbody>\n",
       "    <tr>\n",
       "      <th>53</th>\n",
       "      <td>D_compare</td>\n",
       "      <td>9.480334</td>\n",
       "    </tr>\n",
       "    <tr>\n",
       "      <th>13</th>\n",
       "      <td>contents_attribute_d</td>\n",
       "      <td>7.405525</td>\n",
       "    </tr>\n",
       "    <tr>\n",
       "      <th>11</th>\n",
       "      <td>contents_attribute_j_1</td>\n",
       "      <td>5.773934</td>\n",
       "    </tr>\n",
       "    <tr>\n",
       "      <th>12</th>\n",
       "      <td>contents_attribute_l</td>\n",
       "      <td>5.711450</td>\n",
       "    </tr>\n",
       "    <tr>\n",
       "      <th>16</th>\n",
       "      <td>contents_attribute_h</td>\n",
       "      <td>4.580179</td>\n",
       "    </tr>\n",
       "    <tr>\n",
       "      <th>36</th>\n",
       "      <td>contents_attribute_h_attribute_h_m</td>\n",
       "      <td>3.958212</td>\n",
       "    </tr>\n",
       "    <tr>\n",
       "      <th>19</th>\n",
       "      <td>person_prefer_d_1_attribute_d_s</td>\n",
       "      <td>3.095873</td>\n",
       "    </tr>\n",
       "    <tr>\n",
       "      <th>18</th>\n",
       "      <td>person_prefer_d_1_attribute_d_d</td>\n",
       "      <td>2.790939</td>\n",
       "    </tr>\n",
       "    <tr>\n",
       "      <th>57</th>\n",
       "      <td>H1_H_compare</td>\n",
       "      <td>2.714651</td>\n",
       "    </tr>\n",
       "    <tr>\n",
       "      <th>0</th>\n",
       "      <td>person_attribute_a_1</td>\n",
       "      <td>2.688221</td>\n",
       "    </tr>\n",
       "    <tr>\n",
       "      <th>3</th>\n",
       "      <td>person_prefer_d_1</td>\n",
       "      <td>2.654609</td>\n",
       "    </tr>\n",
       "    <tr>\n",
       "      <th>27</th>\n",
       "      <td>contents_attribute_d_attribute_d_d</td>\n",
       "      <td>2.547364</td>\n",
       "    </tr>\n",
       "    <tr>\n",
       "      <th>6</th>\n",
       "      <td>person_prefer_e</td>\n",
       "      <td>2.323476</td>\n",
       "    </tr>\n",
       "    <tr>\n",
       "      <th>15</th>\n",
       "      <td>contents_attribute_e</td>\n",
       "      <td>2.275169</td>\n",
       "    </tr>\n",
       "    <tr>\n",
       "      <th>52</th>\n",
       "      <td>D1_D_compare</td>\n",
       "      <td>2.272075</td>\n",
       "    </tr>\n",
       "    <tr>\n",
       "      <th>10</th>\n",
       "      <td>contents_attribute_a</td>\n",
       "      <td>2.101810</td>\n",
       "    </tr>\n",
       "    <tr>\n",
       "      <th>48</th>\n",
       "      <td>contents_open_dt_hour</td>\n",
       "      <td>1.910383</td>\n",
       "    </tr>\n",
       "    <tr>\n",
       "      <th>38</th>\n",
       "      <td>contents_attribute_l_attribute_l_d</td>\n",
       "      <td>1.823859</td>\n",
       "    </tr>\n",
       "    <tr>\n",
       "      <th>7</th>\n",
       "      <td>person_prefer_h_1</td>\n",
       "      <td>1.742236</td>\n",
       "    </tr>\n",
       "    <tr>\n",
       "      <th>28</th>\n",
       "      <td>contents_attribute_d_attribute_d_s</td>\n",
       "      <td>1.715754</td>\n",
       "    </tr>\n",
       "    <tr>\n",
       "      <th>8</th>\n",
       "      <td>person_prefer_h_2</td>\n",
       "      <td>1.713245</td>\n",
       "    </tr>\n",
       "    <tr>\n",
       "      <th>22</th>\n",
       "      <td>person_prefer_d_2_attribute_d_d</td>\n",
       "      <td>1.668886</td>\n",
       "    </tr>\n",
       "    <tr>\n",
       "      <th>4</th>\n",
       "      <td>person_prefer_d_2</td>\n",
       "      <td>1.538857</td>\n",
       "    </tr>\n",
       "    <tr>\n",
       "      <th>43</th>\n",
       "      <td>contents_attribute_e_person_prefer_e_squared</td>\n",
       "      <td>1.446805</td>\n",
       "    </tr>\n",
       "    <tr>\n",
       "      <th>39</th>\n",
       "      <td>contents_attribute_l_attribute_l_s</td>\n",
       "      <td>1.398354</td>\n",
       "    </tr>\n",
       "    <tr>\n",
       "      <th>1</th>\n",
       "      <td>person_attribute_b</td>\n",
       "      <td>1.373213</td>\n",
       "    </tr>\n",
       "    <tr>\n",
       "      <th>58</th>\n",
       "      <td>H_compare</td>\n",
       "      <td>1.355442</td>\n",
       "    </tr>\n",
       "    <tr>\n",
       "      <th>31</th>\n",
       "      <td>person_prefer_h_1_attribute_h_m</td>\n",
       "      <td>1.336062</td>\n",
       "    </tr>\n",
       "    <tr>\n",
       "      <th>23</th>\n",
       "      <td>person_prefer_d_2_attribute_d_s</td>\n",
       "      <td>1.245329</td>\n",
       "    </tr>\n",
       "    <tr>\n",
       "      <th>5</th>\n",
       "      <td>person_prefer_d_3</td>\n",
       "      <td>1.225065</td>\n",
       "    </tr>\n",
       "  </tbody>\n",
       "</table>\n",
       "</div>"
      ],
      "text/plain": [
       "                                          column    values\n",
       "53                                     D_compare  9.480334\n",
       "13                          contents_attribute_d  7.405525\n",
       "11                        contents_attribute_j_1  5.773934\n",
       "12                          contents_attribute_l  5.711450\n",
       "16                          contents_attribute_h  4.580179\n",
       "36            contents_attribute_h_attribute_h_m  3.958212\n",
       "19               person_prefer_d_1_attribute_d_s  3.095873\n",
       "18               person_prefer_d_1_attribute_d_d  2.790939\n",
       "57                                  H1_H_compare  2.714651\n",
       "0                           person_attribute_a_1  2.688221\n",
       "3                              person_prefer_d_1  2.654609\n",
       "27            contents_attribute_d_attribute_d_d  2.547364\n",
       "6                                person_prefer_e  2.323476\n",
       "15                          contents_attribute_e  2.275169\n",
       "52                                  D1_D_compare  2.272075\n",
       "10                          contents_attribute_a  2.101810\n",
       "48                         contents_open_dt_hour  1.910383\n",
       "38            contents_attribute_l_attribute_l_d  1.823859\n",
       "7                              person_prefer_h_1  1.742236\n",
       "28            contents_attribute_d_attribute_d_s  1.715754\n",
       "8                              person_prefer_h_2  1.713245\n",
       "22               person_prefer_d_2_attribute_d_d  1.668886\n",
       "4                              person_prefer_d_2  1.538857\n",
       "43  contents_attribute_e_person_prefer_e_squared  1.446805\n",
       "39            contents_attribute_l_attribute_l_s  1.398354\n",
       "1                             person_attribute_b  1.373213\n",
       "58                                     H_compare  1.355442\n",
       "31               person_prefer_h_1_attribute_h_m  1.336062\n",
       "23               person_prefer_d_2_attribute_d_s  1.245329\n",
       "5                              person_prefer_d_3  1.225065"
      ]
     },
     "execution_count": 70,
     "metadata": {},
     "output_type": "execute_result"
    }
   ],
   "source": [
    "fi.sort_values(by='values', ascending=False).head(30)"
   ]
  },
  {
   "cell_type": "code",
   "execution_count": null,
   "metadata": {},
   "outputs": [],
   "source": []
  }
 ],
 "metadata": {
  "accelerator": "GPU",
  "colab": {
   "collapsed_sections": [
    "Ss4e5VS_1-bN"
   ],
   "machine_shape": "hm",
   "name": "0111_.ipynb",
   "provenance": []
  },
  "kernelspec": {
   "display_name": "Python 3",
   "language": "python",
   "name": "python3"
  },
  "language_info": {
   "codemirror_mode": {
    "name": "ipython",
    "version": 3
   },
   "file_extension": ".py",
   "mimetype": "text/x-python",
   "name": "python",
   "nbconvert_exporter": "python",
   "pygments_lexer": "ipython3",
   "version": "3.8.5"
  },
  "varInspector": {
   "cols": {
    "lenName": 16,
    "lenType": 16,
    "lenVar": 40
   },
   "kernels_config": {
    "python": {
     "delete_cmd_postfix": "",
     "delete_cmd_prefix": "del ",
     "library": "var_list.py",
     "varRefreshCmd": "print(var_dic_list())"
    },
    "r": {
     "delete_cmd_postfix": ") ",
     "delete_cmd_prefix": "rm(",
     "library": "var_list.r",
     "varRefreshCmd": "cat(var_dic_list()) "
    }
   },
   "types_to_exclude": [
    "module",
    "function",
    "builtin_function_or_method",
    "instance",
    "_Feature"
   ],
   "window_display": false
  }
 },
 "nbformat": 4,
 "nbformat_minor": 1
}
